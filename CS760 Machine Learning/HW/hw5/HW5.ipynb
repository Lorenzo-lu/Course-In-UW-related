{
 "cells": [
  {
   "cell_type": "code",
   "execution_count": 1,
   "metadata": {},
   "outputs": [],
   "source": [
    "import pandas as pd;\n",
    "import numpy as np;\n",
    "import matplotlib.pyplot as plt;\n",
    "from numpy import linalg;"
   ]
  },
  {
   "cell_type": "code",
   "execution_count": 2,
   "metadata": {},
   "outputs": [],
   "source": [
    "df_Mendota = pd.read_csv(\"Mendota.csv\");\n",
    "df_Monona = pd.read_csv(\"Monona.csv\");"
   ]
  },
  {
   "cell_type": "code",
   "execution_count": 3,
   "metadata": {},
   "outputs": [],
   "source": [
    "## get the data from the csv\n",
    "def Data_aquire(df):\n",
    "    years = list(df[\"WINTER\"]);\n",
    "    \n",
    "    days = list(df[\"DAYS\"]);\n",
    "    data_set = []; \n",
    "    \n",
    "       \n",
    "    def is_int(s):\n",
    "        try:\n",
    "            int(s);\n",
    "            return True;\n",
    "        except ValueError:\n",
    "            return False;\n",
    "        \n",
    "    i = 0; \n",
    "    while i < len(years):  \n",
    "        if len(years[i]) < 7 and type(years[i]) == str:\n",
    "            years[i] = years[i-1];\n",
    "        else:            \n",
    "            years[i] = int(years[i][0:4]);           \n",
    "        \n",
    "        if is_int(days[i]):\n",
    "            days[i] = int(days[i]);\n",
    "        else:\n",
    "            days[i] = False;            \n",
    "        i += 1;  \n",
    "       \n",
    "    i = 0;\n",
    "    while i < len(years):\n",
    "        if years[i] < 1855 or years[i] > 2018:\n",
    "            i += 1;\n",
    "            continue;\n",
    "        else:\n",
    "            if i+1<len(years)-1:\n",
    "                while years[i] == years[i+1]:\n",
    "                    i += 1;\n",
    "                    \n",
    "                    if i >= len(years):\n",
    "                        return  \n",
    "                \n",
    "            if days[i]:\n",
    "                data_set.append([years[i],days[i]]);        \n",
    "            i += 1;\n",
    "    return data_set;\n",
    " "
   ]
  },
  {
   "cell_type": "code",
   "execution_count": 4,
   "metadata": {},
   "outputs": [],
   "source": [
    "class Linear_regression:\n",
    "    def __init__(self):\n",
    "        pass\n",
    "    \n",
    "    def Load_data(self, Mendota,Monona):\n",
    "        self.Mendota = Mendota;\n",
    "        self.Monona = Monona;\n",
    "        \n",
    "    def Data_split(self, target_year):\n",
    "        split = target_year - self.Mendota[0,0] + 1;\n",
    "        self.Mendota_train = self.Mendota[:split,:];\n",
    "        self.Mendota_test = self.Mendota[split:,:];\n",
    "        self.Monona_train = self.Monona[:split,:];\n",
    "        self.Monona_test = self.Monona[split:,:];\n",
    "        \n",
    "    def Quad_cost(self,y1,y2):\n",
    "        return (y1-y2).dot(y1-y2);\n",
    "    \n",
    "    def Mean_Std(self,y):\n",
    "        y_bar = np.mean(y);\n",
    "        #y_std = ((y-y_bar).dot((y-y_bar)) / (len(y)-1)) ** 0.5\n",
    "        y_std = (self.Quad_cost(y,y_bar) /(len(y)-1)) ** 0.5;\n",
    "        return (y_bar,y_std);\n",
    "    def Normalization(self,y):\n",
    "        #m,v = self.Mean_Std(y);\n",
    "        #y = (y - m)/(v);\n",
    "        #y = y / len(y);\n",
    "        y = (y - np.min(y));\n",
    "        y =  y / np.max(y);\n",
    "        \n",
    "        return y;\n",
    "    \n",
    "    ## This is MLE method\n",
    "    ## ++++++++++++++++++++++++++++++++++++++++++++++++++++++++++++++++++++++++++++++\n",
    "    ## the training data here only has 1,x, ... ,and target has the ice days of lake mendota!!!\n",
    "    def Train_without_regularization(self,training_data,target): \n",
    "        self.W_without_regualarization = linalg.pinv(training_data.T.dot(training_data)).dot(training_data.T).dot(target);\n",
    "    def Pred_without_regularization(self,test_data):\n",
    "        self.pred = test_data.dot(self.W_without_regualarization);\n",
    "    def Test_without_regularization(self,y): ## y is the target\n",
    "        LY = len(y);\n",
    "        y_bar = np.mean(y);\n",
    "        \n",
    "        SS_total = (self.Quad_cost(y,y_bar)) /LY ;\n",
    "        \n",
    "        #bias = y - self.pred;\n",
    "        SS_res = (self.Quad_cost(y,self.pred)) /LY;## mean square error\n",
    "        \n",
    "        R_2 = 1 - SS_res/SS_total;\n",
    "        return SS_res, R_2;\n",
    "    \n",
    "    def Train_with_regularization(self, training_data, target, ridge, A):\n",
    "        X = training_data.T;\n",
    "        Y = target;\n",
    "        R = X.dot(X.T) + ridge * A;\n",
    "        self.W_with_regualarization = linalg.pinv(R).dot(X.dot(Y));\n",
    "    def Pred_with_regularization(self,test_data, ridge, A):\n",
    "        self.pred = test_data.dot(self.W_with_regualarization) + ridge *\\\n",
    "        self.W_with_regualarization.dot(A.dot(self.W_with_regualarization));\n",
    "    \n",
    "    ## ++++++++++++++++++++++++++++++++++++++++++++++++++++++++++++++++++++++++++++++\n",
    "    \n",
    "    ## WITH gradient descent\n",
    "    ## ++++++++++++++++++++++++++++++++++++++++++++++++++++++++++++++++++++++++++++++\n",
    "    def Derivative(self,x,pred,target): ## x is training data\n",
    "        kernal = 2*(pred - target);\n",
    "        kernal = kernal / len(kernal)\n",
    "        return x.T.dot(kernal);\n",
    "    def Forward(self,x,W):\n",
    "        return x.dot(W);\n",
    "        \n",
    "    def Train_gradient_descent(self,training_data,target,epoch, learning_rate = 1e-1, regularization = 0, beta = 0):\n",
    "        ## beta is the momentum\n",
    "        #self.W_gradient = np.random.rand(len(training_data[0,:]));\n",
    "        \n",
    "        #training_data = training_data.reshape(len(training_data),-1);\n",
    "        target = target.reshape(-1,1);########### IMPORTANT!!!!!!\n",
    "        \n",
    "        self.W_gradient = np.zeros((len(training_data[0,:]),1));        \n",
    "      \n",
    "        self.gradient_cost = [];\n",
    "        \n",
    "        ## init the momentum:\n",
    "        #vdW = np.zeros(self.W_gradient.shape);\n",
    "        vdW = False;\n",
    "        \n",
    "        i = 0;\n",
    "        while i <= epoch:            \n",
    "            self.Pred_gradient = self.Forward(training_data,self.W_gradient);            \n",
    "            \n",
    "            c = np.mean((self.Pred_gradient-target)**2);\n",
    "            \n",
    "            if i % 1 == 0:\n",
    "                self.gradient_cost.append(c);\n",
    "            \n",
    "            delta_W = self.Derivative(training_data, self.Pred_gradient, target); \n",
    "            \n",
    "            if type(vdW) == bool:\n",
    "                vdW = delta_W;\n",
    "            else:            \n",
    "                vdW = (beta) * vdW + (1-beta) * delta_W;                \n",
    "            \n",
    "            self.W_gradient -= learning_rate * (vdW - regularization * self.W_gradient.T.dot(self.W_gradient));\n",
    "            #self.W_gradient -= learning_rate * (vdW);\n",
    "            i += 1;\n",
    "        "
   ]
  },
  {
   "cell_type": "markdown",
   "metadata": {},
   "source": [
    "## Q1"
   ]
  },
  {
   "cell_type": "code",
   "execution_count": 5,
   "metadata": {},
   "outputs": [
    {
     "data": {
      "image/png": "[encoded data removed]",
      "text/plain": [
       "<Figure size 432x288 with 1 Axes>"
      ]
     },
     "metadata": {
      "needs_background": "light"
     },
     "output_type": "display_data"
    },
    {
     "data": {
      "image/png": "[encoded data removed]",
      "text/plain": [
       "<Figure size 432x288 with 1 Axes>"
      ]
     },
     "metadata": {
      "needs_background": "light"
     },
     "output_type": "display_data"
    }
   ],
   "source": [
    "Mendota = np.array(Data_aquire(df_Mendota));\n",
    "Monona = np.array(Data_aquire(df_Monona));\n",
    "\n",
    "plt.figure();\n",
    "plt.plot(Mendota[:,0],Mendota[:,1], label = \"Ice days of Lake Mendota\", c = 'k', linestyle = \"-\",linewidth = 0.5);\n",
    "plt.plot(Monona[:,0],Monona[:,1], label = \"Ice days of Lake Monona\", c = 'r',linestyle = \"-\",linewidth = 0.5);\n",
    "plt.xlabel(\"year\");\n",
    "plt.ylabel(\"days\");\n",
    "plt.legend();\n",
    "\n",
    "plt.figure();\n",
    "plt.plot(Mendota[:,0],-Mendota[:,1] + Monona[:,1], label = \"Ice days (Monona - Mendota)\", c = 'k', linestyle = \"-\",linewidth = 0.5);\n",
    "plt.xlabel(\"year\");\n",
    "plt.ylabel(\"days\");\n",
    "plt.legend();\n",
    "plt.show();"
   ]
  },
  {
   "cell_type": "code",
   "execution_count": null,
   "metadata": {},
   "outputs": [],
   "source": []
  },
  {
   "cell_type": "markdown",
   "metadata": {},
   "source": [
    "## Q2"
   ]
  },
  {
   "cell_type": "code",
   "execution_count": 6,
   "metadata": {},
   "outputs": [],
   "source": [
    "Lakes = Linear_regression();"
   ]
  },
  {
   "cell_type": "code",
   "execution_count": 7,
   "metadata": {},
   "outputs": [],
   "source": [
    "Lakes.Load_data(Mendota,Monona);\n",
    "Lakes.Data_split(1970);"
   ]
  },
  {
   "cell_type": "code",
   "execution_count": 8,
   "metadata": {},
   "outputs": [
    {
     "name": "stdout",
     "output_type": "stream",
     "text": [
      "The sample mean and sample deviation for \"Mendota\" is ->  [107.19   16.747]\n",
      "The sample mean and sample deviation for \"Monona\" is ->  [108.483  18.123]\n"
     ]
    }
   ],
   "source": [
    "print(\"The sample mean and sample deviation for \\\"Mendota\\\" is -> \", np.round(Lakes.Mean_Std(Lakes.Mendota_train[:,1]), 3))\n",
    "print(\"The sample mean and sample deviation for \\\"Monona\\\" is -> \", np.round(Lakes.Mean_Std(Lakes.Monona_train[:,1]), 3))"
   ]
  },
  {
   "cell_type": "markdown",
   "metadata": {},
   "source": [
    "## Q3"
   ]
  },
  {
   "cell_type": "code",
   "execution_count": 26,
   "metadata": {},
   "outputs": [
    {
     "name": "stdout",
     "output_type": "stream",
     "text": [
      "The MLE values of β0, β1 and β2 are ->  [-6.4182766e+01  4.1225000e-02  8.5295100e-01]\n"
     ]
    }
   ],
   "source": [
    "N = len(Lakes.Mendota_train);\n",
    "X_train = np.ones((N,3)); ## X is the training data\n",
    "X_train[:,1] = Lakes.Monona_train[:,0];\n",
    "X_train[:,2] = Lakes.Monona_train[:,1];\n",
    "Y_train = Lakes.Mendota_train[:,1];\n",
    "\n",
    "Lakes.Train_without_regularization(X_train,Y_train)\n",
    "print(\"The MLE values of β0, β1 and β2 are -> \", np.round(Lakes.W_without_regualarization,6));"
   ]
  },
  {
   "cell_type": "code",
   "execution_count": null,
   "metadata": {},
   "outputs": [],
   "source": []
  },
  {
   "cell_type": "markdown",
   "metadata": {},
   "source": [
    "## Q4"
   ]
  },
  {
   "cell_type": "code",
   "execution_count": 10,
   "metadata": {},
   "outputs": [
    {
     "name": "stdout",
     "output_type": "stream",
     "text": [
      "The (1) mean squared error and (2) R^2 values are ->  (124.26409474395375, 0.7104900717847311)\n"
     ]
    }
   ],
   "source": [
    "N = len(Lakes.Monona_test);\n",
    "\n",
    "X_test = np.ones((N,3)); ## X is the training data\n",
    "X_test[:,1] = Lakes.Monona_test[:,0];\n",
    "X_test[:,2] = Lakes.Monona_test[:,1];\n",
    "Y_test = Lakes.Mendota_test[:,1];\n",
    "\n",
    "Lakes.Pred_without_regularization(X_test);\n",
    "print(\"The (1) mean squared error and (2) R^2 values are -> \", Lakes.Test_without_regularization(Y_test));\n"
   ]
  },
  {
   "cell_type": "code",
   "execution_count": 11,
   "metadata": {},
   "outputs": [
    {
     "data": {
      "text/plain": [
       "'\\nr,c = X_train.shape;\\ntrain_set = np.zeros((r,c+1));\\ntrain_set[:,:c] = X_train;\\ntrain_set[:,c] = Y_train;\\n\\nr,c = X_test.shape;\\ntest_set = np.zeros((r,c+1));\\ntest_set[:,:c] = X_test;\\ntest_set[:,c] = Y_test;\\n\\nnp.savetxt(\"train.csv\",train_set , delimiter=\",\");\\nnp.savetxt(\"test.csv\", test_set, delimiter=\",\");\\n'"
      ]
     },
     "execution_count": 11,
     "metadata": {},
     "output_type": "execute_result"
    }
   ],
   "source": [
    "'''\n",
    "r,c = X_train.shape;\n",
    "train_set = np.zeros((r,c+1));\n",
    "train_set[:,:c] = X_train;\n",
    "train_set[:,c] = Y_train;\n",
    "\n",
    "r,c = X_test.shape;\n",
    "test_set = np.zeros((r,c+1));\n",
    "test_set[:,:c] = X_test;\n",
    "test_set[:,c] = Y_test;\n",
    "\n",
    "np.savetxt(\"train.csv\",train_set , delimiter=\",\");\n",
    "np.savetxt(\"test.csv\", test_set, delimiter=\",\");\n",
    "'''"
   ]
  },
  {
   "cell_type": "markdown",
   "metadata": {},
   "source": [
    "## Q5"
   ]
  },
  {
   "cell_type": "markdown",
   "metadata": {},
   "source": [
    "$$\\frac{d}{d\\beta} \\frac{1}{n} \\sum_{i=1}^n(x_i^T\\beta - y_i)^2 = \\frac{2}{n} \\sum_{i=1}^nx\\cdot(x_i^T\\beta - y_i)  $$"
   ]
  },
  {
   "cell_type": "markdown",
   "metadata": {},
   "source": [
    "## Q6"
   ]
  },
  {
   "cell_type": "code",
   "execution_count": 12,
   "metadata": {},
   "outputs": [
    {
     "name": "stdout",
     "output_type": "stream",
     "text": [
      "THE COST AT THE FIRST TEN STEPS\n",
      "learning rate = 1e-1\n",
      " [1.17676550e+004 6.18035081e+015 3.33062678e+027 1.79489403e+039\n",
      " 9.67278769e+050 5.21272121e+062 2.80916560e+074 1.51387558e+086\n",
      " 8.15836303e+097 4.39658901e+109 2.36934723e+121] \n",
      "\n",
      "learning rate = 1e-3\n",
      " [1.17676550e+04 6.17868397e+11 3.32883049e+19 1.79344218e+27\n",
      " 9.66235694e+34 5.20569567e+42 2.80462288e+50 1.51101986e+58\n",
      " 8.14077721e+65 4.38592871e+73 2.36296488e+81] \n",
      "\n",
      "learning rate = 1e-5\n",
      " [1.17676550e+04 6.01316531e+07 3.15283853e+11 1.65311266e+15\n",
      " 8.66768607e+18 4.54468614e+22 2.38289342e+26 1.24941104e+30\n",
      " 6.55097681e+33 3.43484216e+37 1.80097426e+41] \n",
      "\n",
      "learning rate = 1e-7\n",
      " [11767.655  1110.113   356.58    303.272   299.471   299.171   299.117\n",
      "   299.082   299.047   299.013   298.978] \n",
      "\n",
      "learning rate = 1e-9\n",
      " [11767.655 11599.894 11434.587 11271.698 11111.192 10953.034 10797.189\n",
      " 10643.624 10492.306 10343.201 10196.277] \n",
      "\n"
     ]
    }
   ],
   "source": [
    "print(\"THE COST AT THE FIRST TEN STEPS\")\n",
    "Lakes.Train_gradient_descent(X_train,Y_train,10, learning_rate = 1e-1);\n",
    "print(\"learning rate = 1e-1\\n\", np.round(Lakes.gradient_cost,3),\"\\n\");\n",
    "Lakes.Train_gradient_descent(X_train,Y_train,10, learning_rate = 1e-3);\n",
    "print(\"learning rate = 1e-3\\n\", np.round(Lakes.gradient_cost,3),\"\\n\");\n",
    "Lakes.Train_gradient_descent(X_train,Y_train,10, learning_rate = 1e-5);\n",
    "print(\"learning rate = 1e-5\\n\", np.round(Lakes.gradient_cost,3),\"\\n\");\n",
    "Lakes.Train_gradient_descent(X_train,Y_train,10, learning_rate = 1e-7);\n",
    "print(\"learning rate = 1e-7\\n\", np.round(Lakes.gradient_cost,3),\"\\n\");\n",
    "Lakes.Train_gradient_descent(X_train,Y_train,10, learning_rate = 1e-9);\n",
    "print(\"learning rate = 1e-9\\n\", np.round(Lakes.gradient_cost,3),\"\\n\");\n"
   ]
  },
  {
   "cell_type": "code",
   "execution_count": 13,
   "metadata": {},
   "outputs": [
    {
     "data": {
      "image/png": "[encoded data removed]",
      "text/plain": [
       "<Figure size 432x288 with 1 Axes>"
      ]
     },
     "metadata": {
      "needs_background": "light"
     },
     "output_type": "display_data"
    },
    {
     "name": "stdout",
     "output_type": "stream",
     "text": [
      "[[-1.90101929e-04]\n",
      " [ 9.38799582e-03]\n",
      " [ 8.22710113e-01]]\n"
     ]
    }
   ],
   "source": [
    "Lakes.Train_gradient_descent(X_train,Y_train,100000, learning_rate = 2e-7,beta = 0);\n",
    "#print(\"learning rate = 1e-7\\n\", np.round(Lakes.gradient_cost,3),\"\\n\");\n",
    "plt.figure();\n",
    "plt.plot(Lakes.gradient_cost)\n",
    "plt.show();\n",
    "print(Lakes.W_gradient)"
   ]
  },
  {
   "cell_type": "code",
   "execution_count": 14,
   "metadata": {},
   "outputs": [
    {
     "name": "stdout",
     "output_type": "stream",
     "text": [
      "[-6.41827660e+01  4.12245663e-02  8.52950638e-01]\n"
     ]
    }
   ],
   "source": [
    "Lakes.Train_without_regularization(X_train,Y_train)\n",
    "print(Lakes.W_without_regualarization)"
   ]
  },
  {
   "cell_type": "markdown",
   "metadata": {},
   "source": [
    "## Q7"
   ]
  },
  {
   "cell_type": "code",
   "execution_count": 15,
   "metadata": {},
   "outputs": [
    {
     "name": "stdout",
     "output_type": "stream",
     "text": [
      "[11767.655  5921.407  2567.223 ...    57.51     57.51     57.51 ]\n"
     ]
    },
    {
     "data": {
      "text/plain": [
       "array([[63.46584269],\n",
       "       [ 4.74082514],\n",
       "       [85.29506384]])"
      ]
     },
     "execution_count": 15,
     "metadata": {},
     "output_type": "execute_result"
    }
   ],
   "source": [
    "X_train2 = np.array(X_train);\n",
    "X_train2[:,1] = Lakes.Normalization(X_train2[:,1]);\n",
    "\n",
    "X_train2[:,2] = Lakes.Normalization(X_train2[:,2]);\n",
    "#Y_train = Lakes.Normalization(Y_train);\n",
    "Lakes_norm = Linear_regression();\n",
    "Lakes_norm.Train_gradient_descent(X_train2, Y_train, 100000, learning_rate = 0.1, regularization = 0, beta = 0.5)\n",
    "print(np.round(Lakes_norm.gradient_cost,3));\n",
    "Lakes_norm.W_gradient"
   ]
  },
  {
   "cell_type": "code",
   "execution_count": 21,
   "metadata": {},
   "outputs": [
    {
     "name": "stdout",
     "output_type": "stream",
     "text": [
      "The MLE values of β0, β1 and β2 are ->  [63.466  4.741 85.295]\n"
     ]
    }
   ],
   "source": [
    "Lakes_norm.Train_without_regularization(X_train2,Y_train)\n",
    "print(\"The MLE values of β0, β1 and β2 are -> \", np.round(Lakes_norm.W_without_regualarization,3));"
   ]
  },
  {
   "cell_type": "code",
   "execution_count": 23,
   "metadata": {},
   "outputs": [
    {
     "data": {
      "image/png": "[encoded data removed]",
      "text/plain": [
       "<Figure size 432x288 with 1 Axes>"
      ]
     },
     "metadata": {
      "needs_background": "light"
     },
     "output_type": "display_data"
    }
   ],
   "source": [
    "plt.figure();\n",
    "plt.plot(X_train2[:,1],X_train2.dot(Lakes_norm.W_gradient), label = \"\");\n",
    "plt.plot(X_train2[:,1],Y_train);"
   ]
  },
  {
   "cell_type": "markdown",
   "metadata": {},
   "source": [
    "## Q8"
   ]
  },
  {
   "cell_type": "code",
   "execution_count": 18,
   "metadata": {},
   "outputs": [
    {
     "name": "stdout",
     "output_type": "stream",
     "text": [
      "The MLE values of γ0 and γ1 are ->  [ 4.06111e+02 -1.56000e-01]\n"
     ]
    }
   ],
   "source": [
    "X_train3 = np.array(X_train[:,0:2]);\n",
    "Lakes.Train_without_regularization(X_train3,Y_train)\n",
    "print(\"The MLE values of γ0 and γ1 are -> \", np.round(Lakes.W_without_regualarization,3));\n"
   ]
  },
  {
   "cell_type": "markdown",
   "metadata": {},
   "source": [
    "## Q9"
   ]
  },
  {
   "cell_type": "code",
   "execution_count": 29,
   "metadata": {},
   "outputs": [
    {
     "name": "stdout",
     "output_type": "stream",
     "text": [
      "The MLE values of β0, β1 and β2 are ->  [-6.4166717e+01  4.1218000e-02  8.5292300e-01]\n"
     ]
    }
   ],
   "source": [
    "A = np.array([[0,0,0],[0,1,0],[0,0,1]]);\n",
    "ridge = 1;\n",
    "Lakes.Train_with_regularization(X_train,Y_train, ridge , A)\n",
    "print(\"The MLE values of β0, β1 and β2 are -> \", np.round(Lakes.W_with_regualarization,6));"
   ]
  },
  {
   "cell_type": "code",
   "execution_count": null,
   "metadata": {},
   "outputs": [],
   "source": []
  },
  {
   "cell_type": "code",
   "execution_count": null,
   "metadata": {},
   "outputs": [],
   "source": []
  },
  {
   "cell_type": "code",
   "execution_count": null,
   "metadata": {},
   "outputs": [],
   "source": []
  }
 ],
 "metadata": {
  "kernelspec": {
   "display_name": "Python 3",
   "language": "python",
   "name": "python3"
  },
  "language_info": {
   "codemirror_mode": {
    "name": "ipython",
    "version": 3
   },
   "file_extension": ".py",
   "mimetype": "text/x-python",
   "name": "python",
   "nbconvert_exporter": "python",
   "pygments_lexer": "ipython3",
   "version": "3.7.4"
  }
 },
 "nbformat": 4,
 "nbformat_minor": 4
}
