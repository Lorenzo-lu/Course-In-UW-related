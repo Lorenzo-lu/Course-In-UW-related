{
 "cells": [
  {
   "cell_type": "markdown",
   "metadata": {},
   "source": [
    "# HW9: More Integer Programs\n",
    "***"
   ]
  },
  {
   "cell_type": "markdown",
   "metadata": {},
   "source": [
    "## 1. Voting"
   ]
  },
  {
   "cell_type": "markdown",
   "metadata": {},
   "source": [
    "The question is an integer programming problem;  \n",
    "\n",
    "The variables are ${C}_{ij}$, which is whether the $i_{th}$ city belongs to the $j_{th}$ congressional district;  \n",
    "and $D_{j}$, which is whether the $j_{th}$ district Democratic majority;  \n",
    "\n",
    "The constraints are:  \n",
    "1. $C_{ij}$,$D_{j}$ are binary varibles;  \n",
    "2. Each district has more than 150 and fewer than 250 (in thousand) voters; $150 \\le \\sum_{i}C_{ij}(V_{Ri} + V_{Di}) \\le 250$ for district j ($V_{Ri}$ stands for the Republican voters in city i, and $V_{Di}$ stands for the Democratic voters in city i);  \n",
    "3. if the $j_{th}$ district is Democratic, the Democratic voters will be more than Republicans; So, $D_{j}\\sum_{i}C_{ij}(V_{Di} - V_{Ri}) >= 0$; if $D_{j} = 1$, that means, in this district there are more Democratic voters; if $D_{j} = 0$, the equity will be satisfied;  \n",
    " - \n",
    "The objective is to maximize $\\sum_j D_{j}$;\n"
   ]
  },
  {
   "cell_type": "code",
   "execution_count": 1,
   "metadata": {},
   "outputs": [],
   "source": [
    "using JuMP, Gurobi, Cbc;"
   ]
  },
  {
   "cell_type": "code",
   "execution_count": 2,
   "metadata": {},
   "outputs": [],
   "source": [
    "voters = \n",
    "[1 80 34;\n",
    "2 60 44;\n",
    "3 40 44;\n",
    "4 20 24;\n",
    "5 40 114;\n",
    "6 40 64;\n",
    "7 70 14;\n",
    "8 50 44;\n",
    "9 70 54;\n",
    "10 70 64];\n",
    "V_R = voters[:,2];\n",
    "V_D = voters[:,3];"
   ]
  },
  {
   "cell_type": "code",
   "execution_count": 3,
   "metadata": {},
   "outputs": [
    {
     "name": "stdout",
     "output_type": "stream",
     "text": [
      "Academic license - for non-commercial use only\r\n",
      "Academic license - for non-commercial use only\r\n"
     ]
    }
   ],
   "source": [
    "N_districts = 5;\n",
    "N_cities = length(voters[:,1]);\n",
    "max_voters = 250;\n",
    "min_voters = 150; \n",
    "m1 = Model(Gurobi.Optimizer);\n",
    "set_silent(m1);\n",
    "\n",
    "C = @variable(m1, [1:N_cities, 1:N_districts], Bin); \n",
    "D = @variable(m1, [1:N_districts,1:1], Bin);\n",
    "\n",
    "for i = 1:N_cities\n",
    "    @constraint(m1, sum(C[i,:]) == 1);\n",
    "end\n",
    "\n",
    "for j = 1:N_districts\n",
    "    @constraint(m1, sum(C[:,j] .* (V_R .+ V_D)) <= max_voters); ## sum of the voters constraints\n",
    "    @constraint(m1, sum(C[:,j] .* (V_R .+ V_D)) >= min_voters);\n",
    "    \n",
    "    @constraint(m1, D[j] .* sum(C[:,j] .* (V_D .- V_R)) >= 0);\n",
    "end\n",
    "\n",
    "@objective(m1, Max, sum(D));\n",
    "optimize!(m1);"
   ]
  },
  {
   "cell_type": "code",
   "execution_count": 4,
   "metadata": {},
   "outputs": [
    {
     "name": "stdout",
     "output_type": "stream",
     "text": [
      "The 1_th district contains following cities: \n",
      "\n",
      "city 3 ;\n",
      "city 4 ;\n",
      "city 8 ;\n",
      "\n",
      "Republic: 110 / Democratic:112 / total: 222 (in thousand)\n",
      "This district is Democratican Majority!\n",
      "\n",
      "The 2_th district contains following cities: \n",
      "\n",
      "city 6 ;\n",
      "city 10 ;\n",
      "\n",
      "Republic: 110 / Democratic:128 / total: 238 (in thousand)\n",
      "This district is Democratican Majority!\n",
      "\n",
      "The 3_th district contains following cities: \n",
      "\n",
      "city 5 ;\n",
      "\n",
      "Republic: 40 / Democratic:114 / total: 154 (in thousand)\n",
      "This district is Democratican Majority!\n",
      "\n",
      "The 4_th district contains following cities: \n",
      "\n",
      "city 7 ;\n",
      "city 9 ;\n",
      "\n",
      "Republic: 140 / Democratic:68 / total: 208 (in thousand)\n",
      "This district is Republican Majority!\n",
      "\n",
      "The 5_th district contains following cities: \n",
      "\n",
      "city 1 ;\n",
      "city 2 ;\n",
      "\n",
      "Republic: 140 / Democratic:78 / total: 218 (in thousand)\n",
      "This district is Republican Majority!\n",
      "\n"
     ]
    }
   ],
   "source": [
    "for j = 1:N_districts\n",
    "    println(\"The $(j)_th district contains following cities: \\n\");\n",
    "    republicans = 0;\n",
    "    democraticans = 0;\n",
    "    \n",
    "    contain_cities = [];\n",
    "    for i = 1:N_cities\n",
    "        if value.(C)[i,j] == 1\n",
    "            republicans += V_R[i];\n",
    "            democraticans += V_D[i];\n",
    "            println(\"city $(i) ;\");\n",
    "        end\n",
    "    end\n",
    "    println(\"\\nRepublic: $(republicans) / Democratic:$(democraticans) / total: $(democraticans + republicans) (in thousand)\");\n",
    "    if value.(D[j]) == 1\n",
    "        println(\"This district is Democratican Majority!\");\n",
    "    else\n",
    "        println(\"This district is Republican Majority!\");\n",
    "    end\n",
    "    print(\"\\n\");\n",
    "    \n",
    "end"
   ]
  },
  {
   "cell_type": "markdown",
   "metadata": {},
   "source": [
    "## 2. The Queen Problem"
   ]
  },
  {
   "cell_type": "markdown",
   "metadata": {},
   "source": [
    "### a)."
   ]
  },
  {
   "cell_type": "markdown",
   "metadata": {},
   "source": [
    "The variables are $i_{xy}$, which stands for whether there is a queen at $(x,y)$;  \n",
    "The constriants are:  \n",
    "1. $i_{xy} \\in \\{0,1\\}$ and $ 1 \\le x,y \\le 8, x,y \\in \\mathbb{N}$  \n",
    "2. $\\sum_y i_{xy} \\le 1$, which means in the $x_{th}$ column there are fewer than 1 queens;  \n",
    "3. $\\sum_x i_{xy} \\le 1$, which means in the $y_{th}$ row there are fewer than 1 queens;  \n",
    "***\n",
    "Note: only 4 and 5 together we can make sure that all the cells are under this constraint!\n",
    "The diagonal constraints should be met by both black and white cells !!!\n",
    "***\n",
    "4. $\\sum_{l} i_{x+l,x-l} \\le 1$, which means in the diagonal 1 there are fewer than 1 queens, $1 \\le x+l, x-l \\le 8$;  \n",
    "5. $\\sum_{l} i_{x+l,x+1-l} \\le 1$, which means in the diagonal 1 there are fewer than 1 queens, $1 \\le x+l, x+1-l \\le 8$;   \n",
    "Along the diagonal one, scan over coordinates $[x,x]$ for 4 and $[x, x+1]$ for 5;\n",
    "6. $\\sum_{l} i_{x+l,9 - x+l} \\le 1$, which means in the diagonal 2 there are fewer than 1 queens, $1 \\le x+l, 9 -x+l \\le 8$;  \n",
    "7. $\\sum_{l} i_{x+l,8 - x+l} \\le 1$, which means in the diagonal 2 there are fewer than 1 queens, $1 \\le x+l, 8 -x+l \\le 8$;  \n",
    "Along the diagonal two, scan over coordinates $[x,edge+1-x]$ for 4 and $[x, edge - x]$ for 5;  \n",
    "8. $\\sum_{x,y} i_{xy} = 8$;  \n",
    "The objective is to minimize the $\\sum{i_{xy}}$"
   ]
  },
  {
   "cell_type": "code",
   "execution_count": 5,
   "metadata": {},
   "outputs": [],
   "source": [
    "using PyPlot;\n",
    "function ChessBoard_Display(edge, N_queens, queen_map)\n",
    "    background = zeros(edge,edge);\n",
    "    for r = 1:edge\n",
    "        for c = 1:edge\n",
    "            if (r+c)%2 != 0\n",
    "                background[r,c] = 0.5;\n",
    "            end\n",
    "            if queen_map[r,c] == 1\n",
    "                background[r,c] = 1;\n",
    "            end\n",
    "        end\n",
    "    end\n",
    "    figure();\n",
    "    imshow(background)\n",
    "    title(\"$(Int(N_queens)) Queens on $(edge)x$(edge) chessboard (Yellow)\");\n",
    "    return\n",
    "end\n",
    "\n",
    "#ChessBoard_Display(edge, N_queens, value.(board));\n",
    "\n",
    "#figure();\n",
    "#imshow( background);\n",
    "#imshow(ChessBoard_Display(edge, value.(board)))\n",
    "#title(\"$(N_queens) Queens on $(edge)x$(edge) chessboard (Yellow)\");\n"
   ]
  },
  {
   "cell_type": "code",
   "execution_count": 6,
   "metadata": {},
   "outputs": [
    {
     "data": {
      "image/png": "[encoded data removed]",
      "text/plain": [
       "Figure(PyObject <Figure size 640x480 with 1 Axes>)"
      ]
     },
     "metadata": {},
     "output_type": "display_data"
    },
    {
     "name": "stdout",
     "output_type": "stream",
     "text": [
      "Academic license - for non-commercial use only\n",
      "0:0\n",
      "-1:1\n",
      "-2:2\n",
      "-3:3\n",
      "-3:3\n",
      "-2:2\n",
      "-1:1\n",
      "0:0\n",
      "Academic license - for non-commercial use only\n"
     ]
    }
   ],
   "source": [
    "edge = 8;\n",
    "#rows = 8;\n",
    "N_queens = 8;\n",
    "m2a = Model(Gurobi.Optimizer);\n",
    "set_silent(m2a);\n",
    "\n",
    "board = @variable(m2a, [1:edge, 1:edge], Bin);\n",
    "\n",
    "@constraint(m2a, sum(board) == N_queens);\n",
    "\n",
    "for r = 1:edge\n",
    "    @constraint(m2a, sum(board[r,: ]) <= 1);\n",
    "    @constraint(m2a, sum(board[:,r ]) <= 1);\n",
    "    \n",
    "    #@constraint(m2a, sum((board[r+l,r-l]) for l = -r + 1: r - 1) <= 1);\n",
    "    #@constraint(m2a, sum((board[r+l,edge+1 - r+l]) for l = -r + 1: r - 1) <= 1);\n",
    "    println( maximum((1-r, r - edge)): minimum((edge - r, r-1)));\n",
    "    @constraint(m2a, sum((board[r+l,r-l]) for l = maximum((1-r, r - edge)): minimum((edge - r, r-1))) <= 1);\n",
    "    @constraint(m2a, sum((board[r+l,r+1-l]) for l = maximum((1-r, r+1 - edge)): minimum((edge - r, r))) <= 1);\n",
    "    \n",
    "    @constraint(m2a, sum((board[r+l,edge+1 - r+l]) for l = maximum((1-r, r - edge)): minimum((edge - r, r-1))) <= 1);\n",
    "    @constraint(m2a, sum((board[r+l,edge - r+l]) for l = maximum((1-r, r + 1 - edge)): minimum((edge - r, r))) <= 1);\n",
    "end\n",
    "\n",
    "@objective(m2a, Min, sum(board));\n",
    "optimize!(m2a);\n",
    "\n",
    "ChessBoard_Display(edge, N_queens, value.(board));    "
   ]
  },
  {
   "cell_type": "markdown",
   "metadata": {},
   "source": [
    "### b)."
   ]
  },
  {
   "cell_type": "markdown",
   "metadata": {},
   "source": [
    "One more constraint(Point symmetry):  \n",
    "$i_{x,y} = i_{9-x, 9-y}$ for $x,y \\in \\mathbb{N}$ and $1 \\le x,y \\le 8$"
   ]
  },
  {
   "cell_type": "code",
   "execution_count": 7,
   "metadata": {},
   "outputs": [
    {
     "data": {
      "image/png": "[encoded data removed]",
      "text/plain": [
       "Figure(PyObject <Figure size 640x480 with 1 Axes>)"
      ]
     },
     "metadata": {},
     "output_type": "display_data"
    },
    {
     "name": "stdout",
     "output_type": "stream",
     "text": [
      "Academic license - for non-commercial use only\n",
      "0:0\n",
      "-1:1\n",
      "-2:2\n",
      "-3:3\n",
      "-3:3\n",
      "-2:2\n",
      "-1:1\n",
      "0:0\n",
      "Academic license - for non-commercial use only\n"
     ]
    }
   ],
   "source": [
    "m2b = Model(Gurobi.Optimizer);\n",
    "set_silent(m2b);\n",
    "\n",
    "board = @variable(m2b, [1:edge, 1:edge], Bin);\n",
    "\n",
    "@constraint(m2b, sum(board) == N_queens);\n",
    "\n",
    "for r = 1:edge\n",
    "    @constraint(m2b, sum(board[r,: ]) <= 1);\n",
    "    @constraint(m2b, sum(board[:,r ]) <= 1);\n",
    "    \n",
    "    #@constraint(m2a, sum((board[r+l,r-l]) for l = -r + 1: r - 1) <= 1);\n",
    "    #@constraint(m2a, sum((board[r+l,edge+1 - r+l]) for l = -r + 1: r - 1) <= 1);\n",
    "    println( maximum((1-r, r - edge)): minimum((edge - r, r-1)));\n",
    "    @constraint(m2b, sum((board[r+l,r-l]) for l = maximum((1-r, r - edge)): minimum((edge - r, r-1))) <= 1);\n",
    "    @constraint(m2b, sum((board[r+l,r+1-l]) for l = maximum((1-r, r+1 - edge)): minimum((edge - r, r))) <= 1);\n",
    "    \n",
    "    @constraint(m2b, sum((board[r+l,edge+1 - r+l]) for l = maximum((1-r, r - edge)): minimum((edge - r, r-1))) <= 1);\n",
    "    @constraint(m2b, sum((board[r+l,edge - r+l]) for l = maximum((1-r, r + 1 - edge)): minimum((edge - r, r))) <= 1);\n",
    "end\n",
    "\n",
    "for r = 1:edge\n",
    "    for c = 1:edge\n",
    "        @constraint(m2b, board[r, c] == board[edge+1 - r, edge+1 - c]);\n",
    "    end\n",
    "end\n",
    "\n",
    "@objective(m2b, Min, sum(board));\n",
    "optimize!(m2b);\n",
    "\n",
    "ChessBoard_Display(edge, N_queens, value.(board));"
   ]
  },
  {
   "cell_type": "markdown",
   "metadata": {},
   "source": [
    "### c)."
   ]
  },
  {
   "cell_type": "markdown",
   "metadata": {},
   "source": [
    "The variables are $i_{xy}$, which stands for whether there is a queen at $(x,y)$;  \n",
    "The constriants are:  \n",
    "1. $i_{xy} \\in \\{0,1\\}$ and $ 1 \\le x,y \\le 8, x,y \\in \\mathbb{N}$\n",
    "2. For any $x,y$, the sum of $i$ in column, row and diagonal should be at least 1;\n",
    "\n",
    "The objective is to minimize the $\\sum{i_{xy}}$"
   ]
  },
  {
   "cell_type": "code",
   "execution_count": 8,
   "metadata": {},
   "outputs": [
    {
     "data": {
      "image/png": "[encoded data removed]",
      "text/plain": [
       "Figure(PyObject <Figure size 640x480 with 1 Axes>)"
      ]
     },
     "metadata": {},
     "output_type": "display_data"
    },
    {
     "name": "stdout",
     "output_type": "stream",
     "text": [
      "Academic license - for non-commercial use only\r\n",
      "Academic license - for non-commercial use only\r\n"
     ]
    }
   ],
   "source": [
    "edge = 8;\n",
    "#rows = 8;\n",
    "#N_queens = 8;\n",
    "\n",
    "m2c = Model(Gurobi.Optimizer);\n",
    "set_silent(m2c);\n",
    "\n",
    "#@variable(m2a, N_queens);\n",
    "board = @variable(m2c, [1:edge, 1:edge], Bin);\n",
    "\n",
    "for r = 1:edge\n",
    "    for c = 1:edge\n",
    "        @constraint(m2c, sum(board[r,: ]) \n",
    "            + sum(board[:,c ]) \n",
    "            + sum((board[r+l,c-l]) for l = maximum((1-r, c - edge)): minimum((edge - r, c-1))) \n",
    "            + sum((board[r+l,c+l]) for l = maximum((1-r, 1-c)): minimum((edge - r, edge - c)))>= 1);\n",
    "    end\n",
    "end\n",
    "\n",
    "@objective(m2c, Min, sum(board));\n",
    "optimize!(m2c);\n",
    "\n",
    "N_queens = sum(value.(board));\n",
    "\n",
    "ChessBoard_Display(edge, N_queens, value.(board));"
   ]
  },
  {
   "cell_type": "markdown",
   "metadata": {},
   "source": [
    "### d)."
   ]
  },
  {
   "cell_type": "markdown",
   "metadata": {},
   "source": [
    "One more constraint(Point symmetry):  \n",
    "$i_{x,y} = i_{9-x, 9-y}$ for $x,y \\in \\mathbb{N}$ and $1 \\le x,y \\le 8$"
   ]
  },
  {
   "cell_type": "code",
   "execution_count": 9,
   "metadata": {},
   "outputs": [
    {
     "data": {
      "image/png": "[encoded data removed]",
      "text/plain": [
       "Figure(PyObject <Figure size 640x480 with 1 Axes>)"
      ]
     },
     "metadata": {},
     "output_type": "display_data"
    },
    {
     "name": "stdout",
     "output_type": "stream",
     "text": [
      "Academic license - for non-commercial use only\r\n",
      "Academic license - for non-commercial use only\r\n"
     ]
    }
   ],
   "source": [
    "edge = 8;\n",
    "#rows = 8;\n",
    "#N_queens = 8;\n",
    "\n",
    "m2d = Model(Gurobi.Optimizer);\n",
    "set_silent(m2d);\n",
    "\n",
    "#@variable(m2a, N_queens);\n",
    "board = @variable(m2d, [1:edge, 1:edge], Bin);\n",
    "\n",
    "for r = 1:edge\n",
    "    for c = 1:edge\n",
    "        @constraint(m2d, sum(board[r,: ]) \n",
    "            + sum(board[:,c ]) \n",
    "            + sum((board[r+l,c-l]) for l = maximum((1-r, c - edge)): minimum((edge - r, c-1))) \n",
    "            + sum((board[r+l,c+l]) for l = maximum((1-r, 1-c)): minimum((edge - r, edge - c)))>= 1);\n",
    "        \n",
    "        @constraint(m2d, board[r,c] == board[edge+1-r, edge+1-c]);\n",
    "    end\n",
    "end\n",
    "\n",
    "@objective(m2d, Min, sum(board));\n",
    "optimize!(m2d);\n",
    "\n",
    "N_queens = sum(value.(board));\n",
    "\n",
    "ChessBoard_Display(edge, N_queens, value.(board));"
   ]
  },
  {
   "cell_type": "markdown",
   "metadata": {},
   "source": [
    "## 3. Relay Race"
   ]
  },
  {
   "cell_type": "markdown",
   "metadata": {},
   "source": [
    "The variables are $k_{ij}$, representing whether the $i_{th}$ runner running in the $j_{th}$ order;  \n",
    "The constraints:  \n",
    "1. The $k_{ji} \\in \\{0,1\\}$, representing Y/N;  \n",
    "2. $\\sum_i k_{ji} = 1$, representing the $j_{th}$ order only has one runner;  \n",
    "3. $\\sum_j k_{ji} = 1$, representing the $i_{th}$ runner only runs once;  \n",
    "\n",
    "The objective is to minimize the total time;  \n",
    "$t_{total} = \\sum_{i=1}^5 \\sum_{j=1}^5 k_{ji} t_i + \\sum_{j=1}^4 \\sum_{i_2=1}^5 \\sum_{i_1=1}^5 k_{j,i_1}k_{j+1,i_2}t_{TO_{i_1, i_2}} $  \n",
    "$t_i$ is the time for the $i_{th}$ runner to finish 400 meters;  \n",
    "$t_{TO_{i_1, i_2}}$ is the taking-over time between the ${i_1}_{th} $ and ${i_2}_{th} $ runner;  "
   ]
  },
  {
   "cell_type": "code",
   "execution_count": 10,
   "metadata": {},
   "outputs": [],
   "source": [
    "Time = [82.5; 77.1; 81.3; 74.9; 80.6];\n",
    "Taking_over = [\n",
    "0 1.1 1.3 1.9 2.1;\n",
    "1.2 0 1.7 1.0 1.8;\n",
    "1.7 1.4 0 0.9 1.7;\n",
    "2.1 0.8 1.6 0 2.4;\n",
    "1.5 1.2 1.9 2.3 0];"
   ]
  },
  {
   "cell_type": "code",
   "execution_count": 11,
   "metadata": {},
   "outputs": [
    {
     "name": "stdout",
     "output_type": "stream",
     "text": [
      "Academic license - for non-commercial use only\r\n",
      "Academic license - for non-commercial use only\r\n"
     ]
    }
   ],
   "source": [
    "m3 = Model(Gurobi.Optimizer);\n",
    "set_silent(m3);\n",
    "\n",
    "k = @variable(m3, [1:5, 1:5], Bin);\n",
    "for i = 1:5\n",
    "    @constraint(m3, sum(k[:,i]) == 1);\n",
    "end\n",
    "\n",
    "for j = 1:5\n",
    "    @constraint(m3, sum(k[j,:]) == 1);\n",
    "end\n",
    "\n",
    "\n",
    "\n",
    "@objective(m3, Min, sum(sum(k[j,i] * Time[i] for i = 1:5) for j = 1:5)\n",
    "                                    + sum(sum(sum(k[j,i1] * k[j+1,i2] * Taking_over[i2,i1] for i1 = 1:5) for i2 = 1:5) for j = 1:4));\n",
    "optimize!(m3)\n"
   ]
  },
  {
   "cell_type": "code",
   "execution_count": 12,
   "metadata": {},
   "outputs": [],
   "source": [
    "schedule = (convert.(Int,value.(k)));"
   ]
  },
  {
   "cell_type": "code",
   "execution_count": 13,
   "metadata": {},
   "outputs": [
    {
     "name": "stdout",
     "output_type": "stream",
     "text": [
      "5×5 Named Array{Int64,2}\n",
      "Sequence ╲ Runner │ Alice    Bob  Cindy  David  Elisa\n",
      "──────────────────┼──────────────────────────────────\n",
      "1                 │     0      1      0      0      0\n",
      "2                 │     0      0      0      1      0\n",
      "3                 │     0      0      1      0      0\n",
      "4                 │     1      0      0      0      0\n",
      "5                 │     0      0      0      0      1\n"
     ]
    }
   ],
   "source": [
    "using NamedArrays;\n",
    "order = 1:5;\n",
    "runner_list = [\"Alice\", \"Bob\", \"Cindy\", \"David\", \"Elisa\"]\n",
    "println(NamedArray(schedule, (order, runner_list), (\"Sequence\", \"Runner\")))"
   ]
  },
  {
   "cell_type": "code",
   "execution_count": 14,
   "metadata": {},
   "outputs": [
    {
     "name": "stdout",
     "output_type": "stream",
     "text": [
      "For the 1th order, the runner is Bob.\n",
      "It will take 77.1 sec to finish. \n",
      "\n",
      "77.1 sec has been used...\n",
      "\n",
      "\n",
      "The taking-over between Bob and David will take 0.8 sec.\n",
      "\n",
      "For the 2th order, the runner is David.\n",
      "It will take 74.9 sec to finish. \n",
      "\n",
      "152.8 sec has been used...\n",
      "\n",
      "\n",
      "The taking-over between David and Cindy will take 0.9 sec.\n",
      "\n",
      "For the 3th order, the runner is Cindy.\n",
      "It will take 81.3 sec to finish. \n",
      "\n",
      "235.0 sec has been used...\n",
      "\n",
      "\n",
      "The taking-over between Cindy and Alice will take 1.3 sec.\n",
      "\n",
      "For the 4th order, the runner is Alice.\n",
      "It will take 82.5 sec to finish. \n",
      "\n",
      "318.8 sec has been used...\n",
      "\n",
      "\n",
      "The taking-over between Alice and Elisa will take 1.5 sec.\n",
      "\n",
      "For the 5th order, the runner is Elisa.\n",
      "It will take 80.6 sec to finish. \n",
      "\n",
      "400.9 sec has been used...\n",
      "\n",
      "\n"
     ]
    }
   ],
   "source": [
    "i2 = 0;\n",
    "i1 = 0;\n",
    "### j rows and i columns\n",
    "tot_time = 0;\n",
    "for j = 1:5\n",
    "    \n",
    "    for i = 1:5\n",
    "        if schedule[j,i] == 1\n",
    "            i2 = i;\n",
    "            tot_time += Time[i];\n",
    "            if j > 1\n",
    "                println(\"The taking-over between $(runner_list[i1]) and $(runner_list[i2]) will take $(Taking_over[i2,i1]) sec.\\n\")\n",
    "                tot_time += Taking_over[i2,i1];\n",
    "            end\n",
    "            \n",
    "            println(\"For the $(j)th order, the runner is $(runner_list[i]).\");\n",
    "            println(\"It will take $(Time[i]) sec to finish. \\n\")\n",
    "        end\n",
    "    end\n",
    "    i1 = i2;\n",
    "    println(\"$(round.(tot_time,digits = 4)) sec has been used...\\n\\n\")\n",
    "end"
   ]
  },
  {
   "cell_type": "code",
   "execution_count": 15,
   "metadata": {},
   "outputs": [
    {
     "data": {
      "text/plain": [
       "400.9"
      ]
     },
     "execution_count": 15,
     "metadata": {},
     "output_type": "execute_result"
    }
   ],
   "source": [
    "objective_value(m3)"
   ]
  },
  {
   "cell_type": "code",
   "execution_count": null,
   "metadata": {},
   "outputs": [],
   "source": []
  }
 ],
 "metadata": {
  "kernelspec": {
   "display_name": "Julia 1.3.1",
   "language": "julia",
   "name": "julia-1.3"
  },
  "language_info": {
   "file_extension": ".jl",
   "mimetype": "application/julia",
   "name": "julia",
   "version": "1.3.1"
  }
 },
 "nbformat": 4,
 "nbformat_minor": 4
}
