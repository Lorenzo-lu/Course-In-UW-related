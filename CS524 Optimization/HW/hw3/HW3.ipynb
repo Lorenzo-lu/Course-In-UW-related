{
 "cells": [
  {
   "cell_type": "markdown",
   "metadata": {},
   "source": [
    "# CS524 HW3 Network Flows and Duality"
   ]
  },
  {
   "cell_type": "markdown",
   "metadata": {},
   "source": [
    "## Q1. Car_Rental"
   ]
  },
  {
   "cell_type": "markdown",
   "metadata": {},
   "source": [
    "In this question, the decision variables are the number of cars move between agencies. The constraints are the cars in each agency should be no fewer than the required amount. And the objective is to minimize the transport fee.\n",
    "\n",
    "\\begin{align}\n",
    "\\underset{N}{\\text{minimize}} \\qquad& \\sum{DN}  \\\\\n",
    "\\text{subject to:}\\qquad& Nx > b \\\\ \n",
    "\\qquad& N_{ij} + N_{ji} = 0\n",
    "\\end{align}\n",
    "{D is the distance matrix, x is the vector of agencies, N is the car flow matrix, b is the vector of required car number at each agency}"
   ]
  },
  {
   "cell_type": "code",
   "execution_count": 21,
   "metadata": {},
   "outputs": [
    {
     "data": {
      "text/plain": [
       "distance (generic function with 1 method)"
      ]
     },
     "execution_count": 21,
     "metadata": {},
     "output_type": "execute_result"
    }
   ],
   "source": [
    "function distance(loc_1, loc_2)\n",
    "    d = (loc_1 - loc_2);\n",
    "    return (d'*d)^0.5;\n",
    "end"
   ]
  },
  {
   "cell_type": "code",
   "execution_count": 27,
   "metadata": {},
   "outputs": [],
   "source": [
    "# Here are the data from the sheet\n",
    "loc_x = [0 20 18 30 35 33 5 5 11 2];\n",
    "loc_y = [0 20 10 12 0 25 27 10 0 15];\n",
    "location = [loc_x; loc_y]\n",
    "\n",
    "require = [10 6 8 11 9 7 15 7 9 12]';\n",
    "present = [8 13 4 8 12 2 14 11 15 7]';\n",
    "\n",
    "N = 10; # 10 agencies\n",
    "fee = 0.5; # per mile\n",
    "\n",
    "fee_matrix = zeros((N,N));\n",
    "for i = 1:N\n",
    "    for j = 1:N\n",
    "        fee_matrix[i,j] = distance(location[:,i], location[:,j]) * 0.5 * 1.3;\n",
    "    end\n",
    "end\n",
    "\n"
   ]
  },
  {
   "cell_type": "code",
   "execution_count": 28,
   "metadata": {},
   "outputs": [
    {
     "name": "stdout",
     "output_type": "stream",
     "text": [
      "Coin0506I Presolve 100 (-120) rows, 135 (-65) columns and 270 (-220) elements\n",
      "Clp0006I 0  Obj 0 Primal inf 19.999994 (6)\n",
      "Clp0006I 31  Obj 92.802155 Primal inf 37.999992 (8)\n",
      "Clp0006I 49  Obj 152.63902\n",
      "Clp0006I 49  Obj -6.9451564e+11 Primal inf 8.166668e+11 (20) Dual inf 9.43e+14 (54) w.o. free dual inf (46)\n",
      "Clp0006I 61  Obj 152.63902\n",
      "Clp0000I Optimal - objective value 152.63902\n",
      "Coin0511I After Postsolve, objective 152.63902, infeasibilities - dual 0 (0), primal 0 (0)\n",
      "Clp0032I Optimal objective 152.6390163 - 61 iterations time 0.002, Presolve 0.00\n"
     ]
    }
   ],
   "source": [
    "using Clp, JuMP\n",
    "m = Model(with_optimizer(Clp.Optimizer));\n",
    "\n",
    "\n",
    "@variable(m, car_flow[1:N,1:N]);\n",
    "@variable(m,cost[1:N,1:N] >= 0);\n",
    "\n",
    "for i = 1:N\n",
    "    @constraint(m, car_flow[i,i] == 0);\n",
    "    for j = 1:N   \n",
    "        @constraint(m, car_flow[i,j] == -car_flow[j,i]);\n",
    "        @constraint(m, cost[i,j] >= (car_flow[i,j]) * fee_matrix[i,j]);\n",
    "              \n",
    "    end    \n",
    "    @constraint(m, sum(car_flow[i,:]) >= require[i] - present[i]);\n",
    "end\n",
    "\n",
    "@objective(m, Min, sum(cost));\n",
    "optimize!(m);\n"
   ]
  },
  {
   "cell_type": "code",
   "execution_count": 29,
   "metadata": {},
   "outputs": [
    {
     "data": {
      "text/plain": [
       "10×10 Array{Int64,2}:\n",
       "  0  0   0   0  0   0   0   0  2   0\n",
       "  0  0  -1   0  0  -5  -1   0  0   0\n",
       "  0  1   0   0  0   0   0   0  3   0\n",
       "  0  0   0   0  3   0   0   0  0   0\n",
       "  0  0   0  -3  0   0   0   0  0   0\n",
       "  0  5   0   0  0   0   0   0  0   0\n",
       "  0  1   0   0  0   0   0   0  0   0\n",
       "  0  0   0   0  0   0   0   0  1  -5\n",
       " -2  0  -3   0  0   0   0  -1  0   0\n",
       "  0  0   0   0  0   0   0   5  0   0"
      ]
     },
     "execution_count": 29,
     "metadata": {},
     "output_type": "execute_result"
    }
   ],
   "source": [
    "round.(Int,value.(car_flow))"
   ]
  },
  {
   "cell_type": "code",
   "execution_count": 31,
   "metadata": {},
   "outputs": [
    {
     "name": "stdout",
     "output_type": "stream",
     "text": [
      "The minimum cost is -> $152.639\n"
     ]
    }
   ],
   "source": [
    "println(\"The minimum cost is -> \\$\", round(objective_value(m), digits = 3))"
   ]
  },
  {
   "cell_type": "markdown",
   "metadata": {},
   "source": [
    "### Conclusion:\n",
    "The moving strategy is list as the matrix shown above."
   ]
  },
  {
   "cell_type": "markdown",
   "metadata": {},
   "source": [
    "## Q2. The Chess problem"
   ]
  },
  {
   "cell_type": "markdown",
   "metadata": {},
   "source": [
    "In this question, the decision variables are the number of larger and smaller sets. The constraints are as follows. First, the total fabrication time cannot be more than 160 hrs per week. Second, the total boxwood cannot exceed 200 kg per week. The objective is to achieve the maximal profit."
   ]
  },
  {
   "cell_type": "markdown",
   "metadata": {},
   "source": [
    "Variables -> $s$(small set),$l$(large set);  \n",
    "\n",
    "\\begin{align}\n",
    "\\underset{s,l}{\\text{maximize}} \\qquad& (5s + 8l) \\\\\n",
    "\\text{subject to:}\\qquad& 3s + 2l \\le 160  && \\text{(constraint 1)}\\\\\n",
    "& s + 4l \\le 200 && \\text{(constraint 2)}\\\\\n",
    "& s\\ge 0,\\,\\,l\\ge 0\n",
    "\\end{align}\n"
   ]
  },
  {
   "cell_type": "markdown",
   "metadata": {},
   "source": [
    "a)."
   ]
  },
  {
   "cell_type": "code",
   "execution_count": 6,
   "metadata": {},
   "outputs": [
    {
     "name": "stdout",
     "output_type": "stream",
     "text": [
      "Coin0506I Presolve 2 (0) rows, 2 (0) columns and 4 (0) elements\n",
      "Clp0006I 0  Obj 0 Dual inf 13 (2)\n",
      "Clp0006I 2  Obj 472\n",
      "Clp0000I Optimal - objective value 472\n",
      "Clp0032I Optimal objective 472 - 2 iterations time 0.002\n"
     ]
    }
   ],
   "source": [
    "using Clp, JuMP\n",
    "m = Model(with_optimizer(Clp.Optimizer));\n",
    "\n",
    "@variable(m, s >= 0);\n",
    "@variable(m, l >= 0);\n",
    "\n",
    "@constraint(m, 3*s + 2*l <= 160);\n",
    "@constraint(m, s + 4*l <= 200);\n",
    "\n",
    "@objective(m, Max, 5s + 8l);\n",
    "optimize!(m)"
   ]
  },
  {
   "cell_type": "code",
   "execution_count": 7,
   "metadata": {},
   "outputs": [
    {
     "name": "stdout",
     "output_type": "stream",
     "text": [
      "optimal -> [24.0,44.0]\n",
      "the maximum profit -> 472.0\n"
     ]
    }
   ],
   "source": [
    "#using Pkg\n",
    "#Pkg.add(\"PyPlot\")\n",
    "\n",
    "println(\"optimal -> [\", value.(s),\",\", value.(l),\"]\");\n",
    "println(\"the maximum profit -> \", objective_value(m))\n",
    "optimal = [value.(s),value.(l)];\n",
    "primal_optimal_value = round.(objective_value(m),digits = 3);"
   ]
  },
  {
   "cell_type": "code",
   "execution_count": 8,
   "metadata": {},
   "outputs": [
    {
     "data": {
      "image/png": "[encoded data removed]",
      "text/plain": [
       "Figure(PyObject <Figure size 640x480 with 1 Axes>)"
      ]
     },
     "metadata": {},
     "output_type": "display_data"
    }
   ],
   "source": [
    "using PyPlot\n",
    "figure();\n",
    "#s = range(0, stop=50, length=10); #|> collect\n",
    "#l = range(0, stop=50, length=2);\n",
    "\n",
    "up = 80/1.5;\n",
    "s = (0:0.1:1) * up\n",
    "plot(s, 0 * s);   # Your first constraint\n",
    "plot(0 * s, s / up * 80 );\n",
    "plot(s, (160/2 .- 3*s/ 2));\n",
    "plot(s, 200/4 .-s/4);\n",
    "\n",
    "plot(s,objective_value(m) / 8 .- s*5/8 );\n",
    "plot(optimal[1], optimal[2], \"k.\", markersize=10);    # The black dot indicite the optimal solution\n",
    "text(optimal[1], optimal[2], (optimal[1], optimal[2]));           # The position of the optimal solution\n",
    "fill([0, 0, optimal[1], 80/1.5, 0],[0, 200/4,  optimal[2], 0,0], color=(.5, .9, .9));     # Mark the feasible region\n",
    "\n",
    "legend([\"nonnegative (x_1)\", \"nonnegative (x_2)\",\"constraint 1\", \"constraint 2\", \"objective\"]);\n",
    "xlabel(L\"$s$\"); # L = LeTeX\n",
    "ylabel(L\"$l$\");\n",
    "title(\"chess problem\");\n",
    "grid();"
   ]
  },
  {
   "cell_type": "markdown",
   "metadata": {},
   "source": [
    "b). Dual"
   ]
  },
  {
   "cell_type": "markdown",
   "metadata": {},
   "source": [
    "\\begin{align}\n",
    "\\underset{\\lambda_1,\\lambda_2}{\\text{minimize}} \\qquad& 160\\lambda_1 + 200\\lambda_2 \\\\\n",
    "\\text{subject to:}\\qquad& 3\\lambda_1 + \\lambda_2 \\ge 5  && \\text{(constraint 1)}\\\\\n",
    "& 2\\lambda_1 + 4\\lambda_2 \\ge 8 && \\text{(constraint 2)}\\\\\n",
    "& \\lambda_1\\ge 0,\\,\\,\\lambda_2\\ge 0\n",
    "\\end{align}"
   ]
  },
  {
   "cell_type": "code",
   "execution_count": 9,
   "metadata": {},
   "outputs": [
    {
     "name": "stdout",
     "output_type": "stream",
     "text": [
      "Coin0506I Presolve 2 (0) rows, 2 (0) columns and 4 (0) elements\n",
      "Clp0006I 0  Obj 0 Primal inf 3.6666665 (2)\n",
      "Clp0006I 2  Obj 472\n",
      "Clp0000I Optimal - objective value 472\n",
      "Clp0032I Optimal objective 472 - 2 iterations time 0.002\n"
     ]
    }
   ],
   "source": [
    "using Clp, JuMP;\n",
    "m = Model(with_optimizer(Clp.Optimizer));\n",
    "@variable(m, lambda1 >= 0);\n",
    "@variable(m, lambda2 >= 0);\n",
    "\n",
    "@constraint(m, 3*lambda1 + lambda2 >= 5);\n",
    "@constraint(m, 2*lambda1 + 4*lambda2 >= 8);\n",
    "@objective(m, Min, 160*lambda1 + 200*lambda2);\n",
    "optimize!(m);"
   ]
  },
  {
   "cell_type": "code",
   "execution_count": 10,
   "metadata": {},
   "outputs": [
    {
     "name": "stdout",
     "output_type": "stream",
     "text": [
      "optimal -> [1.1999999999999997,1.4000000000000001]\n",
      "the maximum profit -> 471.99999999999994\n"
     ]
    }
   ],
   "source": [
    "println(\"optimal -> [\", value.(lambda1),\",\", value.(lambda2),\"]\");\n",
    "println(\"the maximum profit -> \", objective_value(m))\n",
    "optimal = round.([value.(lambda1),value.(lambda2)], digits = 3);\n",
    "dual_optimal_value = round.(objective_value(m), digits = 3);"
   ]
  },
  {
   "cell_type": "code",
   "execution_count": 11,
   "metadata": {},
   "outputs": [
    {
     "data": {
      "image/png": "[encoded data removed]",
      "text/plain": [
       "Figure(PyObject <Figure size 640x480 with 1 Axes>)"
      ]
     },
     "metadata": {},
     "output_type": "display_data"
    }
   ],
   "source": [
    "using PyPlot\n",
    "figure();\n",
    "#s = range(0, stop=50, length=10); #|> collect\n",
    "#l = range(0, stop=50, length=2);\n",
    "\n",
    "up =5/3;\n",
    "s = (0:0.1:1) * up\n",
    "plot(s, 0 * s);   # Your first constraint\n",
    "plot(0 * s, s/up * 5  );\n",
    "plot(s, (5 .- 3*s));\n",
    "plot(s, 8/4 .-s/2);\n",
    "\n",
    "plot(s,objective_value(m) / 200 .- s*160/200 );\n",
    "plot(optimal[1], optimal[2], \"k.\", markersize=10);    # The black dot indicite the optimal solution\n",
    "text(optimal[1], optimal[2], (optimal[1], optimal[2]));           # The position of the optimal solution\n",
    "fill([0, optimal[1], 5/3,5/3],[5, optimal[2], 7/6,5], color=(.5, .9, .9));     # Mark the feasible region\n",
    "\n",
    "legend([\"nonnegative (x_1)\", \"nonnegative (x_2)\",\"constraint 1\", \"constraint 2\", \"objective\"]);\n",
    "xlabel(L\"$\\lambda_1$\"); # L = LeTeX\n",
    "ylabel(L\"$\\lambda_2$\");\n",
    "title(\"chess problem\");\n",
    "grid();"
   ]
  },
  {
   "cell_type": "code",
   "execution_count": 12,
   "metadata": {},
   "outputs": [
    {
     "data": {
      "text/plain": [
       "true"
      ]
     },
     "execution_count": 12,
     "metadata": {},
     "output_type": "execute_result"
    }
   ],
   "source": [
    "primal_optimal_value == dual_optimal_value"
   ]
  },
  {
   "cell_type": "markdown",
   "metadata": {},
   "source": [
    "### Conclusion:\n",
    "We can see the optimals by primal and dual method is exactly the same."
   ]
  },
  {
   "cell_type": "markdown",
   "metadata": {},
   "source": [
    "## Q3. Stigler's supplement"
   ]
  },
  {
   "cell_type": "code",
   "execution_count": 13,
   "metadata": {},
   "outputs": [],
   "source": [
    "## import the data\n",
    "using CSV, NamedArrays;\n",
    "\n",
    "# import Stigler's data set as a dataframe\n",
    "raw = CSV.read(\"stigler-1.csv\");\n",
    "\n",
    "(m,n) = size(raw);  # m = number of rows, n = number of columns\n",
    "\n",
    "n_nutrients = 2:n;      # indices of columns containing nutrients (skip the first one)\n",
    "n_foods = 2:m;          # indices of rows containing food names (skip the two first ones)\n",
    "\n",
    "nutrients = names(raw)[n_nutrients];   # the list of nutrients \n",
    "foods = raw[n_foods,1];                # the list of foods \n",
    "\n",
    "# Put the data about nutrients and foods into an array\n",
    "data = convert(Matrix{Float64}, raw[n_foods,n_nutrients]);\n",
    "\n",
    "# lower[i] is the minimum daily requirement of nutrient i.\n",
    "lower = convert(Vector{Float64}, raw[1,n_nutrients]);\n"
   ]
  },
  {
   "cell_type": "markdown",
   "metadata": {},
   "source": [
    "a)."
   ]
  },
  {
   "cell_type": "markdown",
   "metadata": {},
   "source": [
    "\\begin{align}\n",
    "\\underset{c_i}{\\text{minimize}} \\qquad& \\sum_{i=1}^n{c_i} \\\\\n",
    "\\text{subject to:}\\qquad& Ac \\ge b  && \\text{(constraint 1)}\\\\\n",
    "& c_i\\ge 0\n",
    "\\end{align}\n",
    "A is the nutritions of the food list, and b is the required nutritions.  \n",
    "With duality  \n",
    "\\begin{align}\n",
    "\\underset{\\lambda}{\\text{maximize}} \\qquad& b^T\\lambda \\\\\n",
    "\\text{subject to:}\\qquad& A^T\\lambda \\le 1  && \\text{(constraint 1)}\\\\\n",
    "& \\lambda\\ge 0\n",
    "\\end{align}"
   ]
  },
  {
   "cell_type": "markdown",
   "metadata": {},
   "source": [
    "The maximum price for the pill means the minimum of calcium I can get with 1 dollor from this pill. So if we can buy $x$ grams of calcium with one dollar, we can buy $2x$ pills. Therefore, this question is exactly asking how much calcium at least we can get from this one dollar purchase of the pills. Because this linear programming question subjects to $A^T\\lambda \\leq 1$, the $\\lambda$ remains unchanged until $x\\lambda_3 \\geq 1$, where $x$ stands for the amount of calcium from the pills by one dollar."
   ]
  },
  {
   "cell_type": "code",
   "execution_count": 14,
   "metadata": {},
   "outputs": [
    {
     "name": "stdout",
     "output_type": "stream",
     "text": [
      "Coin0506I Presolve 32 (-54) rows, 9 (0) columns and 251 (-328) elements\n",
      "Clp0006I 0  Obj -0 Dual inf 120.70151 (9)\n",
      "Clp0006I 12  Obj 0.10866228\n",
      "Clp0000I Optimal - objective value 0.10866228\n",
      "Coin0511I After Postsolve, objective 0.10866228, infeasibilities - dual 0 (0), primal 0 (0)\n",
      "Clp0032I Optimal objective 0.1086622782 - 12 iterations time 0.002, Presolve 0.00\n"
     ]
    }
   ],
   "source": [
    "# first step: get the lambdas\n",
    "using JuMP, Clp;\n",
    "m = Model(with_optimizer(Clp.Optimizer));\n",
    "\n",
    "lambda = @variable(m, [1:length(lower)]);\n",
    "\n",
    "for i = 1:length(lower)\n",
    "    @constraint(m, lambda[i]>=0);\n",
    "end\n",
    "\n",
    "for i = 1:length(data[:,1])\n",
    "    @constraint(m, data[i,:]' * lambda <= 1);\n",
    "end\n",
    "\n",
    "@objective(m, Max, lower' * lambda);\n",
    "\n",
    "optimize!(m)\n",
    "\n",
    "cost_non_pill = objective_value(m);"
   ]
  },
  {
   "cell_type": "code",
   "execution_count": 15,
   "metadata": {},
   "outputs": [
    {
     "name": "stdout",
     "output_type": "stream",
     "text": [
      "The most I would be willing to pay is $0.0159/pill.\n"
     ]
    }
   ],
   "source": [
    "min_cal = 1 / value.(lambda[3]); \n",
    "# In order to lower the total cost, \n",
    "#this is the minimum amount of calcium you should get by one dollar from the pill!\n",
    "\n",
    "price = 1 / (min_cal / 0.5);\n",
    "# min_cal/0.5 is the number of pills you can buy with 1 dollar\n",
    "println(\"The most I would be willing to pay is \\$\", round.(price,digits = 4), \"/pill.\");"
   ]
  },
  {
   "cell_type": "markdown",
   "metadata": {},
   "source": [
    "#### Answer:  The most I would pay is 0.0159 dollars per pill."
   ]
  },
  {
   "cell_type": "markdown",
   "metadata": {},
   "source": [
    "b)."
   ]
  },
  {
   "cell_type": "code",
   "execution_count": 16,
   "metadata": {},
   "outputs": [],
   "source": [
    "ca_pill = zeros((1,length(data[1,:])));\n",
    "ca_pill[3] = 1/0.01 * 0.5; ## how much calcium in 1 buck\n",
    "A_pill = [data;ca_pill];"
   ]
  },
  {
   "cell_type": "code",
   "execution_count": 17,
   "metadata": {},
   "outputs": [
    {
     "name": "stdout",
     "output_type": "stream",
     "text": [
      "Coin0506I Presolve 9 (-78) rows, 77 (-1) columns and 570 (-79) elements\n",
      "Clp0006I 0  Obj 0 Primal inf 4.7027054 (9)\n",
      "Clp0006I 5  Obj 0.10136506\n",
      "Clp0000I Optimal - objective value 0.10136506\n",
      "Coin0511I After Postsolve, objective 0.10136506, infeasibilities - dual 0 (0), primal 0 (0)\n",
      "Clp0032I Optimal objective 0.1013650613 - 5 iterations time 0.002, Presolve 0.00\n"
     ]
    }
   ],
   "source": [
    "using JuMP, Clp;\n",
    "m = Model(with_optimizer(Clp.Optimizer));\n",
    "\n",
    "\n",
    "## dual!!!!!!!!!!!!!!!!!!!!!!!!!!!!!!!!!!!!\n",
    "#=\n",
    "lambda = @variable(m, [1:length(lower)]);\n",
    "\n",
    "for i = 1:length(lower)\n",
    "    @constraint(m, lambda[i]>=0);\n",
    "end\n",
    "\n",
    "A_pill = [data;ca_pill];\n",
    "\n",
    "for i = 1:length(A_pill[:,1])\n",
    "    @constraint(m, A_pill[i,:]' * lambda <= 1);\n",
    "end\n",
    "\n",
    "@objective(m, Max, lower' * lambda);\n",
    "=#\n",
    "\n",
    "## primal!!!!!!!!!!!!!!!!!!!!!!!!!!!!!!!!!!!!!\n",
    "\n",
    "n_food = @variable(m, [1:length(A_pill[:,1])]);\n",
    "for i = 1 : length(A_pill[:,1])\n",
    "    @constraint(m,n_food[i] >= 0);\n",
    "end\n",
    "\n",
    "for j = 1:length(A_pill[1,:])\n",
    "    @constraint(m,n_food' * A_pill[:,j]>=lower[j] );\n",
    "end\n",
    "\n",
    "@objective(m, Min, sum(n_food))\n",
    "optimize!(m)\n",
    "\n",
    "cost_w_pill = objective_value(m);\n",
    "\n",
    "foods_w_pill = [foods;\"Calcium pill\"];\n",
    "diets = round.(value.(n_food), digits = 3);\n",
    "diets = reshape(diets, (length(diets),1));\n",
    "\n",
    "table = NamedArray(diets,(foods_w_pill, [\"dollars\"]),(\"nutrients\",\"amount\"));"
   ]
  },
  {
   "cell_type": "code",
   "execution_count": 18,
   "metadata": {},
   "outputs": [
    {
     "name": "stdout",
     "output_type": "stream",
     "text": [
      "The optimal diets is ->\n",
      "Wheat Flour (Enriched) -> 0.066\n",
      "Macaroni -> 0.0\n",
      "Wheat Cereal (Enriched) -> 0.0\n",
      "Corn Flakes -> 0.0\n",
      "Corn Meal -> 0.0\n",
      "Hominy Grits -> 0.0\n",
      "Rice -> 0.0\n",
      "Rolled Oats -> 0.0\n",
      "White Bread (Enriched) -> 0.0\n",
      "Whole Wheat Bread -> 0.0\n",
      "Rye Bread -> 0.0\n",
      "Pound Cake -> 0.0\n",
      "Soda Crackers -> 0.0\n",
      "Milk -> 0.0\n",
      "Evaporated Milk (can) -> 0.0\n",
      "Butter -> 0.0\n",
      "Oleomargarine -> 0.0\n",
      "Eggs -> 0.0\n",
      "Cheese (Cheddar) -> 0.0\n",
      "Cream -> 0.0\n",
      "Peanut Butter -> 0.0\n",
      "Mayonnaise -> 0.0\n",
      "Crisco -> 0.0\n",
      "Lard -> 0.0\n",
      "Sirloin Steak -> 0.0\n",
      "Round Steak -> 0.0\n",
      "Rib Roast -> 0.0\n",
      "Chuck Roast -> 0.0\n",
      "Plate -> 0.0\n",
      "Liver (Beef) -> 0.008\n",
      "Leg of Lamb -> 0.0\n",
      "Lamb Chops (Rib) -> 0.0\n",
      "Pork Chops -> 0.0\n",
      "Pork Loin Roast -> 0.0\n",
      "Bacon -> 0.0\n",
      "Ham, smoked -> 0.0\n",
      "Salt Pork -> 0.0\n",
      "Roasting Chicken -> 0.0\n",
      "Veal Cutlets -> 0.0\n",
      "Salmon, Pink (can) -> 0.0\n",
      "Apples -> 0.0\n",
      "Bananas -> 0.0\n",
      "Lemons -> 0.0\n",
      "Oranges -> 0.0\n",
      "Green Beans -> 0.0\n",
      "Cabbage -> 0.011\n",
      "Carrots -> 0.0\n",
      "Celery -> 0.0\n",
      "Lettuce -> 0.0\n",
      "Onions -> 0.0\n",
      "Potatoes -> 0.0\n",
      "Spinach -> 0.004\n",
      "Sweet Potatoes -> 0.0\n",
      "Peaches (can) -> 0.0\n",
      "Pears (can) -> 0.0\n",
      "Pineapple (can) -> 0.0\n",
      "Asparagus (can) -> 0.0\n",
      "Green Beans (can) -> 0.0\n",
      "Pork and Beans (can) -> 0.0\n",
      "Corn (can) -> 0.0\n",
      "Peas (can) -> 0.0\n",
      "Tomatoes (can) -> 0.0\n",
      "Tomato Soup (can) -> 0.0\n",
      "Peaches, Dried -> 0.0\n",
      "Prunes, Dried -> 0.0\n",
      "Raisins, Dried -> 0.0\n",
      "Peas, Dried -> 0.0\n",
      "Lima Beans, Dried -> 0.0\n",
      "Navy Beans, Dried -> 0.0\n",
      "Coffee -> 0.0\n",
      "Tea -> 0.0\n",
      "Cocoa -> 0.0\n",
      "Chocolate -> 0.0\n",
      "Sugar -> 0.0\n",
      "Corn Syrup -> 0.0\n",
      "Molasses -> 0.0\n",
      "Strawberry Preserves -> 0.0\n",
      "Calcium pill -> 0.012\n"
     ]
    }
   ],
   "source": [
    "println(\"The optimal diets is ->\");\n",
    "for i = 1: length(diets)\n",
    "    println(foods_w_pill[i],\" -> \", diets[i]);\n",
    "end"
   ]
  },
  {
   "cell_type": "code",
   "execution_count": 19,
   "metadata": {},
   "outputs": [
    {
     "name": "stdout",
     "output_type": "stream",
     "text": [
      "The minimum cost (annual) with pills -> $36.998\n",
      "The minimum cost (annual) without pills -> $39.662\n"
     ]
    }
   ],
   "source": [
    "println(\"The minimum cost (annual) with pills -> \\$\", round(cost_w_pill * 365, digits = 3));\n",
    "println(\"The minimum cost (annual) without pills -> \\$\", round(cost_non_pill * 365, digits = 3));"
   ]
  },
  {
   "cell_type": "markdown",
   "metadata": {},
   "source": [
    "#### Answer: The current cost is 37 dollars, while the previous cost is 39.66 dollars."
   ]
  }
 ],
 "metadata": {
  "kernelspec": {
   "display_name": "Julia 1.3.1",
   "language": "julia",
   "name": "julia-1.3"
  },
  "language_info": {
   "file_extension": ".jl",
   "mimetype": "application/julia",
   "name": "julia",
   "version": "1.3.1"
  }
 },
 "nbformat": 4,
 "nbformat_minor": 4
}
