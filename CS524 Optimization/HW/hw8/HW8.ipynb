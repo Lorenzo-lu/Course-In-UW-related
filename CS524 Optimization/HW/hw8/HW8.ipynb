{
 "cells": [
  {
   "cell_type": "markdown",
   "metadata": {},
   "source": [
    "# HW 8: Integer programs and duality"
   ]
  },
  {
   "cell_type": "markdown",
   "metadata": {},
   "source": [
    "## 1. ABC investments"
   ]
  },
  {
   "cell_type": "markdown",
   "metadata": {},
   "source": [
    "The variables are  \n",
    "1. $S[i]$, (S is the short for selection), which only has 0 and 1 inside, indicating if a investment is made for the $i_{th}$ option;  \n",
    "2. $I[i]$, (I is the short for investment), indicating how much investment is made for the $i_{th}$ option;  \n",
    "\n",
    "The constraints are:  \n",
    "1. $\\sum_i I_i = 80$;  \n",
    "2. $S$ only contains 0 and 1;  \n",
    "3. $I_5 <= I_2 + I_4 + I_6$ ;  \n",
    "4. if $S_3 = 1$, then $S_6 = 1$, or, if $S_6 = 0$, then $S_3 = 0$;  \n",
    "5. $S_iMin_i \\le  I_i \\le S_iMax_i$ where $Min_i$ and $Max_i$ is the minimum and maximum investment for the $i_{th}$ option;  \n",
    "  \n",
    "The obejective is to maximum $\\sum_i I_iP_i$, where $P_i$ is the return of the $i_{th}$ option."
   ]
  },
  {
   "cell_type": "code",
   "execution_count": 1,
   "metadata": {},
   "outputs": [
    {
     "name": "stdout",
     "output_type": "stream",
     "text": [
      "Academic license - for non-commercial use only\r\n",
      "Academic license - for non-commercial use only\r\n"
     ]
    }
   ],
   "source": [
    "using JuMP, Gurobi\n",
    "m1_test = Model(Gurobi.Optimizer);\n",
    "set_silent(m1_test);\n",
    "option = [3 27 13; 2 12 9; 9 35 17; 5 15 10; 12 46 22; 4 18 12];\n",
    "\n",
    "select = @variable(m1_test, [1:6, 1:1], Bin);\n",
    "invest = @variable(m1_test, [1:6,1:1]);\n",
    "\n",
    "@constraint(m1_test, sum(invest) == 80);\n",
    "@constraint(m1_test, invest[5]<=(invest[2] + invest[4] + invest[6]));\n",
    "\n",
    "for i=1:6\n",
    "    if i==3\n",
    "        @constraint(m1_test, invest[i] <= select[i]*select[6]*option[i,2]); ## if opt6 is 0, then invest3 is controlled by select6 primarily\n",
    "        @constraint(m1_test, invest[i] >= select[i]*select[6]*option[i,1]); ## if opt6 is 1, then invest3 is controlled by select3\n",
    "    else\n",
    "        @constraint(m1_test, invest[i] <= select[i]*option[i,2]);\n",
    "        @constraint(m1_test, invest[i] >= select[i]*option[i,1]);\n",
    "    end            \n",
    "end\n",
    "\n",
    "@objective(m1_test, Max, sum(select .*invest .*option[:, 3] ./100));\n",
    "optimize!(m1_test);\n"
   ]
  },
  {
   "cell_type": "code",
   "execution_count": 2,
   "metadata": {},
   "outputs": [
    {
     "name": "stdout",
     "output_type": "stream",
     "text": [
      "The maximum return is $13.5 million \n",
      "The investment is [0.0; 0.0; 35.0; 5.0; 22.5; 17.5] (million dollars) for these six options.\n"
     ]
    }
   ],
   "source": [
    "println(\"The maximum return is \\$$(round.(objective_value(m1_test), digits =6)) million \");\n",
    "println(\"The investment is $(round.(value.(invest), digits =6)) (million dollars) for these six options.\");"
   ]
  },
  {
   "cell_type": "markdown",
   "metadata": {},
   "source": [
    "## 2. Lagrangian duality"
   ]
  },
  {
   "cell_type": "markdown",
   "metadata": {},
   "source": [
    "### a)"
   ]
  },
  {
   "cell_type": "markdown",
   "metadata": {},
   "source": [
    "The variables are $x_1$ and $x_2$;  \n",
    "The constraint is $x_1 \\ge 1$;  \n",
    "The objective is to minimize $\\frac{1}{2}(x_1^2 + x_2^2)$;"
   ]
  },
  {
   "cell_type": "code",
   "execution_count": 3,
   "metadata": {},
   "outputs": [],
   "source": [
    "using Gurobi, JuMP;"
   ]
  },
  {
   "cell_type": "code",
   "execution_count": 4,
   "metadata": {},
   "outputs": [
    {
     "name": "stdout",
     "output_type": "stream",
     "text": [
      "Academic license - for non-commercial use only\r\n",
      "Academic license - for non-commercial use only\r\n"
     ]
    }
   ],
   "source": [
    "m2a = Model(Gurobi.Optimizer);\n",
    "set_silent(m2a);\n",
    "x = @variable(m2a, [1:2, 1:1]);\n",
    "@constraint(m2a, x[1] >= 1  );\n",
    "@objective(m2a, Min, (x[1]^2 + x[2]^2)/2);\n",
    "optimize!(m2a);\n",
    "primal_optimal = objective_value(m2a);"
   ]
  },
  {
   "cell_type": "code",
   "execution_count": 5,
   "metadata": {},
   "outputs": [
    {
     "name": "stdout",
     "output_type": "stream",
     "text": [
      "The optimal primal value p* is 0.5\n"
     ]
    }
   ],
   "source": [
    "println(\"The optimal primal value p* is $(primal_optimal)\");"
   ]
  },
  {
   "cell_type": "markdown",
   "metadata": {},
   "source": [
    "### b)"
   ]
  },
  {
   "cell_type": "markdown",
   "metadata": {},
   "source": [
    "The Lagrangian $L(x_1, x_2, \\lambda) = \\frac{1}{2}(x_1^2 + x_2^2) + \\lambda(1-x_1)$  \n",
    "$L(x_1, x_2, \\lambda) = \\frac{1}{2}(x_1^2 + x_2^2 - 2\\lambda x_1) + \\lambda = \\frac{1}{2}(x_1^2 + x_2^2 - 2\\lambda x_1 + \\lambda^2) - \\frac{1}{2}\\lambda^2 + \\lambda = \\frac{1}{2}((x_1 - \\lambda)^2 + x_2^2) - \\frac{1}{2}\\lambda^2 + \\lambda$  \n",
    "The dual $g(\\lambda) = min\\frac{1}{2}((x_1 - \\lambda)^2 + x_2^2)  - \\frac{1}{2}\\lambda^2 + \\lambda$  \n",
    "As $min\\frac{1}{2}((x_1 - \\lambda)^2 + x_2^2) = 0$, we have  \n",
    "$g(\\lambda) = - \\frac{1}{2}\\lambda^2 + \\lambda \\quad (s.t \\quad  \\lambda \\ge 0)$"
   ]
  },
  {
   "cell_type": "markdown",
   "metadata": {},
   "source": [
    "### c)"
   ]
  },
  {
   "cell_type": "code",
   "execution_count": 6,
   "metadata": {},
   "outputs": [
    {
     "name": "stdout",
     "output_type": "stream",
     "text": [
      "Academic license - for non-commercial use only\r\n",
      "Academic license - for non-commercial use only\r\n"
     ]
    }
   ],
   "source": [
    "m2b = Model(Gurobi.Optimizer);\n",
    "set_silent(m2b);\n",
    "@variable(m2b, lambda >= 0);\n",
    "@objective(m2b, Max, -0.5 * lambda^2 + lambda );\n",
    "optimize!(m2b);\n",
    "dual_optimal = objective_value(m2b);"
   ]
  },
  {
   "cell_type": "code",
   "execution_count": 7,
   "metadata": {},
   "outputs": [
    {
     "name": "stdout",
     "output_type": "stream",
     "text": [
      "The optimal dual value d* is 0.5\n"
     ]
    }
   ],
   "source": [
    "println(\"The optimal dual value d* is $(dual_optimal)\");"
   ]
  },
  {
   "cell_type": "markdown",
   "metadata": {},
   "source": [
    "### d)"
   ]
  },
  {
   "cell_type": "markdown",
   "metadata": {},
   "source": [
    "Slater condition is staisfied in this question. Let's look at the Lagrange function:\n",
    "$L(x_1, x_2, \\lambda) = \\frac{1}{2}(x_1^2 + x_2^2) + \\lambda(1-x_1)$  has two terms where the both of them are convex. Thus, this problem is convex; also, there  exists $x$ satisfying $1-x < 0 $, so this question is trictly feasible;  \n",
    "\n",
    "Thus the strong duality holds."
   ]
  },
  {
   "cell_type": "markdown",
   "metadata": {},
   "source": [
    "## 3. Laurent goes to the gym"
   ]
  },
  {
   "cell_type": "code",
   "execution_count": 8,
   "metadata": {},
   "outputs": [],
   "source": [
    "using JuMP, Gurobi\n",
    "Require = [310;100;355;130;395;160;375;160;355;160;330;160;310;160;290;160];\n"
   ]
  },
  {
   "cell_type": "markdown",
   "metadata": {},
   "source": [
    "### a)"
   ]
  },
  {
   "cell_type": "markdown",
   "metadata": {},
   "source": [
    "The variable is $n_{iw}$，the PAIR number of plates with weight $w$ in the $i_{th}$ exercise.  \n",
    "The constraints are  \n",
    "1. $n_{iw}$ is integer  \n",
    "2. $\\sum_w 2* n_{iw} w +45 = r_i$, where $r_i$ is the required weight for the $i_{th}$ exercise, and $45$ is the weight of the steel bar   \n",
    "\n",
    "The objective is to minimize $\\sum_w n_{iw}$ for the $i_{th}$ exercise  "
   ]
  },
  {
   "cell_type": "code",
   "execution_count": 9,
   "metadata": {},
   "outputs": [
    {
     "name": "stdout",
     "output_type": "stream",
     "text": [
      "Academic license - for non-commercial use only\r\n",
      "Academic license - for non-commercial use only\r\n"
     ]
    }
   ],
   "source": [
    "W = [2.5;5;10;25;45];\n",
    "\n",
    "m3a = Model(Gurobi.Optimizer);\n",
    "set_silent(m3a);\n",
    "\n",
    "schedule_1 = zeros(length(W), length(Require));\n",
    "\n",
    "for i = 1:length(Require)\n",
    "    n_pairs = @variable(m3a, [1:length(W), 1:1], Int);\n",
    "    @constraint(m3a, n_pairs .>= 0);\n",
    "    @constraint(m3a, (2 * sum(n_pairs .* W) )+ 45== Require[i]);\n",
    "    @objective(m3a, Min, sum(n_pairs));\n",
    "    optimize!(m3a);\n",
    "    schedule_1[:,i] = (value.(n_pairs)).*2;\n",
    "end"
   ]
  },
  {
   "cell_type": "code",
   "execution_count": 10,
   "metadata": {},
   "outputs": [
    {
     "name": "stdout",
     "output_type": "stream",
     "text": [
      "16×5 Named Array{Int64,2}\n",
      "Exe ╲ Plates │ 2.5    5   10   25   45\n",
      "─────────────┼────────────────────────\n",
      "1            │   2    0    2    6    2\n",
      "2            │   2    0    0    2    0\n",
      "3            │   0    0    4    0    6\n",
      "4            │   2    2    2    2    0\n",
      "5            │   0    2    2    2    6\n",
      "6            │   2    0    2    0    2\n",
      "7            │   0    2    0    2    6\n",
      "8            │   2    0    2    0    2\n",
      "9            │   0    0    4    0    6\n",
      "10           │   2    0    2    0    2\n",
      "11           │   2    2    0    0    6\n",
      "12           │   2    0    2    0    2\n",
      "13           │   2    2    2    2    4\n",
      "14           │   2    0    2    0    2\n",
      "15           │   2    2    0    2    4\n",
      "16           │   2    0    2    0    2\n",
      "The exercises are sorted by set. Every pair (e.g 3 and 4) are in the same set.\n"
     ]
    }
   ],
   "source": [
    "using NamedArrays;\n",
    "\n",
    "Exercises = collect(1:length(Require));\n",
    "Weights = [\"2.5\", \"5\", \"10\", \"25\", \"45\"];\n",
    "#NamedArray((schedule_1'), (Weights, Exercises), (\"Plates\", \"Exercise\"))\n",
    "println(NamedArray(convert.(Int, schedule_1'), (Exercises, Weights), (\"Exe\", \"Plates\")));\n",
    "println(\"The exercises are sorted by set. Every pair (e.g 3 and 4) are in the same set.\");"
   ]
  },
  {
   "cell_type": "markdown",
   "metadata": {},
   "source": [
    "### b)"
   ]
  },
  {
   "cell_type": "markdown",
   "metadata": {},
   "source": [
    "The variable is $n_{iw}$，the PAIR number of plates with weight $w$ in the $i_{th}$ exercise.  \n",
    "The constraints are  \n",
    "1. $n_{iw}$ is integer  \n",
    "2. $\\sum_w 2* n_{iw} w + 45= r_i$, where $r_i$ is the required weight for the $i_{th}$ exercise, and $45$ is the weight of the steel bar   \n",
    "3. $n_{iw} \\le n_{w_{purchase}}$, where $n_{w_{purchase}}$ is the number of plates with weight $w$ purchased.\n",
    "\n",
    "The objective is to minimize $\\sum_w n_{w_{purchase}}$."
   ]
  },
  {
   "cell_type": "code",
   "execution_count": 11,
   "metadata": {},
   "outputs": [
    {
     "name": "stdout",
     "output_type": "stream",
     "text": [
      "Academic license - for non-commercial use only\r\n",
      "Academic license - for non-commercial use only\r\n"
     ]
    },
    {
     "data": {
      "text/plain": [
       "16×5 Array{Int64,2}:\n",
       " 2  2  2  2  4\n",
       " 2  0  0  2  0\n",
       " 0  2  2  4  4\n",
       " 2  2  2  2  0\n",
       " 0  2  2  2  6\n",
       " 2  0  2  0  2\n",
       " 0  2  0  2  6\n",
       " 2  0  2  0  2\n",
       " 0  2  2  4  4\n",
       " 2  0  2  0  2\n",
       " 2  0  0  4  4\n",
       " 2  0  2  0  2\n",
       " 2  2  2  2  4\n",
       " 2  0  2  0  2\n",
       " 2  2  0  2  4\n",
       " 2  0  2  0  2"
      ]
     },
     "execution_count": 11,
     "metadata": {},
     "output_type": "execute_result"
    }
   ],
   "source": [
    "W = [2.5;5;10;25;45];\n",
    "\n",
    "m3b = Model(Gurobi.Optimizer);\n",
    "set_silent(m3b);\n",
    "\n",
    "#schedule_1 = zeros(length(W), length(Require));\n",
    "n_purchase_pairs = @variable(m3b, [1:length(W), 1:1], Int);\n",
    "n_pairs = @variable(m3b, [1:length(W), 1:length(Require)], Int);\n",
    "for i = 1:length(Require)\n",
    "    #@constraint(m3b, n_pairs[:,i])\n",
    "    @constraint(m3b, n_pairs[:,i] .>= 0);\n",
    "    @constraint(m3b, (2 * sum(n_pairs[:,i] .* W) )+ 45== Require[i]);\n",
    "    @constraint(m3b, n_pairs[:,i] .<= n_purchase_pairs);\n",
    "end\n",
    "\n",
    "@objective(m3b, Min, sum(n_purchase_pairs));\n",
    "optimize!(m3b);\n",
    "convert.(Int,2*(value.(n_pairs)'))"
   ]
  },
  {
   "cell_type": "code",
   "execution_count": 12,
   "metadata": {},
   "outputs": [
    {
     "name": "stdout",
     "output_type": "stream",
     "text": [
      "The number of each bumber is :\n",
      "[\"2.5\", \"5\", \"10\", \"25\", \"45\"]\n",
      "[2; 2; 2; 4; 6]\n"
     ]
    }
   ],
   "source": [
    "Purchased = convert.(Int,value.(n_purchase_pairs) .*2);\n",
    "println(\"The number of each bumber is :\")\n",
    "println(Weights);\n",
    "println(Purchased);"
   ]
  },
  {
   "cell_type": "markdown",
   "metadata": {},
   "source": [
    "### c)"
   ]
  },
  {
   "cell_type": "markdown",
   "metadata": {},
   "source": [
    "The variable is $n_{iw}$，the PAIR number of plates with weight $w$ in the $i_{th}$ exercise.  \n",
    "The constraints are  \n",
    "1. $n_{iw}$ is integer  \n",
    "2. $\\sum_w 2* n_{iw} w + 45 = r_i$, where $r_i$ is the required weight for the $i_{th}$ exercise, and $45$ is the weight of the steel bar   \n",
    "3. $n_{iw} \\le n_{w_{purchase}}$, where $n_{w_{purchase}}$ is the number of plates with weight $w$ purchased.\n",
    "\n",
    "The objective is to minimize $\\sum_w n_{iw}$ for the $i_{th}$ exercise."
   ]
  },
  {
   "cell_type": "code",
   "execution_count": 13,
   "metadata": {},
   "outputs": [
    {
     "name": "stdout",
     "output_type": "stream",
     "text": [
      "Academic license - for non-commercial use only\r\n",
      "Academic license - for non-commercial use only\r\n"
     ]
    }
   ],
   "source": [
    "Purchased = value.(n_purchase_pairs);\n",
    "\n",
    "W = [2.5;5;10;25;45];\n",
    "\n",
    "m3c = Model(Gurobi.Optimizer);\n",
    "set_silent(m3c);\n",
    "\n",
    "schedule_2 = zeros(length(W), length(Require));\n",
    "\n",
    "for i = 1:length(Require)\n",
    "    n_pairs = @variable(m3c, [1:length(W), 1:1], Int);\n",
    "    @constraint(m3c, n_pairs .>= 0);\n",
    "    @constraint(m3c, n_pairs .<= Purchased);\n",
    "    @constraint(m3c, (2 * sum(n_pairs .* W) )+ 45== Require[i]);\n",
    "    @objective(m3c, Min, sum(n_pairs));\n",
    "    optimize!(m3c);\n",
    "    schedule_2[:,i] = (value.(n_pairs)).*2;\n",
    "end"
   ]
  },
  {
   "cell_type": "code",
   "execution_count": 14,
   "metadata": {},
   "outputs": [
    {
     "name": "stdout",
     "output_type": "stream",
     "text": [
      "16×5 Named Array{Int64,2}\n",
      "Exe ╲ Plates │ 2.5    5   10   25   45\n",
      "─────────────┼────────────────────────\n",
      "1            │   2    2    2    2    4\n",
      "2            │   2    0    0    2    0\n",
      "3            │   0    2    2    4    4\n",
      "4            │   2    2    2    2    0\n",
      "5            │   0    2    2    2    6\n",
      "6            │   2    0    2    0    2\n",
      "7            │   0    2    0    2    6\n",
      "8            │   2    0    2    0    2\n",
      "9            │   0    2    2    4    4\n",
      "10           │   2    0    2    0    2\n",
      "11           │   2    0    0    4    4\n",
      "12           │   2    0    2    0    2\n",
      "13           │   2    2    2    2    4\n",
      "14           │   2    0    2    0    2\n",
      "15           │   2    2    0    2    4\n",
      "16           │   2    0    2    0    2\n",
      "The exercises are sorted by set. Every pair (e.g 3 and 4) are in the same set.\n"
     ]
    }
   ],
   "source": [
    "Exercises = collect(1:length(Require));\n",
    "Weights = [\"2.5\", \"5\", \"10\", \"25\", \"45\"];\n",
    "#NamedArray((schedule_1'), (Weights, Exercises), (\"Plates\", \"Exercise\"))\n",
    "println(NamedArray(convert.(Int, schedule_2'), (Exercises, Weights), (\"Exe\", \"Plates\")));\n",
    "println(\"The exercises are sorted by set. Every pair (e.g 3 and 4) are in the same set.\");"
   ]
  },
  {
   "cell_type": "code",
   "execution_count": null,
   "metadata": {},
   "outputs": [],
   "source": []
  }
 ],
 "metadata": {
  "kernelspec": {
   "display_name": "Julia 1.3.1",
   "language": "julia",
   "name": "julia-1.3"
  },
  "language_info": {
   "file_extension": ".jl",
   "mimetype": "application/julia",
   "name": "julia",
   "version": "1.3.1"
  }
 },
 "nbformat": 4,
 "nbformat_minor": 2
}
