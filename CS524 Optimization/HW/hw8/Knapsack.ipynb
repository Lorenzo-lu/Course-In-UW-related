{
 "cells": [
  {
   "cell_type": "markdown",
   "metadata": {},
   "source": [
    "# Knapsack problem\n",
    "\n",
    "My knapsack holds at most 15kg. I have the following items:\n",
    "\n",
    "|Item number | 1  | 2  | 3  | 4  | 5  |\n",
    "|------------|----|----|----|----|----|\n",
    "|weight (kg) | 12 | 2  | 4  | 1  | 1  |\n",
    "|value ($)   | 4  | 2  | 10 | 2  | 1  |\n",
    "\n",
    "How can maximize the value of the items in my knapsack?"
   ]
  },
  {
   "cell_type": "markdown",
   "metadata": {},
   "source": [
    "### First formulation"
   ]
  },
  {
   "cell_type": "code",
   "execution_count": 6,
   "metadata": {
    "scrolled": true
   },
   "outputs": [
    {
     "name": "stdout",
     "output_type": "stream",
     "text": [
      "Max 4 z[1] + 2 z[2] + 10 z[3] + 2 z[4] + z[5]\n",
      "Subject to\n",
      " 12 z[1] + 2 z[2] + 4 z[3] + z[4] + z[5] ≤ 15.0\n",
      " z[1] binary\n",
      " z[2] binary\n",
      " z[3] binary\n",
      " z[4] binary\n",
      " z[5] binary\n",
      "\n",
      "OPTIMAL\n",
      "\n",
      "z = [0.0, 1.0, 1.0, 1.0, 1.0]\n",
      "objective = Welcome to the CBC MILP Solver \n",
      "Version: 2.10.3 \n",
      "Build Date: Oct  7 2019 \n",
      "\n",
      "command line - Cbc_C_Interface -solve -quit (default strategy 1)\n",
      "Continuous objective value is 17.3333 - 0.00 seconds\n",
      "Cgl0003I 0 fixed, 0 tightened bounds, 1 strengthened rows, 1 substitutions\n",
      "Cgl0004I processed model has 0 rows, 0 columns (0 integer (0 of which binary)) and 0 elements\n",
      "Cbc3007W No integer variables - nothing to do\n",
      "Cuts at root node changed objective from -15 to -1.79769e+308\n",
      "Probing was tried 0 times and created 0 cuts of which 0 were active after adding rounds of cuts (0.000 seconds)\n",
      "Gomory was tried 0 times and created 0 cuts of which 0 were active after adding rounds of cuts (0.000 seconds)\n",
      "Knapsack was tried 0 times and created 0 cuts of which 0 were active after adding rounds of cuts (0.000 seconds)\n",
      "Clique was tried 0 times and created 0 cuts of which 0 were active after adding rounds of cuts (0.000 seconds)\n",
      "MixedIntegerRounding2 was tried 0 times and created 0 cuts of which 0 were active after adding rounds of cuts (0.000 seconds)\n",
      "FlowCover was tried 0 times and created 0 cuts of which 0 were active after adding rounds of cuts (0.000 seconds)\n",
      "TwoMirCuts was tried 0 times and created 0 cuts of which 0 were active after adding rounds of cuts (0.000 seconds)\n",
      "ZeroHalf was tried 0 times and created 0 cuts of which 0 were active after adding rounds of cuts (0.000 seconds)\n",
      "\n",
      "Result - Optimal solution found\n",
      "\n",
      "Objective value:                15.00000000\n",
      "Enumerated nodes:               0\n",
      "Total iterations:               0\n",
      "Time (CPU seconds):             0.00\n",
      "Time (Wallclock seconds):       0.00\n",
      "\n",
      "Total time (CPU seconds):       0.00   (Wallclock seconds):       0.00\n",
      "\n",
      "15.0\n"
     ]
    }
   ],
   "source": [
    "using JuMP, Cbc\n",
    "\n",
    "m = Model(with_optimizer(Cbc.Optimizer))\n",
    "@variable(m, z[1:5], Bin )\n",
    "@constraint(m, 12z[1] + 2z[2] + 4z[3] + z[4] + z[5] <= 15)\n",
    "@objective(m, Max, 4z[1] + 2z[2] + 10z[3] + 2z[4] + 1z[5])\n",
    "\n",
    "optimize!(m)\n",
    "\n",
    "println(m)\n",
    "println(termination_status(m))\n",
    "println()\n",
    "println(\"z = \", JuMP.value.(z) )\n",
    "println(\"objective = \", JuMP.objective_value(m) )"
   ]
  },
  {
   "cell_type": "markdown",
   "metadata": {},
   "source": [
    "### General formulation\n",
    "\n",
    "Suppose we have weights $w_1,\\dots,w_n$ and a weight limit $W$. Suppose the items have values of $v_1,\\dots,v_n$. How should we choose the items in order to maximize value while satisfying weight limit."
   ]
  },
  {
   "cell_type": "code",
   "execution_count": 2,
   "metadata": {},
   "outputs": [],
   "source": [
    "# parameters for our problem\n",
    "w = [12, 2, 4, 1, 1]  # weights\n",
    "v = [4, 2, 10, 2, 1]  # values\n",
    "W = 15                # weight limit\n",
    "n = length(w);        # number of items"
   ]
  },
  {
   "cell_type": "code",
   "execution_count": 7,
   "metadata": {},
   "outputs": [
    {
     "name": "stdout",
     "output_type": "stream",
     "text": [
      "Max 4 z[1] + 2 z[2] + 10 z[3] + 2 z[4] + z[5]\n",
      "Subject to\n",
      " 12 z[1] + 2 z[2] + 4 z[3] + z[4] + z[5] ≤ 15.0\n",
      " z[1] binary\n",
      " z[2] binary\n",
      " z[3] binary\n",
      " z[4] binary\n",
      " z[5] binary\n",
      "\n",
      "OPTIMAL\n",
      "\n",
      "z = [0.0, 1.0, 1.0, 1.0, 1.0]\n",
      "objective = 15.0\n",
      "Welcome to the CBC MILP Solver \n",
      "Version: 2.10.3 \n",
      "Build Date: Oct  7 2019 \n",
      "\n",
      "command line - Cbc_C_Interface -solve -quit (default strategy 1)\n",
      "Continuous objective value is 17.3333 - 0.00 seconds\n",
      "Cgl0003I 0 fixed, 0 tightened bounds, 1 strengthened rows, 1 substitutions\n",
      "Cgl0004I processed model has 0 rows, 0 columns (0 integer (0 of which binary)) and 0 elements\n",
      "Cbc3007W No integer variables - nothing to do\n",
      "Cuts at root node changed objective from -15 to -1.79769e+308\n",
      "Probing was tried 0 times and created 0 cuts of which 0 were active after adding rounds of cuts (0.000 seconds)\n",
      "Gomory was tried 0 times and created 0 cuts of which 0 were active after adding rounds of cuts (0.000 seconds)\n",
      "Knapsack was tried 0 times and created 0 cuts of which 0 were active after adding rounds of cuts (0.000 seconds)\n",
      "Clique was tried 0 times and created 0 cuts of which 0 were active after adding rounds of cuts (0.000 seconds)\n",
      "MixedIntegerRounding2 was tried 0 times and created 0 cuts of which 0 were active after adding rounds of cuts (0.000 seconds)\n",
      "FlowCover was tried 0 times and created 0 cuts of which 0 were active after adding rounds of cuts (0.000 seconds)\n",
      "TwoMirCuts was tried 0 times and created 0 cuts of which 0 were active after adding rounds of cuts (0.000 seconds)\n",
      "ZeroHalf was tried 0 times and created 0 cuts of which 0 were active after adding rounds of cuts (0.000 seconds)\n",
      "\n",
      "Result - Optimal solution found\n",
      "\n",
      "Objective value:                15.00000000\n",
      "Enumerated nodes:               0\n",
      "Total iterations:               0\n",
      "Time (CPU seconds):             0.00\n",
      "Time (Wallclock seconds):       0.00\n",
      "\n",
      "Total time (CPU seconds):       0.00   (Wallclock seconds):       0.00\n",
      "\n"
     ]
    }
   ],
   "source": [
    "using JuMP, Cbc\n",
    "\n",
    "m = Model(with_optimizer(Cbc.Optimizer))\n",
    "@variable(m, z[1:n], Bin )\n",
    "@constraint(m, sum( w[i]*z[i] for i=1:n) <= W )\n",
    "@objective(m, Max, sum( v[i]*z[i] for i=1:n) )\n",
    "\n",
    "optimize!(m)\n",
    "\n",
    "println(m)\n",
    "println(termination_status(m))\n",
    "println()\n",
    "println(\"z = \", JuMP.value.(z) )\n",
    "println(\"objective = \", JuMP.objective_value(m) )"
   ]
  },
  {
   "cell_type": "code",
   "execution_count": null,
   "metadata": {},
   "outputs": [],
   "source": []
  }
 ],
 "metadata": {
  "@webio": {
   "lastCommId": null,
   "lastKernelId": null
  },
  "kernelspec": {
   "display_name": "Julia 1.3.1",
   "language": "julia",
   "name": "julia-1.3"
  },
  "language_info": {
   "file_extension": ".jl",
   "mimetype": "application/julia",
   "name": "julia",
   "version": "1.3.1"
  }
 },
 "nbformat": 4,
 "nbformat_minor": 1
}
