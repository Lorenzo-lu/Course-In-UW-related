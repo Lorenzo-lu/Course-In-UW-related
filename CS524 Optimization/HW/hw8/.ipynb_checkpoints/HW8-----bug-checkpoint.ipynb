{
 "cells": [
  {
   "cell_type": "markdown",
   "metadata": {},
   "source": [
    "# HW 8: Integer programs and duality"
   ]
  },
  {
   "cell_type": "markdown",
   "metadata": {},
   "source": [
    "## 1. ABC investments"
   ]
  },
  {
   "cell_type": "markdown",
   "metadata": {},
   "source": [
    "!!!!!!bad codes!\n",
    "\n",
    "The variables are  \n",
    "1. $S[i]$, (S is the short for selection), which only has 0 and 1 inside, indicating if a investment is made for the $i_{th}$ option;  \n",
    "2. $I[i]$, (I is the short for investment), indicating how much investment is made for the $i_{th}$ option;  \n",
    "  \n",
    "So we can see the investment is actually expressed by $S^\\top I$  \n",
    "The constraints are:  \n",
    "1. $\\sum_i S_iI_i = 80$;  \n",
    "2. $S$ only contains 0 and 1;  \n",
    "3. $S_5I_5 <= S_2I_2 + S_4I_4 + S_6I_6$;  \n",
    "4. if $S_3 = 1$, then $S_6 = 1$;  \n",
    "5. $S_iMin_i \\le  S_iI_i \\le S_iMax_i$ where $Min_i$ and $Max_i$ is the minimum and maximum investment for the $i_{th}$ option;  \n",
    "  \n",
    "The obejective is to maximum $\\sum_i S_iI_iP_i$, where $P_i$ is the return of the $i_{th}$ option."
   ]
  },
  {
   "cell_type": "code",
   "execution_count": 1,
   "metadata": {},
   "outputs": [],
   "source": [
    "#using JuMP, Gurobi, PyPlot"
   ]
  },
  {
   "cell_type": "code",
   "execution_count": 2,
   "metadata": {},
   "outputs": [],
   "source": [
    "#=\n",
    "option = [3 27 13; 2 12 9; 9 35 17; 5 15 10; 12 46 22; 4 18 12];\n",
    "m1 = Model(Gurobi.Optimizer);\n",
    "set_silent(m1);\n",
    "\n",
    "select1 = @variable(m1, [1:6,1:1], Bin); ## option3 == 0\n",
    "select2 = @variable(m1, [1:6,1:1], Bin); ## option3 and option6 == 1\n",
    "\n",
    "@constraint(m1, select1[3] == 0);\n",
    "@constraint(m1, select2[3] == 1);\n",
    "@constraint(m1, select2[6] == 1);\n",
    "\n",
    "#invest1 = @variable(m1, [1:6,1:1]);\n",
    "@variable(m1, invest1[1:6]);\n",
    "\n",
    "@constraint(m1, sum(select1 .*invest1) == 80);\n",
    "@constraint(m1, sum(select2 .*invest1) == 80);\n",
    "\n",
    "@constraint(m1, select1[5] * invest1[5] <= (select1[2] *invest1[2] + select1[4] *invest1[4] + select1[6] *invest1[6]));\n",
    "@constraint(m1, select2[5] * invest1[5] <= (select2[2] *invest1[2] + select2[4] *invest1[4] + select2[6] *invest1[6]));\n",
    "for i = 1:6\n",
    "    @constraint(m1, select1[i]*invest1[i] >=  select1[i]*option[i,1]);\n",
    "    @constraint(m1, select2[i]*invest1[i] >=  select2[i]*option[i,1]);\n",
    "    @constraint(m1, select1[i]*invest1[i] <=  select1[i]*option[i,2]);\n",
    "    @constraint(m1, select2[i]*invest1[i] <=  select2[i]*option[i,2]);\n",
    "end\n",
    "\n",
    "@variable(m1, Profit);\n",
    "@constraint(m1, Profit <= sum(select1 .*invest1 .*option[:, 3] ./100) );\n",
    "@constraint(m1, Profit <= sum(select2 .*invest1 .*option[:, 3] ./100) );\n",
    "\n",
    "@objective(m1, Max, Profit);\n",
    "\n",
    "optimize!(m1);\n",
    "=#"
   ]
  },
  {
   "cell_type": "code",
   "execution_count": 3,
   "metadata": {},
   "outputs": [],
   "source": [
    "#=\n",
    "println(\"The maximum return is \\$$(round.(objective_value(m1), digits =6)) million \");\n",
    "println(\"The investment is $(round.(value.(invest1), digits =6)) (million dollars) for these six options.\");\n",
    "=#"
   ]
  },
  {
   "cell_type": "markdown",
   "metadata": {},
   "source": [
    "The variables are  \n",
    "1. $S[i]$, (S is the short for selection), which only has 0 and 1 inside, indicating if a investment is made for the $i_{th}$ option;  \n",
    "2. $I[i]$, (I is the short for investment), indicating how much investment is made for the $i_{th}$ option;  \n",
    "  \n",
    "So we can see the investment is actually expressed by $S^\\top I$  \n",
    "The constraints are:  \n",
    "1. $\\sum_i I_i = 80$;  \n",
    "2. $S$ only contains 0 and 1;  \n",
    "3. $I_5 <= I_2 + I_4 + I_6$ ;  \n",
    "4. if $S_3 = 1$, then $S_6 = 1$, or, if $S_6 = 0$, then $S_3 = 0$;  \n",
    "5. $S_iMin_i \\le  I_i \\le S_iMax_i$ where $Min_i$ and $Max_i$ is the minimum and maximum investment for the $i_{th}$ option;  \n",
    "  \n",
    "The obejective is to maximum $\\sum_i I_iP_i$, where $P_i$ is the return of the $i_{th}$ option."
   ]
  },
  {
   "cell_type": "code",
   "execution_count": 4,
   "metadata": {},
   "outputs": [
    {
     "ename": "UndefVarError",
     "evalue": "UndefVarError: Gurobi not defined",
     "output_type": "error",
     "traceback": [
      "UndefVarError: Gurobi not defined",
      "",
      "Stacktrace:",
      " [1] top-level scope at In[4]:1"
     ]
    }
   ],
   "source": [
    "m1_test = Model(Gurobi.Optimizer);\n",
    "set_silent(m1_test);\n",
    "option = [3 27 13; 2 12 9; 9 35 17; 5 15 10; 12 46 22; 4 18 12];\n",
    "\n",
    "select = @variable(m1_test, [1:6, 1:1], Bin);\n",
    "invest = @variable(m1_test, [1:6,1:1]);\n",
    "\n",
    "@constraint(m1_test, sum(invest) == 80);\n",
    "@constraint(m1_test, invest[5]<=(invest[2] + invest[4] + invest[6]));\n",
    "\n",
    "for i=1:6\n",
    "    if i==3\n",
    "        @constraint(m1_test, invest[i] <= select[i]*select[6]*option[i,2]); ## if opt6 is 0, then invest3 is 0\n",
    "        @constraint(m1_test, invest[i] >= select[i]*select[6]*option[i,1]); ## if opt6 is 1, then invest3 is controlled by select3\n",
    "    else\n",
    "        @constraint(m1_test, invest[i] <= select[i]*option[i,2]);\n",
    "        @constraint(m1_test, invest[i] >= select[i]*option[i,1]);\n",
    "    end            \n",
    "end\n",
    "\n",
    "@objective(m1_test, Max, sum(select .*invest .*option[:, 3] ./100));\n",
    "optimize!(m1_test);\n"
   ]
  },
  {
   "cell_type": "code",
   "execution_count": 5,
   "metadata": {},
   "outputs": [
    {
     "ename": "UndefVarError",
     "evalue": "UndefVarError: objective_value not defined",
     "output_type": "error",
     "traceback": [
      "UndefVarError: objective_value not defined",
      "",
      "Stacktrace:",
      " [1] top-level scope at In[5]:1"
     ]
    }
   ],
   "source": [
    "println(\"The maximum return is \\$$(round.(objective_value(m1_test), digits =6)) million \");\n",
    "println(\"The investment is $(round.(value.(invest), digits =6)) (million dollars) for these six options.\");"
   ]
  },
  {
   "cell_type": "markdown",
   "metadata": {},
   "source": [
    "## 2. Lagrangian duality"
   ]
  },
  {
   "cell_type": "markdown",
   "metadata": {},
   "source": [
    "### a)"
   ]
  },
  {
   "cell_type": "markdown",
   "metadata": {},
   "source": [
    "The variables are $x_1$ and $x_2$;  \n",
    "The constraint is $x_1 \\ge 1$;  \n",
    "The objective is to minimize $\\frac{1}{2}(x_1^2 + x_2^2)$;"
   ]
  },
  {
   "cell_type": "code",
   "execution_count": 6,
   "metadata": {},
   "outputs": [],
   "source": [
    "using Gurobi, JuMP;"
   ]
  },
  {
   "cell_type": "code",
   "execution_count": 7,
   "metadata": {},
   "outputs": [
    {
     "name": "stdout",
     "output_type": "stream",
     "text": [
      "Academic license - for non-commercial use only\r\n",
      "Academic license - for non-commercial use only\r\n"
     ]
    }
   ],
   "source": [
    "m2a = Model(Gurobi.Optimizer);\n",
    "set_silent(m2a);\n",
    "x = @variable(m2a, [1:2, 1:1]);\n",
    "@constraint(m2a, x[1] >= 1  );\n",
    "@objective(m2a, Min, (x[1]^2 + x[2]^2)/2);\n",
    "optimize!(m2a);\n",
    "primal_optimal = objective_value(m2a);"
   ]
  },
  {
   "cell_type": "code",
   "execution_count": 8,
   "metadata": {},
   "outputs": [
    {
     "name": "stdout",
     "output_type": "stream",
     "text": [
      "The optimal primal value p* is 0.5\n"
     ]
    }
   ],
   "source": [
    "println(\"The optimal primal value p* is $(primal_optimal)\");"
   ]
  },
  {
   "cell_type": "markdown",
   "metadata": {},
   "source": [
    "### b)"
   ]
  },
  {
   "cell_type": "markdown",
   "metadata": {},
   "source": [
    "The Lagrangian $L(x_1, x_2, \\lambda) = \\frac{1}{2}(x_1^2 + x_2^2) + \\lambda(1-x_1)$  \n",
    "$L(x_1, x_2, \\lambda) = \\frac{1}{2}(x_1^2 + x_2^2 - 2\\lambda x_1) + \\lambda = \\frac{1}{2}(x_1^2 + x_2^2 - 2\\lambda x_1 + \\lambda^2) - \\frac{1}{2}\\lambda^2 + \\lambda = \\frac{1}{2}((x_1 - \\lambda)^2 + x_2^2) - \\frac{1}{2}\\lambda^2 + \\lambda$  \n",
    "The dual $g(\\lambda) = min\\frac{1}{2}((x_1 - \\lambda)^2 + x_2^2)  - \\frac{1}{2}\\lambda^2 + \\lambda$  \n",
    "As $min\\frac{1}{2}((x_1 - \\lambda)^2 + x_2^2) = 0$, we have  \n",
    "$g(\\lambda) = - \\frac{1}{2}\\lambda^2 + \\lambda \\quad (s.t \\quad  \\lambda \\ge 0)$"
   ]
  },
  {
   "cell_type": "markdown",
   "metadata": {},
   "source": [
    "### c)"
   ]
  },
  {
   "cell_type": "code",
   "execution_count": 9,
   "metadata": {},
   "outputs": [
    {
     "name": "stdout",
     "output_type": "stream",
     "text": [
      "Academic license - for non-commercial use only\r\n",
      "Academic license - for non-commercial use only\r\n"
     ]
    }
   ],
   "source": [
    "m2b = Model(Gurobi.Optimizer);\n",
    "set_silent(m2b);\n",
    "@variable(m2b, lambda >= 0);\n",
    "@objective(m2b, Max, -0.5 * lambda^2 + lambda );\n",
    "optimize!(m2b);\n",
    "dual_optimal = objective_value(m2b);"
   ]
  },
  {
   "cell_type": "code",
   "execution_count": 10,
   "metadata": {},
   "outputs": [
    {
     "name": "stdout",
     "output_type": "stream",
     "text": [
      "The optimal dual value d* is 0.5\n"
     ]
    }
   ],
   "source": [
    "println(\"The optimal dual value d* is $(dual_optimal)\");"
   ]
  },
  {
   "cell_type": "markdown",
   "metadata": {},
   "source": [
    "### d)"
   ]
  },
  {
   "cell_type": "markdown",
   "metadata": {},
   "source": [
    "```Slater condition is staisfied in this question. Thus the strong duality holds.```"
   ]
  },
  {
   "cell_type": "code",
   "execution_count": null,
   "metadata": {},
   "outputs": [],
   "source": []
  }
 ],
 "metadata": {
  "kernelspec": {
   "display_name": "Julia 1.3.1",
   "language": "julia",
   "name": "julia-1.3"
  },
  "language_info": {
   "file_extension": ".jl",
   "mimetype": "application/julia",
   "name": "julia",
   "version": "1.3.1"
  }
 },
 "nbformat": 4,
 "nbformat_minor": 2
}
