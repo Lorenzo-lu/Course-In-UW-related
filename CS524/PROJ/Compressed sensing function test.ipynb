{
 "cells": [
  {
   "cell_type": "markdown",
   "metadata": {},
   "source": [
    "## prequisite : make dct2, design measure basis"
   ]
  },
  {
   "cell_type": "code",
   "execution_count": 18,
   "metadata": {},
   "outputs": [],
   "source": [
    "using FFTW, LinearAlgebra, Distributions, Random"
   ]
  },
  {
   "cell_type": "code",
   "execution_count": 2,
   "metadata": {},
   "outputs": [],
   "source": [
    "#=\n",
    "no need to make dct2 manually; if dct a matrix, it returns dct automatically\n",
    "function idct2(matrix, padding = false)\n",
    "    \n",
    "    if padding == false\n",
    "        (R, C) = size(matrix);\n",
    "        return idct(idct(matrix')');\n",
    "    else\n",
    "        (R, C) = Tuple(padding);\n",
    "        return idct(idct(matrix'[1:R, :])[1:C,:]');\n",
    "    end\n",
    "end\n",
    "=#\n",
    "a = [1 2 3; 2 3 4];\n",
    "a_ = idct(a[1:2,1:2]);   # it returns a dct2 result  "
   ]
  },
  {
   "cell_type": "code",
   "execution_count": 40,
   "metadata": {},
   "outputs": [
    {
     "data": {
      "text/plain": [
       "PMT_measure_simu (generic function with 3 methods)"
      ]
     },
     "execution_count": 40,
     "metadata": {},
     "output_type": "execute_result"
    }
   ],
   "source": [
    "## 1.\n",
    "function idctmtx(dims)\n",
    "    ## produce a DCT matrix like matlab\n",
    "    diag = I(dims);\n",
    "    D = zeros(dims,dims);\n",
    "    for i = 1:dims\n",
    "        D[:,i] = idct(diag[:,i]);\n",
    "    end\n",
    "    return D;\n",
    "end\n",
    "\n",
    "## 2.\n",
    "function DCT_basis(r_tot,c_tot)\n",
    "    ## produce a hyper resolution DMD measurement basis series\n",
    "    ##verified by Python; \n",
    "    # making a idct2 matrix in a vector form\n",
    "    D1 = idctmtx(r_tot);\n",
    "    D2 = idctmtx(c_tot);\n",
    "    N = r_tot * c_tot;\n",
    "    Basis = zeros(N,N);\n",
    "    \n",
    "    i = 1;\n",
    "    for ir = 1:r_tot\n",
    "        for ic = 1:c_tot\n",
    "            \n",
    "            Basis_Vector = D1[ir:ir,:]' * D2[ic:ic,:];\n",
    "            Basis[i,:] = reshape(Basis_Vector', (1,:));\n",
    "            i += 1;\n",
    "        end\n",
    "    end\n",
    "    return Basis;\n",
    "end\n",
    "\n",
    "## 3.\n",
    "function Poisson_noise(signal)\n",
    "    return rand.(Poisson.(signal));\n",
    "end\n",
    "\n",
    "## 4. This two functions are genrating a 0-1 Walsh Matrix\n",
    "## for compressed sensing, just select part of this rows\n",
    "function DMD_freq_pattern_old(r,c, cycles = false)\n",
    "    if cycles == false || cycles < 0 || cycles > r*c;\n",
    "        cycles = r*c;\n",
    "    end\n",
    "    \n",
    "    freq_pattern = zeros(r,c);\n",
    "    ratio = (cycles/r/c)^0.5;\n",
    "    \n",
    "    r1 = Int(ceil(ratio * r))-1;\n",
    "    c1 = Int(ceil(ratio * c))-1;\n",
    "    \n",
    "    freq_pattern[1:r1, 1:c1] .= 1;\n",
    "    \n",
    "    n_res = cycles - r1 * c1;\n",
    "    res_index = findall(x->x == 0, freq_pattern[1:r1+1, 1:c1+1]);\n",
    "    \n",
    "    index_distance = zeros(length(res_index), 2);\n",
    "    \n",
    "    for i = 1:length(res_index)\n",
    "        index_distance[i,1] = i;\n",
    "        # res_index[i] is a tuple\n",
    "        index_distance[i,2] = res_index[i][1]/(r1+0.0) + res_index[i][2]/(c1+0.0);\n",
    "    end\n",
    "    \n",
    "    sorted_index_distance = index_distance[sortperm(index_distance[:,2]),:];\n",
    "    selected_index = sorted_index_distance[:,1][1:n_res];\n",
    "    \n",
    "    for i = 1:n_res\n",
    "        rc_cartesian = res_index[Int(selected_index[i])];\n",
    "        freq_pattern[rc_cartesian[1], rc_cartesian[2]] = 1;\n",
    "    end\n",
    "    \n",
    "    return freq_pattern;\n",
    "    \n",
    "end\n",
    "\n",
    "function DMD_freq_pattern(r,c, cycles = false)\n",
    "     if cycles == false || cycles < 0 || cycles > r*c;\n",
    "        cycles = r*c;\n",
    "    end\n",
    "    \n",
    "    freq_pattern = zeros(r,c);\n",
    "    n_res = cycles;\n",
    "    res_index = findall(x->x == 0, freq_pattern);\n",
    "    \n",
    "    \n",
    "    index_distance = zeros(length(res_index), 2);\n",
    "    \n",
    "    for i = 1:length(res_index)\n",
    "        index_distance[i,1] = i;\n",
    "        # res_index[i] is a tuple\n",
    "        index_distance[i,2] = res_index[i][1]/(r+0.0) + res_index[i][2]/(c+0.0);\n",
    "    end\n",
    "    \n",
    "    sorted_index_distance = index_distance[sortperm(index_distance[:,2]),:];\n",
    "    selected_index = sorted_index_distance[:,1][1:n_res];\n",
    "    \n",
    "    for i = 1:n_res\n",
    "        rc_cartesian = res_index[Int(selected_index[i])];\n",
    "        freq_pattern[rc_cartesian[1], rc_cartesian[2]] = 1;\n",
    "    end\n",
    "    \n",
    "    return freq_pattern;\n",
    "end\n",
    "\n",
    "## 5\n",
    "function DMD_measure_basis(r, c, cycles = false)\n",
    "    ## it returns a DMD 0-1 matrix as measure basis\n",
    "    ## this matrix has \"cycles\" rows and \"r*c\" columns\n",
    "    if cycles == false\n",
    "        cycles = r*c;\n",
    "    end\n",
    "    DMD_basis = zeros(cycles, r*c);\n",
    "    #freq_pattern = DMD_freq_pattern(r,c, cycles);\n",
    "    freq_pattern = ones(r*c, r*c);\n",
    "    \n",
    "    #rows = 1:r*c;\n",
    "    #rows_selected = randperm(rows)[1:cycles]; \n",
    "    \n",
    "    index_total = findall(x->x==1.0, freq_pattern);\n",
    "    index = index_total[randperm(cycles)];\n",
    "    FT_domain = zeros(r,c);\n",
    "    for i = 1:length(index)\n",
    "        current_index = index[i];\n",
    "        FT_domain[current_index[1], current_index[2]] = 1;\n",
    "        DMD_zero_one = ceil.(idct(FT_domain)); ## 0-1 pattern on DMD\n",
    "        \n",
    "        DMD_basis[i,:] = reshape(DMD_zero_one',(1,:));\n",
    "        FT_domain[current_index[1], current_index[2]] = 0;\n",
    "    end\n",
    "    return DMD_basis;\n",
    "end\n",
    "\n",
    "## 6 direct upload a black white image and get the measurement\n",
    "function PMT_measure_simu(photon_number, cycles, upload_image, upload_basis, Poisson = true)\n",
    "    ### photon - number is the photons of each pixel during each measurement\n",
    "    ### cycles : the compression rate; \n",
    "    ### Poisson : true, adding poisson noise\n",
    "    ### upload_image : Black white image (matrix)\n",
    "    image = upload_image / maximum(upload_image);\n",
    "    r_tot, c_tot = size(upload_image);\n",
    "    #=\n",
    "    if upload_basis == \"null\"\n",
    "        DMD_basis = DMD_measure_basis(r_tot, c_tot, cycles);\n",
    "    else\n",
    "        DMD_basis = upload_basis[1:cycles,:];\n",
    "    end\n",
    "    =#\n",
    "    DMD_basis = upload_basis[1:cycles,:];\n",
    "    \n",
    "    image_vector = reshape(image', (:, 1));\n",
    "    image_vector *= photon_number; ## here you are light up a image\n",
    "    \n",
    "    measurements = zeros(cycles,1); \n",
    "    ### if you want to do RGB image later, set zeros(cycles,3)\n",
    "    \n",
    "    for i = 1:cycles\n",
    "        val = DMD_basis[i,:] * image_vector;\n",
    "        \n",
    "        if Poisson == true\n",
    "            val = Poisson_noise(val);\n",
    "        end\n",
    "        measurement[i,:] = val;\n",
    "    end\n",
    "    \n",
    "    measurements /= photon_number;\n",
    "    \n",
    "    return measurements;\n",
    "end\n"
   ]
  },
  {
   "cell_type": "code",
   "execution_count": 4,
   "metadata": {},
   "outputs": [],
   "source": [
    "using Images, PyPlot"
   ]
  },
  {
   "cell_type": "code",
   "execution_count": 5,
   "metadata": {},
   "outputs": [
    {
     "data": {
      "image/png": "[encoded data removed]",
      "text/plain": [
       "Figure(PyObject <Figure size 640x480 with 1 Axes>)"
      ]
     },
     "metadata": {},
     "output_type": "display_data"
    },
    {
     "data": {
      "text/plain": [
       "PyObject <matplotlib.image.AxesImage object at 0x000000005B4DC208>"
      ]
     },
     "execution_count": 5,
     "metadata": {},
     "output_type": "execute_result"
    }
   ],
   "source": [
    "imshow(DMD_measure_basis(4, 4, 9))"
   ]
  },
  {
   "cell_type": "code",
   "execution_count": 6,
   "metadata": {},
   "outputs": [
    {
     "data": {
      "image/png": "[encoded data removed]",
      "text/plain": [
       "Figure(PyObject <Figure size 640x480 with 1 Axes>)"
      ]
     },
     "metadata": {},
     "output_type": "display_data"
    }
   ],
   "source": [
    "imshow(DMD_freq_pattern(100,100,6700));"
   ]
  },
  {
   "cell_type": "code",
   "execution_count": 34,
   "metadata": {},
   "outputs": [
    {
     "data": {
      "text/plain": [
       "3×3 Array{Float64,2}:\n",
       " 0.111111  0.222222  0.333333\n",
       " 0.444444  0.555556  0.666667\n",
       " 0.777778  0.888889  1.0     "
      ]
     },
     "execution_count": 34,
     "metadata": {},
     "output_type": "execute_result"
    }
   ],
   "source": [
    "mmm = [1 2 3; 4 5 6; 7 8 9];\n",
    "rows = [1; 2; 3];\n",
    "mmm / maximum(mmm)"
   ]
  },
  {
   "cell_type": "code",
   "execution_count": 37,
   "metadata": {},
   "outputs": [
    {
     "data": {
      "text/plain": [
       "13"
      ]
     },
     "execution_count": 37,
     "metadata": {},
     "output_type": "execute_result"
    }
   ],
   "source": [
    "a = [1 2 3];\n",
    "Poisson_noise(a.*10)\n",
    "Poisson_noise(12)"
   ]
  },
  {
   "cell_type": "code",
   "execution_count": 22,
   "metadata": {},
   "outputs": [
    {
     "data": {
      "text/plain": [
       "5-element Array{CartesianIndex{2},1}:\n",
       " CartesianIndex(2, 1)\n",
       " CartesianIndex(3, 1)\n",
       " CartesianIndex(3, 2)\n",
       " CartesianIndex(1, 3)\n",
       " CartesianIndex(3, 3)"
      ]
     },
     "execution_count": 22,
     "metadata": {},
     "output_type": "execute_result"
    }
   ],
   "source": [
    "a = [1 2 3;3 4 5;3 3 3];\n",
    "ind = findall(x->x ==3, a)\n",
    "## findall returns a Cartesian Index, like an array with tuples. Can\n"
   ]
  },
  {
   "cell_type": "code",
   "execution_count": 24,
   "metadata": {},
   "outputs": [
    {
     "data": {
      "text/plain": [
       "1-element Array{String,1}:\n",
       " \"nu\""
      ]
     },
     "execution_count": 24,
     "metadata": {},
     "output_type": "execute_result"
    }
   ],
   "source": [
    "[\"nu\"]"
   ]
  },
  {
   "cell_type": "code",
   "execution_count": 11,
   "metadata": {},
   "outputs": [
    {
     "data": {
      "text/plain": [
       "2"
      ]
     },
     "execution_count": 11,
     "metadata": {},
     "output_type": "execute_result"
    }
   ],
   "source": [
    "ind[1][1]"
   ]
  },
  {
   "cell_type": "code",
   "execution_count": 12,
   "metadata": {},
   "outputs": [
    {
     "data": {
      "text/plain": [
       "2.0"
      ]
     },
     "execution_count": 12,
     "metadata": {},
     "output_type": "execute_result"
    }
   ],
   "source": [
    "ceil(1.7)"
   ]
  },
  {
   "cell_type": "code",
   "execution_count": 13,
   "metadata": {},
   "outputs": [
    {
     "data": {
      "text/plain": [
       "2"
      ]
     },
     "execution_count": 13,
     "metadata": {},
     "output_type": "execute_result"
    }
   ],
   "source": [
    "Int(ceil(1.7))"
   ]
  },
  {
   "cell_type": "code",
   "execution_count": 14,
   "metadata": {},
   "outputs": [
    {
     "data": {
      "text/plain": [
       "2×3 Array{Int64,2}:\n",
       " 2  3  1\n",
       " 3  4  5"
      ]
     },
     "execution_count": 14,
     "metadata": {},
     "output_type": "execute_result"
    }
   ],
   "source": [
    "b = [3 2 1; 4 3 5]\n",
    "b[:,sortperm(b[2,:])]"
   ]
  },
  {
   "cell_type": "code",
   "execution_count": null,
   "metadata": {},
   "outputs": [],
   "source": []
  },
  {
   "cell_type": "code",
   "execution_count": 15,
   "metadata": {},
   "outputs": [
    {
     "data": {
      "image/png": "[encoded data removed]",
      "text/plain": [
       "Figure(PyObject <Figure size 640x480 with 1 Axes>)"
      ]
     },
     "metadata": {},
     "output_type": "display_data"
    },
    {
     "data": {
      "text/plain": [
       "PyObject <matplotlib.image.AxesImage object at 0x000000005EB007C8>"
      ]
     },
     "execution_count": 15,
     "metadata": {},
     "output_type": "execute_result"
    }
   ],
   "source": [
    "ss = zeros(100,100);\n",
    "ss[2,2] = 1;\n",
    "imshow(ceil.(idct(ss)))"
   ]
  },
  {
   "cell_type": "code",
   "execution_count": 16,
   "metadata": {},
   "outputs": [],
   "source": [
    "db = DCT_basis(100,100);\n"
   ]
  },
  {
   "cell_type": "code",
   "execution_count": 17,
   "metadata": {},
   "outputs": [],
   "source": [
    "using JuMP, Gurobi;"
   ]
  },
  {
   "cell_type": "code",
   "execution_count": 38,
   "metadata": {},
   "outputs": [
    {
     "name": "stdout",
     "output_type": "stream",
     "text": [
      "Academic license - for non-commercial use only\n",
      "Academic license - for non-commercial use only\n"
     ]
    }
   ],
   "source": [
    "r = 100;\n",
    "domain = DCT_basis(10,10);\n",
    "\n",
    "m = Model(Gurobi.Optimizer);\n",
    "set_silent(m);\n",
    "\n",
    "basis = @variable(m, [1:r,1:r]);\n",
    "@variable(m, mu);\n",
    "@constraint(m,basis.>=0);\n",
    "@constraint(m,basis.<=1);\n",
    "for i = 1:r\n",
    "    s  = i;\n",
    "    @constraint(m, sum(basis[i,:]) == s);\n",
    "    \n",
    "    for j = 1:r\n",
    "        @constraint(m, mu >= sum(basis[i,:] .* domain[j,:]) / sqrt(s));\n",
    "        @constraint(m, mu >= -sum(basis[i,:] .* domain[j,:]) / sqrt(s));\n",
    "    end\n",
    "end\n",
    "\n",
    "@objective(m, Min, mu);\n",
    "optimize!(m);"
   ]
  },
  {
   "cell_type": "code",
   "execution_count": 39,
   "metadata": {},
   "outputs": [
    {
     "data": {
      "image/png": "[encoded data removed]",
      "text/plain": [
       "Figure(PyObject <Figure size 640x480 with 1 Axes>)"
      ]
     },
     "metadata": {},
     "output_type": "display_data"
    },
    {
     "name": "stdout",
     "output_type": "stream",
     "text": [
      "0.8607268816443397\n"
     ]
    },
    {
     "data": {
      "text/plain": [
       "PyObject <matplotlib.image.AxesImage object at 0x00000000020ED908>"
      ]
     },
     "execution_count": 39,
     "metadata": {},
     "output_type": "execute_result"
    }
   ],
   "source": [
    "println(objective_value(m))\n",
    "imshow(value.(basis))"
   ]
  },
  {
   "cell_type": "code",
   "execution_count": 45,
   "metadata": {},
   "outputs": [
    {
     "name": "stdout",
     "output_type": "stream",
     "text": [
      "[1.0, 0.0, 1.0, 1.0, 1.0, 1.0, 1.0, 0.0, 0.0, 0.0, 0.0, 1.0, 0.0, 0.0, 0.0, 0.0, 0.0, 1.0, 1.0, 0.0, 1.0, 0.0, -1.0, 1.0, 0.0, 1.0, 0.0, 0.0, 1.0, 1.0, 1.0, 0.0, 1.0, 1.0, 1.0, 1.0, 0.0, 1.0, 0.0, 0.0, 1.0, 0.0, 0.0, 1.0, 0.0, 1.0, 0.0, 1.0, 0.0, 0.0, 1.0, 0.0, 1.0, 1.0, 1.0, 1.0, 1.0, 0.0, 0.0, 0.0, 1.0, 0.0, 0.0, 0.0, 0.0, 1.0, 1.0, 0.0, 1.0, 1.0, 0.0, 1.0, 0.0, 1.0, 1.0, 0.0, 0.0, 1.0, 1.0, 1.0, 0.0, 1.0, 1.0, 0.0, 0.0, 0.0, 1.0, 1.0, 0.0, 1.0, 0.0, 0.0, 1.0, 0.0, 0.0, 0.0, 1.0, 1.0, 1.0, 1.0]0.8607268816443397"
     ]
    }
   ],
   "source": [
    "mu = 0;\n",
    "vbasis = round.(value.(basis));\n",
    "Ibasis = zeros(size(vbasis));\n",
    "Ibasis = vbasis\n",
    "print(vbasis[51,:] - vbasis[1,:])\n",
    "\n",
    "for i = 1:r\n",
    "    for j = 1:r\n",
    "        mu_test = sum(Ibasis[i,:] .* domain[j,:]) / sum(Ibasis[i,:])^0.5;\n",
    "        mu = maximum([mu,mu_test]);\n",
    "    end\n",
    "end\n",
    "\n",
    "print(mu)"
   ]
  },
  {
   "cell_type": "code",
   "execution_count": null,
   "metadata": {},
   "outputs": [],
   "source": []
  }
 ],
 "metadata": {
  "kernelspec": {
   "display_name": "Julia 1.3.1",
   "language": "julia",
   "name": "julia-1.3"
  },
  "language_info": {
   "file_extension": ".jl",
   "mimetype": "application/julia",
   "name": "julia",
   "version": "1.3.1"
  }
 },
 "nbformat": 4,
 "nbformat_minor": 4
}
