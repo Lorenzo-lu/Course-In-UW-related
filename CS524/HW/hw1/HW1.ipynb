{
 "cells": [
  {
   "cell_type": "markdown",
   "metadata": {},
   "source": [
    "## Homework 1 CS524\n",
    "Lorenzo Lu"
   ]
  },
  {
   "cell_type": "markdown",
   "metadata": {},
   "source": [
    "## 1. Warmup"
   ]
  },
  {
   "cell_type": "markdown",
   "metadata": {},
   "source": [
    "a).<br>\n",
    "I will choose Clp solver. Though Clp is the most specialized solver among this three, the very fast speed is the main reason for my choice."
   ]
  },
  {
   "cell_type": "markdown",
   "metadata": {},
   "source": [
    "b)."
   ]
  },
  {
   "cell_type": "code",
   "execution_count": 1,
   "metadata": {},
   "outputs": [
    {
     "name": "stdout",
     "output_type": "stream",
     "text": [
      " 12.039782 seconds (52.21 M allocations: 2.582 GiB, 7.66% gc time)\n",
      "OPTIMAL\n",
      "Build x1:1.0\n",
      "Build x2:3.0\n",
      "Build x3:3.0\n",
      "Total 9.0\n",
      "Coin0506I Presolve 1 (0) rows, 3 (0) columns and 3 (0) elements\n",
      "Clp0006I 0  Obj 0 Dual inf 8.9999998 (2)\n",
      "Clp0006I 1  Obj 9\n",
      "Clp0000I Optimal - objective value 9\n",
      "Clp0032I Optimal objective 9 - 1 iterations time 0.002\n"
     ]
    }
   ],
   "source": [
    "using JuMP, Clp\n",
    "m = Model();\n",
    "\n",
    "@variable(m, 0 <= x1 <= 3);\n",
    "@variable(m, 0 <= x2 <= 3);\n",
    "@variable(m, 0 <= x3 <= 3);\n",
    "@constraint(m, 2*x1 <= x2 - x3 + 2);\n",
    "@objective(m, Max, 6*x1 - 2*x2 + 3*x3);\n",
    "\n",
    "@time optimize!(m, with_optimizer(Clp.Optimizer));\n",
    "\n",
    "println(termination_status(m));\n",
    "println(\"Build x1:\", JuMP.value(x1));\n",
    "println(\"Build x2:\", JuMP.value(x2));\n",
    "println(\"Build x3:\", JuMP.value(x3));\n",
    "println(\"Total \", JuMP.objective_value(m));\n"
   ]
  },
  {
   "cell_type": "markdown",
   "metadata": {},
   "source": [
    "b). <br>\n",
    "The optimal objective value is 9.0.The optimal x1 is 1 and x2 is 3.0"
   ]
  },
  {
   "cell_type": "markdown",
   "metadata": {},
   "source": [
    "c).<br>\n",
    "I changed the coefficient 2 at the constraint into -10, rendering this problem infeasible."
   ]
  },
  {
   "cell_type": "code",
   "execution_count": 2,
   "metadata": {},
   "outputs": [
    {
     "name": "stdout",
     "output_type": "stream",
     "text": [
      "  0.000727 seconds (1.79 k allocations: 129.875 KiB)\n",
      "INFEASIBLE\n",
      "Coin0507I Presolve determined that the problem was infeasible with tolerance of 1e-08\n",
      "Clp3003W Analysis indicates model infeasible or unbounded\n",
      "Clp0006I 0  Obj 0 Primal inf 9.9999999 (1) Dual inf 8.9999998 (2)\n",
      "Clp0006I 2  Obj -27 Primal inf 6.9999999 (1)\n",
      "Clp0006I 2  Obj -27 Primal inf 6.9999999 (1)\n",
      "Clp0001I Primal infeasible - objective value -27\n",
      "Clp0032I PrimalInfeasible objective -27 - 2 iterations time 0.002\n"
     ]
    },
    {
     "ename": "ErrorException",
     "evalue": "Primal solution not available",
     "output_type": "error",
     "traceback": [
      "Primal solution not available",
      "",
      "Stacktrace:",
      " [1] error(::String) at .\\error.jl:33",
      " [2] get(::Clp.Optimizer, ::MathOptInterface.VariablePrimal, ::MathOptInterface.VariableIndex) at C:\\Users\\yluea\\.julia\\packages\\Clp\\4DejL\\src\\MOIWrapper.jl:439",
      " [3] get(::MathOptInterface.Utilities.CachingOptimizer{Clp.Optimizer,MathOptInterface.Utilities.UniversalFallback{MathOptInterface.Utilities.Model{Float64}}}, ::MathOptInterface.VariablePrimal, ::MathOptInterface.VariableIndex) at C:\\Users\\yluea\\.julia\\packages\\MathOptInterface\\DmQBj\\src\\Utilities\\cachingoptimizer.jl:508",
      " [4] get(::MathOptInterface.Bridges.LazyBridgeOptimizer{MathOptInterface.Utilities.CachingOptimizer{Clp.Optimizer,MathOptInterface.Utilities.UniversalFallback{MathOptInterface.Utilities.Model{Float64}}}}, ::MathOptInterface.VariablePrimal, ::MathOptInterface.VariableIndex) at C:\\Users\\yluea\\.julia\\packages\\MathOptInterface\\DmQBj\\src\\Bridges\\bridge_optimizer.jl:752",
      " [5] get(::MathOptInterface.Utilities.CachingOptimizer{MathOptInterface.AbstractOptimizer,MathOptInterface.Utilities.UniversalFallback{MathOptInterface.Utilities.Model{Float64}}}, ::MathOptInterface.VariablePrimal, ::MathOptInterface.VariableIndex) at C:\\Users\\yluea\\.julia\\packages\\MathOptInterface\\DmQBj\\src\\Utilities\\cachingoptimizer.jl:508",
      " [6] _moi_get_result(::MathOptInterface.Utilities.CachingOptimizer{MathOptInterface.AbstractOptimizer,MathOptInterface.Utilities.UniversalFallback{MathOptInterface.Utilities.Model{Float64}}}, ::MathOptInterface.VariablePrimal, ::Vararg{Any,N} where N) at C:\\Users\\yluea\\.julia\\packages\\JuMP\\MsUSY\\src\\JuMP.jl:633",
      " [7] get(::Model, ::MathOptInterface.VariablePrimal, ::VariableRef) at C:\\Users\\yluea\\.julia\\packages\\JuMP\\MsUSY\\src\\JuMP.jl:663",
      " [8] value(::VariableRef) at C:\\Users\\yluea\\.julia\\packages\\JuMP\\MsUSY\\src\\variables.jl:740",
      " [9] top-level scope at In[2]:12"
     ]
    }
   ],
   "source": [
    "m = Model();\n",
    "\n",
    "@variable(m, 0 <= x1 <= 3);\n",
    "@variable(m, 0 <= x2 <= 3);\n",
    "@variable(m, 0 <= x3 <= 3);\n",
    "@constraint(m, 2*x1 <= x2 - x3 - 10);\n",
    "@objective(m, Max, 6*x1 - 2*x2 + 3*x3);\n",
    "\n",
    "@time optimize!(m, with_optimizer(Clp.Optimizer));\n",
    "\n",
    "println(termination_status(m));\n",
    "println(\"Build x1:\", JuMP.value(x1));\n",
    "println(\"Build x2:\", JuMP.value(x2));\n",
    "println(\"Build x3:\", JuMP.value(x3));\n",
    "println(\"Total \", JuMP.objective_value(m));"
   ]
  },
  {
   "cell_type": "markdown",
   "metadata": {},
   "source": [
    "## 2. Stigler diet"
   ]
  },
  {
   "cell_type": "markdown",
   "metadata": {},
   "source": [
    "a).<br>\n",
    "The decision variables are the amount of each kind of food. In mathematical model, they are $n_i$, where i stands for different kinds of food.<br>\n",
    "The objective is to minimize the cost of the food. Minimumize $\\sum_i^nn_i*1$, as each row could be bought by 1 dollar.<br>\n",
    "The constraints are that each nutrition should meet the minimum daily requirement. ${\\forall}_jf_{i,j}n_{i,j} \\geq F_{min,j}$, where i is a certain kind of food, where j is a certain kind of nutrition."
   ]
  },
  {
   "cell_type": "markdown",
   "metadata": {},
   "source": [
    "b)."
   ]
  },
  {
   "cell_type": "code",
   "execution_count": 3,
   "metadata": {},
   "outputs": [],
   "source": [
    "# STARTER CODE TO LOAD DATA FOR STIGLER'S DIET PROBLEM\n",
    "\n",
    "# Add packages\n",
    "using Pkg;\n",
    "#Pkg.add(\"CSV\");\n",
    "\n",
    "using CSV;\n",
    "\n",
    "# import Stigler's data set as a dataframe\n",
    "raw = CSV.read(\"stigler.csv\");\n",
    "\n",
    "(m,n) = size(raw);  # m = number of rows, n = number of columns\n",
    "\n",
    "n_nutrients = 2:n;      # indices of columns containing nutrients (skip the first one)\n",
    "n_foods = 2:m;          # indices of rows containing food names (skip the two first ones)\n",
    "\n",
    "nutrients = names(raw)[n_nutrients];   # the list of nutrients \n",
    "foods = raw[n_foods,1];                # the list of foods \n",
    "\n",
    "# Put the data about nutrients and foods into an array\n",
    "data = convert(Matrix{Float64}, raw[n_foods,n_nutrients]);\n",
    "\n",
    "# lower[i] is the minimum daily requirement of nutrient i.\n",
    "lower = convert(Vector{Float64}, raw[1,n_nutrients]);"
   ]
  },
  {
   "cell_type": "code",
   "execution_count": 4,
   "metadata": {},
   "outputs": [
    {
     "name": "stdout",
     "output_type": "stream",
     "text": [
      "  1.580117 seconds (5.50 M allocations: 284.096 MiB, 3.45% gc time)\n",
      "Coin0506I Presolve 9 (-77) rows, 76 (-1) columns and 569 (-78) elements\n",
      "Clp0006I 0  Obj 0 Primal inf 5.1310537 (9)\n",
      "Clp0006I 6  Obj 0.10866228\n",
      "Clp0000I Optimal - objective value 0.10866228\n",
      "Coin0511I After Postsolve, objective 0.10866228, infeasibilities - dual 0 (0), primal 0 (0)\n",
      "Clp0032I Optimal objective 0.1086622782 - 6 iterations time 0.002, Presolve 0.00\n"
     ]
    }
   ],
   "source": [
    "stigler = Model();\n",
    "\n",
    "n_food = @variable(stigler, [1:m-1]);\n",
    "for i = 1 : m-1\n",
    "    @constraint(stigler,n_food[i] >= 0);\n",
    "end\n",
    "\n",
    "for j = 1:n-1\n",
    "    @constraint(stigler,n_food' * data[:,j]>=lower[j] );\n",
    "end\n",
    "\n",
    "@objective(stigler,Min,sum(n_food));\n",
    "@time optimize!(stigler, with_optimizer(Clp.Optimizer));"
   ]
  },
  {
   "cell_type": "code",
   "execution_count": 5,
   "metadata": {},
   "outputs": [
    {
     "name": "stdout",
     "output_type": "stream",
     "text": [
      "OPTIMAL\n",
      "Optimal daily cost = 0.10866227820675685 dollars\n",
      "Optimal annual cost = 39.66173154546625 dollars\n"
     ]
    }
   ],
   "source": [
    "println(termination_status(stigler));\n",
    "println(\"Optimal daily cost = \", JuMP.objective_value(stigler),\" dollars\");\n",
    "println(\"Optimal annual cost = \", 365 * JuMP.objective_value(stigler),\" dollars\");"
   ]
  },
  {
   "cell_type": "markdown",
   "metadata": {},
   "source": [
    "c).<br>\n",
    "Yes, the optimal has been calculated.This result is a little bit smaller than Stigler's. The composition of the foods and their amounts are listed below:"
   ]
  },
  {
   "cell_type": "code",
   "execution_count": 6,
   "metadata": {},
   "outputs": [
    {
     "name": "stdout",
     "output_type": "stream",
     "text": [
      "[\"Wheat Flour (Enriched)\", \"Macaroni\", \"Wheat Cereal (Enriched)\", \"Corn Flakes\", \"Corn Meal\", \"Hominy Grits\", \"Rice\", \"Rolled Oats\", \"White Bread (Enriched)\", \"Whole Wheat Bread\", \"Rye Bread\", \"Pound Cake\", \"Soda Crackers\", \"Milk\", \"Evaporated Milk (can)\", \"Butter\", \"Oleomargarine\", \"Eggs\", \"Cheese (Cheddar)\", \"Cream\", \"Peanut Butter\", \"Mayonnaise\", \"Crisco\", \"Lard\", \"Sirloin Steak\", \"Round Steak\", \"Rib Roast\", \"Chuck Roast\", \"Plate\", \"Liver (Beef)\", \"Leg of Lamb\", \"Lamb Chops (Rib)\", \"Pork Chops\", \"Pork Loin Roast\", \"Bacon\", \"Ham, smoked\", \"Salt Pork\", \"Roasting Chicken\", \"Veal Cutlets\", \"Salmon, Pink (can)\", \"Apples\", \"Bananas\", \"Lemons\", \"Oranges\", \"Green Beans\", \"Cabbage\", \"Carrots\", \"Celery\", \"Lettuce\", \"Onions\", \"Potatoes\", \"Spinach\", \"Sweet Potatoes\", \"Peaches (can)\", \"Pears (can)\", \"Pineapple (can)\", \"Asparagus (can)\", \"Green Beans (can)\", \"Pork and Beans (can)\", \"Corn (can)\", \"Peas (can)\", \"Tomatoes (can)\", \"Tomato Soup (can)\", \"Peaches, Dried\", \"Prunes, Dried\", \"Raisins, Dried\", \"Peas, Dried\", \"Lima Beans, Dried\", \"Navy Beans, Dried\", \"Coffee\", \"Tea\", \"Cocoa\", \"Chocolate\", \"Sugar\", \"Corn Syrup\", \"Molasses\", \"Strawberry Preserves\"][0.02951906167648827, 0.0, 0.0, 0.0, 0.0, 0.0, 0.0, 0.0, 0.0, 0.0, 0.0, 0.0, 0.0, 0.0, 0.0, 0.0, 0.0, 0.0, 0.0, 0.0, 0.0, 0.0, 0.0, 0.0, 0.0, 0.0, 0.0, 0.0, 0.0, 0.0018925572907052643, 0.0, 0.0, 0.0, 0.0, 0.0, 0.0, 0.0, 0.0, 0.0, 0.0, 0.0, 0.0, 0.0, 0.0, 0.0, 0.011214435246144865, 0.0, 0.0, 0.0, 0.0, 0.0, 0.005007660466725203, 0.0, 0.0, 0.0, 0.0, 0.0, 0.0, 0.0, 0.0, 0.0, 0.0, 0.0, 0.0, 0.0, 0.0, 0.0, 0.0, 0.061028563526693246, 0.0, 0.0, 0.0, 0.0, 0.0, 0.0, 0.0, 0.0]\n"
     ]
    }
   ],
   "source": [
    "println(foods,JuMP.value.(n_food));"
   ]
  },
  {
   "cell_type": "markdown",
   "metadata": {},
   "source": [
    "d)."
   ]
  },
  {
   "cell_type": "code",
   "execution_count": 7,
   "metadata": {},
   "outputs": [
    {
     "name": "stdout",
     "output_type": "stream",
     "text": [
      "  0.001371 seconds (6.17 k allocations: 393.672 KiB)\n",
      "Coin0506I Presolve 9 (-53) rows, 52 (-1) columns and 393 (-54) elements\n",
      "Clp0006I 0  Obj 0 Primal inf 4.5508622 (9)\n",
      "Clp0006I 5  Obj 0.10904446\n",
      "Clp0000I Optimal - objective value 0.10904446\n",
      "Coin0511I After Postsolve, objective 0.10904446, infeasibilities - dual 0 (0), primal 0 (0)\n",
      "Clp0032I Optimal objective 0.1090444587 - 5 iterations time 0.002, Presolve 0.00\n"
     ]
    }
   ],
   "source": [
    "raw = CSV.read(\"stigler_vege.csv\");\n",
    "\n",
    "(m,n) = size(raw);  # m = number of rows, n = number of columns\n",
    "\n",
    "n_nutrients = 2:n;      # indices of columns containing nutrients (skip the first one)\n",
    "n_foods = 2:m;          # indices of rows containing food names (skip the two first ones)\n",
    "\n",
    "nutrients = names(raw)[n_nutrients];   # the list of nutrients \n",
    "foods = raw[n_foods,1];                # the list of foods \n",
    "\n",
    "# Put the data about nutrients and foods into an array\n",
    "data = convert(Matrix{Float64}, raw[n_foods,n_nutrients]);\n",
    "\n",
    "# lower[i] is the minimum daily requirement of nutrient i.\n",
    "lower = convert(Vector{Float64}, raw[1,n_nutrients]);\n",
    "\n",
    "stigler_vege = Model();\n",
    "\n",
    "n_food = @variable(stigler_vege, [1:m-1]);\n",
    "for i = 1 : m-1\n",
    "    @constraint(stigler_vege,n_food[i] >= 0);\n",
    "end\n",
    "\n",
    "for j = 1:n-1\n",
    "    @constraint(stigler_vege,n_food' * data[:,j]>=lower[j] );\n",
    "end\n",
    "\n",
    "@objective(stigler_vege,Min,sum(n_food));\n",
    "@time optimize!(stigler_vege, with_optimizer(Clp.Optimizer));\n",
    "\n"
   ]
  },
  {
   "cell_type": "code",
   "execution_count": 8,
   "metadata": {},
   "outputs": [
    {
     "name": "stdout",
     "output_type": "stream",
     "text": [
      "OPTIMAL\n",
      "Optimal daily cost = 0.10904445867706583 dollars\n",
      "Optimal annual cost = 39.80122741712903 dollars\n"
     ]
    }
   ],
   "source": [
    "println(termination_status(stigler_vege));\n",
    "println(\"Optimal daily cost = \", JuMP.objective_value(stigler_vege),\" dollars\");\n",
    "println(\"Optimal annual cost = \", 365 * JuMP.objective_value(stigler_vege),\" dollars\");"
   ]
  },
  {
   "cell_type": "markdown",
   "metadata": {},
   "source": [
    "The annual cost is higher than that in c). It is as expected."
   ]
  },
  {
   "cell_type": "markdown",
   "metadata": {},
   "source": [
    "##  3. Polyhedron modeling"
   ]
  },
  {
   "cell_type": "markdown",
   "metadata": {},
   "source": [
    "a).<br>\n",
    "The matrix A should be $ \\left ( \\begin{matrix} 1 & 0 & 0 \\\\ 0 & 1 & 0 \\\\ 0 & 0 & 1 \\\\ -1 & 0 & 0 \\\\ 0 & -1 & 0 \\\\ 0 & 0 & -1 \\end{matrix}\\right ) $, and the vector b is  $ \\left ( \\begin{matrix} 1  \\\\ 1 \\\\ 1 \\\\ 1 \\\\ 1 \\\\1 \\end{matrix}\\right ) $."
   ]
  },
  {
   "cell_type": "markdown",
   "metadata": {},
   "source": [
    "b).<br>\n",
    "The matrix A should be $ \\left ( \\begin{matrix} 1 & 1 & 1 \\\\ -1& 1 & 1 \\\\ 1& -1& 1\\\\ 1 & 1 &-1 \\\\ 1& -1 & -1 \\\\ -1& 1& -1\\\\ -1 & -1 & 1 \\\\ -1 & -1 & -1 \\end{matrix}\\right ) $, and the vector b is  $ \\left ( \\begin{matrix}1 \\\\ 1 \\\\ 1\\\\1 \\\\ 1 \\\\ 1\\\\ 1 \\\\1  \\end{matrix}\\right ) $."
   ]
  },
  {
   "cell_type": "markdown",
   "metadata": {},
   "source": [
    "## 4. Standard form with equality constraints"
   ]
  },
  {
   "cell_type": "markdown",
   "metadata": {},
   "source": [
    "a).<br> $\\mathbf{x} = \\begin{pmatrix} x_1 \\\\ x_2 \\\\ x_3 \\\\ x_4 \\\\ x_5 \\\\ x_6 \\\\ x_7 \\\\ x_8 \\end{pmatrix} = \\begin{pmatrix} 3 - z_1 + 6z_2 - z_3 + z_4 \\\\ 2 - (z_3 + z_4) \\\\ z_2 + 1 \\\\ 5 - z_2 \\\\ z_3 + 1 \\\\ 5 - z_3 \\\\ z_4 + 2\\\\ 2 - z4 \\end{pmatrix}$ <br>\n",
    "$\\mathbf{A} = \\begin{pmatrix} 0 & 0 & 1 & 1 & 0 & 0 & 0 & 0 \\\\ 0 & 0 & 0 & 0 & 1 & 1 & 0 & 0 \\\\ 0 & 0 & 0 & 0 & 0 & 0 & 1 & 1 \\\\ 0 & 1 & 0 & 0 & 1 & 0 & 1 & 0 \\\\0 & 0 & 1 & 0 & 0 & 0 & 1 & 0 \\end{pmatrix}$ <br>\n",
    "$\\mathbf{b} = \\begin{pmatrix} 6\\\\6\\\\4\\\\5\\\\0 \\end{pmatrix}$ <br>\n",
    "$\\mathbf{c} = \\begin{pmatrix} -3\\\\0\\\\-17\\\\0\\\\-3\\\\0\\\\3 \\\\0\\end{pmatrix}$"
   ]
  },
  {
   "cell_type": "markdown",
   "metadata": {},
   "source": [
    "b)."
   ]
  },
  {
   "cell_type": "code",
   "execution_count": 9,
   "metadata": {},
   "outputs": [
    {
     "name": "stdout",
     "output_type": "stream",
     "text": [
      "  1.129688 seconds (3.28 M allocations: 167.633 MiB, 2.09% gc time)\n",
      "OPTIMAL\n",
      "Build z1:8.571428571428571\n",
      "Build z2:0.42857142857142855\n",
      "Build z3:-1.0\n",
      "Build z4:2.0\n",
      "Total 25.28571428571429\n",
      "Coin0506I Presolve 0 (-3) rows, 0 (-4) columns and 0 (-8) elements\n",
      "Clp3002W Empty problem - 0 rows, 0 columns and 0 elements\n",
      "Clp0000I Optimal - objective value 25.285714\n",
      "Coin0511I After Postsolve, objective 25.285714, infeasibilities - dual 0 (0), primal 0 (0)\n",
      "Clp0032I Optimal objective 25.28571429 - 0 iterations time 0.002, Presolve 0.00\n"
     ]
    }
   ],
   "source": [
    "\n",
    "using JuMP, Clp\n",
    "ieqm = Model();\n",
    "@variable(ieqm, z1);\n",
    "@variable(ieqm, -1 <= z2 <= 5);\n",
    "@variable(ieqm, -1 <= z3 <= 5);\n",
    "@variable(ieqm, -2 <= z4 <= 2);\n",
    "@constraint(ieqm, -z1 + 6z2 - z3 + z4 >= -3);\n",
    "\n",
    "@constraint(ieqm, 7z2 + z4 == 5);\n",
    "@constraint(ieqm, z3 + z4 <= 2);\n",
    "\n",
    "@objective(ieqm, Max, 3z1 - z2);\n",
    "\n",
    "@time optimize!(ieqm, with_optimizer(Clp.Optimizer));\n",
    "\n",
    "println(termination_status(ieqm));\n",
    "println(\"Build z1:\", JuMP.value(z1));\n",
    "println(\"Build z2:\", JuMP.value(z2));\n",
    "println(\"Build z3:\", JuMP.value(z3));\n",
    "println(\"Build z4:\", JuMP.value(z4));\n",
    "println(\"Total \", JuMP.objective_value(ieqm));"
   ]
  },
  {
   "cell_type": "code",
   "execution_count": 10,
   "metadata": {},
   "outputs": [
    {
     "name": "stdout",
     "output_type": "stream",
     "text": [
      "  0.054573 seconds (155.00 k allocations: 7.780 MiB, 14.33% gc time)\n",
      "OPTIMAL\n",
      "Build z1:8.571428571428571\n",
      "Build z2:0.4285714285714286\n",
      "Build z3:-1.0\n",
      "Build z4:2.0\n",
      "Total 25.285714285714285\n",
      "Coin0506I Presolve 0 (-5) rows, 0 (-8) columns and 0 (-11) elements\n",
      "Clp3002W Empty problem - 0 rows, 0 columns and 0 elements\n",
      "Clp0000I Optimal - objective value 25.285714\n",
      "Coin0511I After Postsolve, objective 25.285714, infeasibilities - dual 0 (0), primal 0 (0)\n",
      "Clp0032I Optimal objective 25.28571429 - 0 iterations time 0.002, Presolve 0.00\n"
     ]
    }
   ],
   "source": [
    "using JuMP, Clp\n",
    "eqm = Model();\n",
    "@variable(eqm,x1>=0);\n",
    "@variable(eqm,x2>=0);\n",
    "@variable(eqm,x3>=0);\n",
    "@variable(eqm,x4>=0);\n",
    "@variable(eqm,x5>=0);\n",
    "@variable(eqm,x6>=0);\n",
    "@variable(eqm,x7>=0);\n",
    "@variable(eqm,x8>=0);\n",
    "\n",
    "@constraint(eqm, x3 + x4 == 6);\n",
    "@constraint(eqm, x5 + x6 == 6);\n",
    "@constraint(eqm, x7 + x8 == 4);\n",
    "@constraint(eqm, x2 + (x5) + (x7) == 5);\n",
    "@constraint(eqm, -7*(x3) + (x7) == 0);\n",
    "\n",
    "\n",
    "\n",
    "\n",
    "@objective(eqm,Max,(-3)x1 + (-17)x3 + (-3)x5 + (3)x7  + 23);\n",
    "@time optimize!(eqm, with_optimizer(Clp.Optimizer));\n",
    "\n",
    "x1_val = JuMP.value(x1);\n",
    "x3_val = JuMP.value(x3);\n",
    "x5_val = JuMP.value(x5);\n",
    "x7_val = JuMP.value(x7);\n",
    "\n",
    "println(termination_status(eqm));\n",
    "println(\"Build z1:\", 3 - x1_val + 6(1-x3_val) -(x5_val-1) + (x7_val-2));\n",
    "println(\"Build z2:\", 1 - x3_val);\n",
    "println(\"Build z3:\", x5_val - 1);\n",
    "println(\"Build z4:\", x7_val - 2);\n",
    "println(\"Total \", JuMP.objective_value(eqm));"
   ]
  }
 ],
 "metadata": {
  "kernelspec": {
   "display_name": "Julia 1.3.1",
   "language": "julia",
   "name": "julia-1.3"
  },
  "language_info": {
   "file_extension": ".jl",
   "mimetype": "application/julia",
   "name": "julia",
   "version": "1.3.1"
  }
 },
 "nbformat": 4,
 "nbformat_minor": 4
}
