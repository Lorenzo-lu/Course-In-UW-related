{
 "cells": [
  {
   "cell_type": "markdown",
   "metadata": {},
   "source": [
    "## Data for Doodle Scheduling problem"
   ]
  },
  {
   "cell_type": "markdown",
   "metadata": {},
   "source": [
    "·The decision variables are the whether a staff member attend this meeting at certain time periods.\n",
    "\n",
    "·For each person, he/she can only attend one meeting during the whole day.\n",
    "\n",
    "·For time slots except the first and lunch, there could only be one person meeting the candidate. For the first slot, there is supposed to be one person together with either Mirjam or Matt, while for the lunch slot, there will be three persons\n",
    "\n",
    "·The objective is to find a proper arrangement. Here we can just set the objective is to minimize the sum of the decision variables."
   ]
  },
  {
   "cell_type": "markdown",
   "metadata": {},
   "source": [
    "Math model:\n",
    "\n",
    "Objective -> minimize $\\sum_{j=1}^{13}\\sum_{i=1}^{16} c_{ij}$, $c_i$ is whether the person show up at this time period. If $c_{ij} = 0$, he/she will not, but he/she will if $c_i = 1$.\n",
    "\n",
    "Constraints -> $c_{ij} \\in \\{1,0\\}$; $\\sum_{j=1}^{13} c_ij = 1$ ; $\\sum_{i=1}^{16} c_ij = 1$ when $j \\neq 1 or 7$; $\\sum_{i=1}^{16} c_i1 = 2 \\land c_11 + c_21 =1$; $\\sum_{i=1}^{16} c_i7 = 3$"
   ]
  },
  {
   "cell_type": "code",
   "execution_count": 1,
   "metadata": {},
   "outputs": [
    {
     "name": "stdout",
     "output_type": "stream",
     "text": [
      "16×13 Named Array{Int64,2}\n",
      "Name ╲ Time │  1   2   3   4   5   6   7   8   9  10  11  12  13\n",
      "────────────┼───────────────────────────────────────────────────\n",
      ":Mirjam     │  0   0   0   0   0   0   0   0   0   0   0   1   0\n",
      ":Matt       │  1   0   0   0   0   0   0   0   0   0   0   0   0\n",
      ":Manuel     │  0   0   0   1   0   0   0   0   0   0   0   0   0\n",
      ":Luca       │  0   0   0   0   0   0   0   0   0   1   0   0   0\n",
      ":Jule       │  0   0   0   0   0   0   1   0   0   0   0   0   0\n",
      ":Michael    │  0   0   0   0   0   0   0   0   0   0   1   0   0\n",
      ":Malte      │  0   0   0   0   0   0   1   0   0   0   0   0   0\n",
      ":Chris      │  0   0   0   0   0   0   0   0   1   0   0   0   0\n",
      ":Spyros     │  0   0   0   0   0   1   0   0   0   0   0   0   0\n",
      ":Florian    │  0   0   0   0   0   0   0   1   0   0   0   0   0\n",
      ":Josep      │  0   0   0   0   0   0   1   0   0   0   0   0   0\n",
      ":Joel       │  0   0   0   0   0   0   0   0   0   0   0   0   1\n",
      ":Tom        │  1   0   0   0   0   0   0   0   0   0   0   0   0\n",
      ":Daniel     │  0   0   1   0   0   0   0   0   0   0   0   0   0\n",
      ":Christian  │  0   1   0   0   0   0   0   0   0   0   0   0   0\n",
      ":Anne       │  0   0   0   0   1   0   0   0   0   0   0   0   0\n",
      "Coin0506I Presolve 24 (-136) rows, 63 (-145) columns and 132 (-416) elements\n",
      "Clp0006I 0  Obj 5 Primal inf 22.199978 (22)\n",
      "Clp0006I 31  Obj 16 Primal inf 2.999997 (3)\n",
      "Clp0006I 32  Obj 16\n",
      "Clp0000I Optimal - objective value 16\n",
      "Coin0511I After Postsolve, objective 16, infeasibilities - dual 0 (0), primal 0 (0)\n",
      "Clp0032I Optimal objective 16 - 32 iterations time 0.092, Presolve 0.00\n"
     ]
    }
   ],
   "source": [
    "#using Pkg\n",
    "#Pkg.add(\"NamedArrays\")\n",
    "\n",
    "using JuMP, NamedArrays\n",
    "\n",
    "availability =\n",
    "  [ 1 1 0 0 0 0 0 0 0 0 1 1 1\n",
    "    1 1 1 0 0 0 0 0 0 1 1 0 0\n",
    "    0 0 1 1 0 0 0 1 1 0 0 0 0\n",
    "    0 1 1 0 0 0 0 0 1 1 0 0 0\n",
    "    0 0 0 1 1 0 1 1 0 1 1 1 1\n",
    "    0 0 0 1 1 1 1 1 1 1 1 1 0\n",
    "    0 0 0 0 0 0 1 1 1 0 0 0 0\n",
    "    0 1 1 0 0 0 0 0 1 1 0 0 0\n",
    "    0 0 0 1 1 1 1 0 0 0 0 0 0\n",
    "    0 0 0 0 0 0 0 1 1 0 0 0 0\n",
    "    0 0 0 0 0 0 1 1 1 0 0 0 0\n",
    "    1 1 0 0 0 1 1 1 1 0 0 1 1\n",
    "    1 1 1 0 1 1 0 0 0 0 0 1 1\n",
    "    0 1 1 1 0 0 0 0 0 0 0 0 0\n",
    "    0 1 1 0 0 0 0 1 1 1 0 0 0\n",
    "    1 1 0 0 1 1 0 0 0 0 0 0 0 ]\n",
    "\n",
    "TIMES = collect(1:13)\n",
    "NAMES = [:Mirjam,:Matt,:Manuel,:Luca,:Jule,:Michael,:Malte,:Chris,:Spyros,:Florian,:Josep,:Joel,:Tom,:Daniel,:Christian,:Anne ]\n",
    "TIMESTR = [\"10:00\",\"10:20\",\"10:40\",\"11:00\",\"11:20\",\"11:40\",\"lunch\",\"1:00\",\"1:20\",\"1:40\",\"2:00\",\"2:20\",\"2:40\"]\n",
    "\n",
    "# Creating a NamedArray of the availability data\n",
    "times = NamedArray( availability, (NAMES,TIMES), (\"NAME\",\"TIME\"))\n",
    "#println(times)\n",
    "\n",
    "## With a NamedArray, it is possible to use symbols as indices (although you don't have to use this)\n",
    "## For example, it is possible to write\n",
    "\n",
    "#println(times[:Luca,1])\n",
    "\n",
    "# or\n",
    "\n",
    "#println(sum(times[i,1] for i in NAMES))\n",
    "\n",
    "\n",
    "# Yizhou Code starts\n",
    "rows, cols = size(availability);\n",
    "\n",
    "using Clp\n",
    "m = Model(with_optimizer(Clp.Optimizer))\n",
    "@variable(m, 0 <= x[1:16,1:13] <= 1)\n",
    "for i = 1:rows\n",
    "    for j = 1:cols\n",
    "        if availability[i,j] == 0\n",
    "            @constraint(m,x[i,j] == 0);\n",
    "        end\n",
    "    end\n",
    "    @constraint(m,sum(x[i,j] for j = 1:cols ) == 1);\n",
    "end\n",
    "\n",
    "for b = 1:13\n",
    "    if b == 7\n",
    "        @constraint(m, sum(x[a,b] for a = 1:rows) == 3);\n",
    "    elseif b == 1\n",
    "        @constraint(m,x[1,b]+ x[2,b] >= 1);\n",
    "        @constraint(m,sum(x[a,b] for a = 1:rows) == 2);\n",
    "    else\n",
    "        @constraint(m, sum(x[a,b] for a = 1:rows) == 1);\n",
    "    end\n",
    "end\n",
    "\n",
    "@objective(m, Min, sum(x));\n",
    "optimize!(m);\n",
    "\n",
    "\n",
    "schedule = zeros(Int64,rows,cols); # Very important to declare \"Int\" here\n",
    "for i = 1:rows\n",
    "    for j = 1:cols        \n",
    "        schedule[i,j] = (JuMP.value(x[i,j]));              \n",
    "    end\n",
    "end\n",
    "\n",
    "times2 = NamedArray((schedule),(NAMES,TIMES),(\"Name\",\"Time\"))\n",
    "\n",
    "println((times2))"
   ]
  },
  {
   "cell_type": "code",
   "execution_count": 2,
   "metadata": {},
   "outputs": [
    {
     "data": {
      "text/plain": [
       "16×13 Array{Int64,2}:\n",
       " 1  1  0  0  0  0  0  0  0  0  1  0  1\n",
       " 0  1  1  0  0  0  0  0  0  1  1  0  0\n",
       " 0  0  1  0  0  0  0  1  1  0  0  0  0\n",
       " 0  1  1  0  0  0  0  0  1  0  0  0  0\n",
       " 0  0  0  1  1  0  0  1  0  1  1  1  1\n",
       " 0  0  0  1  1  1  1  1  1  1  0  1  0\n",
       " 0  0  0  0  0  0  0  1  1  0  0  0  0\n",
       " 0  1  1  0  0  0  0  0  0  1  0  0  0\n",
       " 0  0  0  1  1  0  1  0  0  0  0  0  0\n",
       " 0  0  0  0  0  0  0  0  1  0  0  0  0\n",
       " 0  0  0  0  0  0  0  1  1  0  0  0  0\n",
       " 1  1  0  0  0  1  1  1  1  0  0  1  0\n",
       " 0  1  1  0  1  1  0  0  0  0  0  1  1\n",
       " 0  1  0  1  0  0  0  0  0  0  0  0  0\n",
       " 0  0  1  0  0  0  0  1  1  1  0  0  0\n",
       " 1  1  0  0  0  1  0  0  0  0  0  0  0"
      ]
     },
     "execution_count": 2,
     "metadata": {},
     "output_type": "execute_result"
    }
   ],
   "source": [
    "availability - schedule"
   ]
  },
  {
   "cell_type": "markdown",
   "metadata": {},
   "source": [
    "## Data for stadium building problem"
   ]
  },
  {
   "cell_type": "code",
   "execution_count": 3,
   "metadata": {},
   "outputs": [],
   "source": [
    "using JuMP\n",
    "\n",
    "tasks = 1:18\n",
    "durations = [2 16 9 8 10 6 2 2 9 5 3 2 1 7 4 3 9 1]\n",
    "predecessors = ( [], [1], [2], [2], [3], [4,5], [4], [6], [4,6], [4], [6], [9], [7], [2], [4,14], [8,11,14], [12], [17] )\n",
    "pred_dict = Dict(zip(tasks,predecessors));   # dictionary mapping tasks --> predecessors.\n",
    "\n",
    "# additional columns of data (maximum reduction possible )\n",
    "max_reduction =  [0,  3,  1,  2,  2,  1, 1, 0,  2,  1,  1, 0, 0,  2,  2, 1,  3, 0]  # max reduction (in weeks)\n",
    "cost_reduction = [0, 30, 26, 12, 17, 15, 8, 0, 42, 21, 18, 0, 0, 22, 12, 6, 16, 0]  # cost of reduction ($1,000/week)\n",
    "bonus_amount = 30     # bonus for expediting the project ($1,000/week )\n",
    ";"
   ]
  },
  {
   "cell_type": "markdown",
   "metadata": {},
   "source": [
    "-------------------------------------------------------------------------------------------------------------------\n",
    "a)."
   ]
  },
  {
   "cell_type": "code",
   "execution_count": 4,
   "metadata": {},
   "outputs": [
    {
     "name": "stdout",
     "output_type": "stream",
     "text": [
      "1-dimensional DenseAxisArray{Float64,1,...} with index sets:\n",
      "    Dimension 1, 1:18\n",
      "And data, a 18-element Array{Float64,1}:\n",
      "  0.0\n",
      "  2.0\n",
      " 18.0\n",
      " 18.0\n",
      " 27.0\n",
      " 37.0\n",
      " 26.0\n",
      " 43.0\n",
      " 43.0\n",
      " 26.0\n",
      " 43.0\n",
      " 52.0\n",
      " 28.0\n",
      " 18.0\n",
      " 26.0\n",
      " 46.0\n",
      " 54.0\n",
      " 63.0\n",
      "minimum duration: 64.0\n",
      "Coin0506I Presolve 0 (-23) rows, 0 (-18) columns and 0 (-45) elements\n",
      "Clp3002W Empty problem - 0 rows, 0 columns and 0 elements\n",
      "Clp0000I Optimal - objective value 64\n",
      "Coin0511I After Postsolve, objective 64, infeasibilities - dual 0 (0), primal 0 (0)\n",
      "Clp0032I Optimal objective 64 - 0 iterations time 0.002, Presolve 0.00\n"
     ]
    }
   ],
   "source": [
    "m = Model(with_optimizer(Clp.Optimizer));\n",
    "@variable(m, tstart[tasks]);\n",
    "\n",
    "for i in tasks\n",
    "    for j in pred_dict[i]\n",
    "        @constraint(m, tstart[i] >= tstart[j] + durations[j]);\n",
    "    end\n",
    "end\n",
    "\n",
    "@constraint(m, tstart[1] == 0);\n",
    "@objective(m, Min, tstart[18] + durations[18])\n",
    "\n",
    "optimize!(m)\n",
    "println(value.(tstart))\n",
    "println(\"minimum duration: \", objective_value(m))"
   ]
  },
  {
   "cell_type": "markdown",
   "metadata": {},
   "source": [
    "ANSWER: The earlist accomplishment of this construction will be achieved in 64 weeks."
   ]
  },
  {
   "cell_type": "markdown",
   "metadata": {},
   "source": [
    "----------------------------------------------------------------------------------------------------------------------\n",
    "b)."
   ]
  },
  {
   "cell_type": "markdown",
   "metadata": {},
   "source": [
    "The objective is to minimize the cost, which is the bonus minus the additional cost for shortening the schdule. In the following code, the shortened time period is represented as tred[] (Time REDucation). By adding this variables, the previous model can be modified to achieve the new objective."
   ]
  },
  {
   "cell_type": "code",
   "execution_count": 5,
   "metadata": {},
   "outputs": [
    {
     "name": "stdout",
     "output_type": "stream",
     "text": [
      "1-dimensional DenseAxisArray{Float64,1,...} with index sets:\n",
      "    Dimension 1, 1:18\n",
      "And data, a 18-element Array{Float64,1}:\n",
      "  0.0\n",
      "  2.0\n",
      " 15.0\n",
      " 15.0\n",
      " 23.0\n",
      " 31.0\n",
      " 23.0\n",
      " 36.0\n",
      " 36.0\n",
      " 23.0\n",
      " 36.0\n",
      " 45.0\n",
      " 25.0\n",
      " 15.0\n",
      " 23.0\n",
      " 39.0\n",
      " 47.0\n",
      " 53.0\n",
      "end time -> 54.0 weeks\n",
      "maximum bonus -> 87.0k\n",
      "Coin0506I Presolve 3 (-38) rows, 8 (-28) columns and 18 (-67) elements\n",
      "Clp0006I 0  Obj 363 Primal inf 13.199998 (2)\n",
      "Clp0006I 2  Obj 87\n",
      "Clp0000I Optimal - objective value 87\n",
      "Coin0511I After Postsolve, objective 87, infeasibilities - dual 0 (0), primal 0 (0)\n",
      "Clp0032I Optimal objective 87 - 2 iterations time 0.002, Presolve 0.00\n"
     ]
    }
   ],
   "source": [
    "m = Model(with_optimizer(Clp.Optimizer));\n",
    "\n",
    "@variable(m, tstart[tasks]);\n",
    "@variable(m, tred[tasks] >= 0);\n",
    "\n",
    "\n",
    "\n",
    "for i in tasks\n",
    "    @constraint(m, tred[i] <= max_reduction[i])\n",
    "    for j in pred_dict[i]        \n",
    "        @constraint(m, tstart[i] >= tstart[j] + durations[j] - tred[j]);\n",
    "    end\n",
    "end\n",
    "\n",
    "@constraint(m, tstart[1] == 0);\n",
    "\n",
    "@objective(m, Max, (64 - (tstart[18] + durations[18])) * 30 - sum((cost_reduction[i] * tred[i]) for i in tasks));\n",
    "optimize!(m)\n",
    "println(value.(tstart))\n",
    "println(\"end time -> \", value.(tstart[18]+durations[18]), \" weeks\")\n",
    "println(\"maximum bonus -> \", objective_value(m), \"k\")"
   ]
  },
  {
   "cell_type": "markdown",
   "metadata": {},
   "source": [
    "ANSWER: So the end time is in 54 weeks so that the profit is maximized."
   ]
  },
  {
   "cell_type": "markdown",
   "metadata": {},
   "source": [
    "## Museum site planning."
   ]
  },
  {
   "cell_type": "code",
   "execution_count": 6,
   "metadata": {},
   "outputs": [],
   "source": [
    "#using Pkg\n",
    "#Pkg.add(\"LinearAlgebra\")\n",
    "\n",
    "using Clp,JuMP,LinearAlgebra;\n",
    "A = [ -1 0; 0 -1; 0 1; 2/3 1; 3 -1];\n",
    "b = [ 0  ; 0  ; 500; 700; 1500];"
   ]
  },
  {
   "cell_type": "code",
   "execution_count": 7,
   "metadata": {},
   "outputs": [
    {
     "name": "stdout",
     "output_type": "stream",
     "text": [
      "Coin0506I Presolve 4 (-1) rows, 2 (-1) columns and 8 (-4) elements\n",
      "Clp0006I 0  Obj -0 Primal inf 0.099999 (1) Dual inf 0.40283601 (1)\n",
      "Clp0006I 2  Obj 194.02853\n",
      "Clp0000I Optimal - objective value 194.02853\n",
      "Coin0511I After Postsolve, objective 194.02853, infeasibilities - dual 0 (0), primal 0 (0)\n",
      "Clp0032I Optimal objective 194.0285268 - 2 iterations time 0.002, Presolve 0.00\n"
     ]
    }
   ],
   "source": [
    "m = Model(with_optimizer(Clp.Optimizer))\n",
    "@variable(m, r >= 0); # radius\n",
    "@variable(m, x[1:2]); # center\n",
    "\n",
    "B = A * x;\n",
    "clearance = 50;\n",
    "for i = 1:length(A[:,1])\n",
    "     @constraint(m, B[i] + (r+clearance)*norm(A[i,:]) <= b[i])\n",
    "end\n",
    "@objective(m, Max, r);\n",
    "optimize!(m)\n",
    "\n",
    "Cen = value.(x);\n",
    "Rad = value(r);\n",
    "\n"
   ]
  },
  {
   "cell_type": "code",
   "execution_count": 8,
   "metadata": {},
   "outputs": [
    {
     "name": "stdout",
     "output_type": "stream",
     "text": [
      "The coordinate of center is ->[244.02852679380186, 244.02852679380186]\n",
      "The radius is ->194.02852679380186\n"
     ]
    }
   ],
   "source": [
    "println(\"The coordinate of center is ->\", Cen );\n",
    "println(\"The radius is ->\",Rad);"
   ]
  },
  {
   "cell_type": "markdown",
   "metadata": {},
   "source": [
    "ANSWER: The center is located at (244.02852679380186, 244.02852679380186) on this map, and the radius is 194.02852679380186."
   ]
  },
  {
   "cell_type": "code",
   "execution_count": 9,
   "metadata": {},
   "outputs": [
    {
     "name": "stderr",
     "output_type": "stream",
     "text": [
      "┌ Info: Precompiling Plots [91a5bcdd-55d7-5caf-9e0b-520d859cae80]\n",
      "└ @ Base loading.jl:1273\n"
     ]
    }
   ],
   "source": [
    "using Plots"
   ]
  },
  {
   "cell_type": "code",
   "execution_count": null,
   "metadata": {},
   "outputs": [],
   "source": [
    "\n",
    "Raw = [0 0; 0 500; 300 500; 600 300; 500 0; 0 0];\n",
    "outline = plot(Raw[:,1], Raw[:,2], label = \"Neighbourhood\",color = \"blue\");\n",
    "\n",
    "L = 101;\n",
    "theta = [i for i = 0: (L-1)] * (2*pi)/(L-1);\n",
    "X_opt = zeros(L,1);\n",
    "Y_opt = zeros(L,1);\n",
    "for i = 1:length(theta)\n",
    "    X_opt[i] = Cen[1] + Rad * cos(theta[i]);\n",
    "    Y_opt[i] = Cen[2] + Rad * sin(theta[i]);\n",
    "end\n",
    "\n",
    "plot!(outline,X_opt,Y_opt,label = \"Museum\",color = \"red\")\n"
   ]
  },
  {
   "cell_type": "code",
   "execution_count": null,
   "metadata": {},
   "outputs": [],
   "source": []
  }
 ],
 "metadata": {
  "@webio": {
   "lastCommId": null,
   "lastKernelId": null
  },
  "kernelspec": {
   "display_name": "Julia 1.3.1",
   "language": "julia",
   "name": "julia-1.3"
  },
  "language_info": {
   "file_extension": ".jl",
   "mimetype": "application/julia",
   "name": "julia",
   "version": "1.3.1"
  }
 },
 "nbformat": 4,
 "nbformat_minor": 4
}
