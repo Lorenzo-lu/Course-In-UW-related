{
 "cells": [
  {
   "cell_type": "code",
   "execution_count": 1,
   "metadata": {},
   "outputs": [],
   "source": [
    "import pandas as pd;\n",
    "import numpy as np;\n",
    "import matplotlib.pyplot as plt;"
   ]
  },
  {
   "cell_type": "code",
   "execution_count": 34,
   "metadata": {},
   "outputs": [
    {
     "data": {
      "image/png": "[encoded data removed]",
      "text/plain": [
       "<Figure size 432x288 with 1 Axes>"
      ]
     },
     "metadata": {
      "needs_background": "light"
     },
     "output_type": "display_data"
    }
   ],
   "source": [
    "df = pd.read_csv(\"lasso_data.csv\");\n",
    "data = df.values;\n",
    "X = data[:,0];\n",
    "Y = data[:,1];\n",
    "\n",
    "plt.figure();\n",
    "plt.scatter(X,Y,s = 2, c = \"r\", label = \"raw data\");\n",
    "plt.xlabel(\"X\");\n",
    "plt.ylabel(\"Y\");\n",
    "plt.legend();\n",
    "plt.show();"
   ]
  },
  {
   "cell_type": "code",
   "execution_count": 96,
   "metadata": {},
   "outputs": [],
   "source": [
    "def getPoly(X,order):\n",
    "    order += 1;\n",
    "    X_poly = np.zeros((len(X),order))\n",
    "    for i in range(order):\n",
    "        X_poly[:,i] = X**(order-1 - i);\n",
    "        \n",
    "    return X_poly;"
   ]
  },
  {
   "cell_type": "code",
   "execution_count": 97,
   "metadata": {},
   "outputs": [],
   "source": [
    "def getWeight(X_poly, Y):\n",
    "    w = np.linalg.pinv(X_poly.T.dot(X_poly) ).dot(X_poly.T).dot(Y);\n",
    "    return w;\n",
    "\n",
    "def Ridge_Regression(X_poly, Y, lamb):\n",
    "    w = np.linalg.pinv(X_poly.T.dot(X_poly) + lamb ).dot(X_poly.T).dot(Y);\n",
    "    return w;"
   ]
  },
  {
   "cell_type": "code",
   "execution_count": 98,
   "metadata": {},
   "outputs": [
    {
     "data": {
      "image/png": "[encoded data removed]",
      "text/plain": [
       "<Figure size 432x288 with 1 Axes>"
      ]
     },
     "metadata": {
      "needs_background": "light"
     },
     "output_type": "display_data"
    }
   ],
   "source": [
    "end = 5;\n",
    "X = data[:,0];\n",
    "Y = data[:,1];\n",
    "\n",
    "Np = 100;\n",
    "#X_plot = np.array(range(Np))/(Np-1) * (np.max(X)-np.min(X)) + np.min(X);\n",
    "X_plot = np.array(range(Np))/(Np-1)*0.5 + 0.1;\n",
    "\n",
    "order = np.array([15]);\n",
    "Y_fit = np.zeros((len(X_plot),len(order)));\n",
    "Y_fit_Ridge = np.zeros((len(X_plot),len(order)));\n",
    "\n",
    "for i in range(len(order)):\n",
    "    X_poly = getPoly(X, order[i]);\n",
    "    w = getWeight(X_poly,Y);\n",
    "    \n",
    "    w_RR = Ridge_Regression(X_poly,Y, 1e-11);\n",
    "    \n",
    "    X_plot_poly = getPoly(X_plot, order[i]);\n",
    "    Y_fit[:,i] = X_plot_poly.dot(w);\n",
    "    Y_fit_Ridge[:,i] = X_plot_poly.dot(w_RR);\n",
    "\n",
    "plt.figure();\n",
    "plt.scatter(X,Y,s = 2, c = \"r\", label = \"raw data\");\n",
    "for i in range(len(order)):\n",
    "    plt.plot(X_plot, Y_fit[:,i], label = \"fit -\" + str(order[i]) + \"order\");\n",
    "    plt.plot(X_plot, Y_fit_Ridge[:,i], label = \"Ridge_fit -\" + str(order[i]) + \"order\");\n",
    "    \n",
    "plt.xlabel(\"X\");\n",
    "plt.ylabel(\"Y\");\n",
    "plt.legend();\n",
    "plt.show();"
   ]
  },
  {
   "cell_type": "code",
   "execution_count": 99,
   "metadata": {},
   "outputs": [
    {
     "data": {
      "text/plain": [
       "array([-1.75415288e+04, -1.76182294e+04, -1.37807208e+04, -5.16588783e+03,\n",
       "        6.65863794e+03,  1.59101859e+04,  1.37350905e+04, -3.40768310e+03,\n",
       "       -1.97016261e+04, -4.56161612e+03,  2.58869148e+04, -1.84389672e+04,\n",
       "        6.20673721e+03, -1.16000154e+03,  1.15443659e+02, -3.69845564e+00])"
      ]
     },
     "execution_count": 99,
     "metadata": {},
     "output_type": "execute_result"
    }
   ],
   "source": [
    "w"
   ]
  },
  {
   "cell_type": "code",
   "execution_count": 101,
   "metadata": {},
   "outputs": [
    {
     "data": {
      "text/plain": [
       "array([-3.60262121e+03, -1.62341355e+03,  5.17261321e+02,  2.34853092e+03,\n",
       "        3.13819248e+03,  2.16113697e+03, -5.82850893e+02, -3.38180278e+03,\n",
       "       -2.88398694e+03,  2.14763888e+03,  4.27346559e+03, -4.73894278e+03,\n",
       "        2.00859768e+03, -4.67367170e+02,  5.65804343e+01, -1.68428489e+00])"
      ]
     },
     "execution_count": 101,
     "metadata": {},
     "output_type": "execute_result"
    }
   ],
   "source": [
    "w_RR"
   ]
  },
  {
   "cell_type": "code",
   "execution_count": null,
   "metadata": {},
   "outputs": [],
   "source": []
  }
 ],
 "metadata": {
  "kernelspec": {
   "display_name": "Python 3",
   "language": "python",
   "name": "python3"
  },
  "language_info": {
   "codemirror_mode": {
    "name": "ipython",
    "version": 3
   },
   "file_extension": ".py",
   "mimetype": "text/x-python",
   "name": "python",
   "nbconvert_exporter": "python",
   "pygments_lexer": "ipython3",
   "version": "3.7.4"
  }
 },
 "nbformat": 4,
 "nbformat_minor": 2
}
