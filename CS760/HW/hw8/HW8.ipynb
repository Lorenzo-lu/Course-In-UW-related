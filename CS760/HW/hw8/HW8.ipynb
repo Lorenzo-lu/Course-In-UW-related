{
 "cells": [
  {
   "cell_type": "markdown",
   "metadata": {},
   "source": [
    "# HW8"
   ]
  },
  {
   "cell_type": "markdown",
   "metadata": {},
   "source": [
    "## 1. Principal Component Analysis"
   ]
  },
  {
   "cell_type": "code",
   "execution_count": 1,
   "metadata": {},
   "outputs": [],
   "source": [
    "import pandas as pd;\n",
    "import numpy as np;\n",
    "import matplotlib.pyplot as plt;"
   ]
  },
  {
   "cell_type": "markdown",
   "metadata": {},
   "source": [
    "```1).```"
   ]
  },
  {
   "cell_type": "code",
   "execution_count": 2,
   "metadata": {},
   "outputs": [],
   "source": [
    "'''function sets'''\n",
    "def txt2image(pathname):\n",
    "    ### Read this text file as a string ###\n",
    "    filetest = open(pathname,\"r\");\n",
    "    text = filetest.read();\n",
    "    filetest.close(); \n",
    "    \n",
    "    def line2num_list(line):\n",
    "        ### line is a string without '\\n'\n",
    "        ### but only has ' ' and  str(int)\n",
    "        \n",
    "        num_list = []; ## the returned item\n",
    "        \n",
    "        start = 0;\n",
    "        while start < len(line):\n",
    "            if line[start] != ' ':\n",
    "                end = start;\n",
    "                while line[end] != ' ':\n",
    "                    if end >= len(line):\n",
    "                        break;\n",
    "                    end += 1;\n",
    "                num_list.append(float(line[start:end]));\n",
    "                \n",
    "                start = end;\n",
    "            start += 1;\n",
    "        return num_list;\n",
    "            \n",
    "    \n",
    "    nums = [];\n",
    "    \n",
    "    start = 0;\n",
    "    end = 0;    \n",
    "    while end <= len(text):\n",
    "        if text[end] == '\\n':\n",
    "            line = (text[start:end]);\n",
    "            nums.append(line2num_list(line));\n",
    "            start = end + 1;\n",
    "            if start >= len(text):\n",
    "                break;\n",
    "        end += 1;\n",
    "        \n",
    "    \n",
    "    return np.array(nums);\n",
    "    "
   ]
  },
  {
   "cell_type": "code",
   "execution_count": 3,
   "metadata": {},
   "outputs": [
    {
     "data": {
      "image/png": "[encoded data removed]",
      "text/plain": [
       "<Figure size 432x288 with 1 Axes>"
      ]
     },
     "metadata": {
      "needs_background": "light"
     },
     "output_type": "display_data"
    },
    {
     "data": {
      "image/png": "[encoded data removed]",
      "text/plain": [
       "<Figure size 432x288 with 1 Axes>"
      ]
     },
     "metadata": {
      "needs_background": "light"
     },
     "output_type": "display_data"
    }
   ],
   "source": [
    "'''Visualization'''\n",
    "three = txt2image('three.txt');\n",
    "eight = txt2image('eight.txt');\n",
    "\n",
    "## transposed : \n",
    "## in image reshape by column (in python reshape by row)\n",
    "## so revert and transpose\n",
    "img_three_col0 = three[0:1,:].reshape(16,16).T;\n",
    "img_eight_col0 = eight[0:1,:].reshape(16,16).T;\n",
    "plt.figure();\n",
    "plt.imshow(img_three_col0, cmap = 'gray');\n",
    "plt.title('The first line or three.txt');\n",
    "plt.show();\n",
    "\n",
    "plt.figure();\n",
    "plt.imshow(img_eight_col0, cmap = 'gray');\n",
    "plt.title('The first line or eight.txt');\n",
    "plt.show();"
   ]
  },
  {
   "cell_type": "markdown",
   "metadata": {},
   "source": [
    "```2).```"
   ]
  },
  {
   "cell_type": "code",
   "execution_count": 4,
   "metadata": {},
   "outputs": [
    {
     "data": {
      "image/png": "[encoded data removed]",
      "text/plain": [
       "<Figure size 432x288 with 1 Axes>"
      ]
     },
     "metadata": {
      "needs_background": "light"
     },
     "output_type": "display_data"
    }
   ],
   "source": [
    "X = np.vstack((three, eight));\n",
    "y = X.mean(axis = 0);\n",
    "plt.figure();\n",
    "plt.imshow(np.reshape(y,(16,16)).T, cmap = 'gray');\n",
    "plt.title(\"sample mean\");\n",
    "plt.show();"
   ]
  },
  {
   "cell_type": "markdown",
   "metadata": {},
   "source": [
    "```3).```"
   ]
  },
  {
   "cell_type": "code",
   "execution_count": 5,
   "metadata": {},
   "outputs": [
    {
     "name": "stdout",
     "output_type": "stream",
     "text": [
      "[[  59.16729323  142.14943609   28.68201754   -7.17857143  -14.3358396 ]\n",
      " [ 142.14943609  878.93879073  374.13731203   24.12778195  -87.12781955]\n",
      " [  28.68201754  374.13731203 1082.9058584   555.2268797    33.72431078]\n",
      " [  -7.17857143   24.12778195  555.2268797  1181.24408521  777.77192982]\n",
      " [ -14.3358396   -87.12781955   33.72431078  777.77192982 1429.95989975]]\n"
     ]
    }
   ],
   "source": [
    "X_centered = X - np.reshape(y, (1,-1));\n",
    "S = X_centered.T.dot(X_centered) / (len(X_centered)-1);\n",
    "print(S[0:5, 0:5]); ## showing the submatrix"
   ]
  },
  {
   "cell_type": "markdown",
   "metadata": {},
   "source": [
    "```4).```"
   ]
  },
  {
   "cell_type": "code",
   "execution_count": 26,
   "metadata": {},
   "outputs": [
    {
     "name": "stdout",
     "output_type": "stream",
     "text": [
      "The greatest two eigen values are:\n",
      " 2.3716e+05, 1.4519e+05\n"
     ]
    }
   ],
   "source": [
    "eigen_val, eigen_vec = np.linalg.eig(S);\n",
    "eigen_val1 = eigen_val[0];\n",
    "eigen_val2 = eigen_val[1];\n",
    "#eigen_vec1 = eigen_vec[0,:];\n",
    "#eigen_vec2 = eigen_vec[1,:];\n",
    "eigen_vec1 = eigen_vec[:,0];\n",
    "eigen_vec2 = eigen_vec[:,1];\n",
    "print(\"The greatest two eigen values are:\\n %.4e, %.4e\" %(eigen_val1, eigen_val2));\n",
    "#print(np.max(eigen_val))"
   ]
  },
  {
   "cell_type": "code",
   "execution_count": 39,
   "metadata": {},
   "outputs": [],
   "source": [
    "def vector2image(vec, r,c , title):\n",
    "    vec2 = vec - np.min(vec);\n",
    "    vec2 /= np.max(vec2);\n",
    "    vec2 = np.round(vec2 * 255);\n",
    "    \n",
    "    color_map = np.reshape(vec2, (r,c)).T;\n",
    "    plt.figure();\n",
    "    plt.imshow(color_map, cmap = 'gray');\n",
    "    plt.colorbar();\n",
    "    plt.title(title);\n",
    "    plt.show();"
   ]
  },
  {
   "cell_type": "code",
   "execution_count": 40,
   "metadata": {},
   "outputs": [
    {
     "data": {
      "image/png": "[encoded data removed]",
      "text/plain": [
       "<Figure size 432x288 with 2 Axes>"
      ]
     },
     "metadata": {
      "needs_background": "light"
     },
     "output_type": "display_data"
    },
    {
     "data": {
      "image/png": "[encoded data removed]",
      "text/plain": [
       "<Figure size 432x288 with 2 Axes>"
      ]
     },
     "metadata": {
      "needs_background": "light"
     },
     "output_type": "display_data"
    }
   ],
   "source": [
    "vector2image(eigen_vec1, 16,16, 'v1');\n",
    "vector2image(eigen_vec2, 16,16, 'v2');"
   ]
  },
  {
   "cell_type": "markdown",
   "metadata": {},
   "source": [
    "```5).```"
   ]
  },
  {
   "cell_type": "code",
   "execution_count": 33,
   "metadata": {},
   "outputs": [],
   "source": [
    "V = eigen_vec[:,:2];\n",
    "projection = X_centered.dot(V);"
   ]
  },
  {
   "cell_type": "code",
   "execution_count": 34,
   "metadata": {},
   "outputs": [
    {
     "name": "stdout",
     "output_type": "stream",
     "text": [
      "the resulting coordinates for the first line of three.txt is \n",
      "1.3621e+02,-2.4263e+02\n",
      "the resulting coordinates for the first line of eight.txt is \n",
      "-3.1269e+02,6.4957e+02\n"
     ]
    }
   ],
   "source": [
    "def array2str(array, digit=4):\n",
    "    string = '';\n",
    "    for i in range(len(array)):\n",
    "        title = '%.' + str(digit) +'e';\n",
    "        string += title%array[i];\n",
    "        if i < (len(array) -1):\n",
    "            string += ',';\n",
    "    return string;\n",
    "print(\"the resulting coordinates for the first line of three.txt is \\n\" + array2str(projection[0,:]))\n",
    "print(\"the resulting coordinates for the first line of eight.txt is \\n\" + array2str(projection[200,:]))"
   ]
  },
  {
   "cell_type": "code",
   "execution_count": 35,
   "metadata": {},
   "outputs": [
    {
     "data": {
      "text/plain": [
       "5.604755251922833e-09"
      ]
     },
     "execution_count": 35,
     "metadata": {},
     "output_type": "execute_result"
    }
   ],
   "source": [
    "# test if the eigen decomposition is correct\n",
    "np.sum(S - eigen_vec.dot(np.diag(eigen_val).dot(np.linalg.pinv(eigen_vec))))"
   ]
  },
  {
   "cell_type": "markdown",
   "metadata": {},
   "source": [
    "```6).```"
   ]
  },
  {
   "cell_type": "code",
   "execution_count": 36,
   "metadata": {},
   "outputs": [
    {
     "data": {
      "image/png": "[encoded data removed]",
      "text/plain": [
       "<Figure size 432x288 with 1 Axes>"
      ]
     },
     "metadata": {
      "needs_background": "light"
     },
     "output_type": "display_data"
    }
   ],
   "source": [
    "plt.figure();\n",
    "plt.scatter(projection[:200,0], projection[:200,1], c = \"r\", label = \"Three\");\n",
    "plt.scatter(projection[200:,0], projection[200:,1], c = \"b\", label = \"Eight\");\n",
    "plt.legend();\n",
    "plt.show();"
   ]
  },
  {
   "cell_type": "markdown",
   "metadata": {},
   "source": [
    "## 2. Q-Learning "
   ]
  },
  {
   "cell_type": "markdown",
   "metadata": {},
   "source": [
    "### 1)."
   ]
  },
  {
   "cell_type": "code",
   "execution_count": 60,
   "metadata": {},
   "outputs": [],
   "source": [
    "def Action(mu = 0.5):\n",
    "    a = np.sign(np.random.rand(1).item()-mu);\n",
    "    return int(a);\n",
    "\n",
    "epochs = 200;"
   ]
  },
  {
   "cell_type": "code",
   "execution_count": 61,
   "metadata": {},
   "outputs": [
    {
     "name": "stdout",
     "output_type": "stream",
     "text": [
      "{(1, 1): 9.465197882608184, (1, -1): 8.199260059970214, (-1, 1): 9.11069184663349, (-1, -1): 8.42990006842889}\n"
     ]
    }
   ],
   "source": [
    "gamma = 0.9;\n",
    "alpha = 0.5;\n",
    "\n",
    "# A is 1 B is -1 stay is 1 move is -1\n",
    "r = {1:1, -1:0};\n",
    "\n",
    "Q = {(1,1):0, (1,-1):0, (-1,1):0, (-1,-1): 0};\n",
    "#MaxQ = {(1,1):0, (1,-1):0, (-1,1):0, (-1,-1): 0};\n",
    "\n",
    "step = 0;\n",
    "s = 1;\n",
    "while step < epochs:\n",
    "    step += 1;\n",
    "    a = Action();\n",
    "    s1 = s*a;\n",
    "    Q[(s,a)] = (1-alpha) * Q[(s,a)] + alpha* (r[a] + gamma * max(Q[(s1,1)], Q[(s1,-1)]));\n",
    "    s = s1;\n",
    "    #print(Q)\n",
    "print(Q);    "
   ]
  },
  {
   "cell_type": "markdown",
   "metadata": {},
   "source": [
    "### 2)."
   ]
  },
  {
   "cell_type": "code",
   "execution_count": 62,
   "metadata": {},
   "outputs": [
    {
     "name": "stdout",
     "output_type": "stream",
     "text": [
      "{(1, 1): 9.989104692211523, (1, -1): 8.079634222655283, (-1, 1): 8.541560010643789, (-1, -1): 8.987023114710901}\n"
     ]
    }
   ],
   "source": [
    "gamma = 0.9;\n",
    "alpha = 0.5;\n",
    "\n",
    "# A is 1 B is -1 stay is 1 move is -1\n",
    "r = {1:1, -1:0};\n",
    "\n",
    "Q = {(1,1):0, (1,-1):0, (-1,1):0, (-1,-1): 0};\n",
    "#MaxQ = {(1,1):0, (1,-1):0, (-1,1):0, (-1,-1): 0};\n",
    "step = 0;\n",
    "s = 1;\n",
    "while step < epochs:\n",
    "    step += 1;\n",
    "    eps = Action(0.5);\n",
    "    if eps == -1:\n",
    "        a = Action();\n",
    "    else:\n",
    "        if Q[(s,1)] >  Q[(s,-1)]:\n",
    "            a = 1;\n",
    "        elif Q[(s,1)] <  Q[(s,-1)]:\n",
    "            a = -1;\n",
    "        else:\n",
    "            a = Action();\n",
    "    \n",
    "    s1 = s*a;\n",
    "    Q[(s,a)] = (1-alpha) * Q[(s,a)] + alpha* (r[a] + gamma * max(Q[(s1,1)], Q[(s1,-1)]));\n",
    "    s = s1;\n",
    "    #print(Q)\n",
    "print(Q);    \n"
   ]
  },
  {
   "cell_type": "markdown",
   "metadata": {},
   "source": [
    "### 3)."
   ]
  },
  {
   "cell_type": "code",
   "execution_count": 63,
   "metadata": {},
   "outputs": [
    {
     "name": "stdout",
     "output_type": "stream",
     "text": [
      "{(1, 1): 9.999649473337515, (1, -1): 0, (-1, 1): 0, (-1, -1): 0}\n"
     ]
    }
   ],
   "source": [
    "gamma = 0.9;\n",
    "alpha = 0.5;\n",
    "\n",
    "# A is 1 B is -1 stay is 1 move is -1\n",
    "r = {1:1, -1:0};\n",
    "\n",
    "Q = {(1,1):0, (1,-1):0, (-1,1):0, (-1,-1): 0};\n",
    "#MaxQ = {(1,1):0, (1,-1):0, (-1,1):0, (-1,-1): 0};\n",
    "step = 0;\n",
    "s = 1;\n",
    "while step < epochs:\n",
    "    step += 1;\n",
    "    Q_stay = (1-alpha) * Q[(s,1)] + alpha* (r[1] + gamma * max(Q[(s1,1)], Q[(s1,-1)]));\n",
    "    Q_move = (1-alpha) * Q[(s,-1)] + alpha* (r[-1] + gamma * max(Q[(s1,1)], Q[(s1,-1)]));\n",
    "    if Q_stay > Q_move:\n",
    "        a = 1;\n",
    "        Q[(s,a)] = Q_stay;\n",
    "    elif Q_stay <= Q_move:\n",
    "        a = -1;\n",
    "        Q[(s,a)] = Q_move;\n",
    "    s1 = s*a;\n",
    "    #Q[(s,a)] = (1-alpha) * Q[(s,a)] + alpha* (r[a] + gamma * max(Q[(s1,1)], Q[(s1,-1)]));\n",
    "    s = s1;\n",
    "    #print(Q)\n",
    "print(Q); "
   ]
  },
  {
   "cell_type": "markdown",
   "metadata": {},
   "source": [
    "### 4)."
   ]
  },
  {
   "cell_type": "code",
   "execution_count": null,
   "metadata": {},
   "outputs": [],
   "source": []
  }
 ],
 "metadata": {
  "kernelspec": {
   "display_name": "Python 3",
   "language": "python",
   "name": "python3"
  },
  "language_info": {
   "codemirror_mode": {
    "name": "ipython",
    "version": 3
   },
   "file_extension": ".py",
   "mimetype": "text/x-python",
   "name": "python",
   "nbconvert_exporter": "python",
   "pygments_lexer": "ipython3",
   "version": "3.7.4"
  }
 },
 "nbformat": 4,
 "nbformat_minor": 4
}
