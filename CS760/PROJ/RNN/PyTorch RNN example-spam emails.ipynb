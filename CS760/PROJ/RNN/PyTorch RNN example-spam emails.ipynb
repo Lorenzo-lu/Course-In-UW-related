{
 "cells": [
  {
   "cell_type": "markdown",
   "metadata": {
    "colab_type": "text",
    "id": "-kKeUeSVRize"
   },
   "source": [
    "```[Lorenzo]```  \n",
    "This is a test of using LSTM classifying the spam emails!!!!   \n",
    "First, transform the data into numerical form!"
   ]
  },
  {
   "cell_type": "code",
   "execution_count": 1,
   "metadata": {
    "colab": {},
    "colab_type": "code",
    "id": "Uzuub_A2REHI"
   },
   "outputs": [],
   "source": [
    "## first get the data!\n",
    "# !wget http://lazyprogrammer.me/course_files/spam.csv"
   ]
  },
  {
   "cell_type": "code",
   "execution_count": 2,
   "metadata": {
    "colab": {},
    "colab_type": "code",
    "id": "YTbXqU0DRacq"
   },
   "outputs": [],
   "source": [
    "import torch;\n",
    "import torch.nn as nn;\n",
    "import torchtext.data as ttd;\n",
    "from torchtext.vocab import GloVe;\n",
    "\n",
    "import numpy as np;\n",
    "import matplotlib.pyplot as plt;\n",
    "import pandas as pd;\n",
    "from datetime import datetime;"
   ]
  },
  {
   "cell_type": "code",
   "execution_count": 3,
   "metadata": {
    "colab": {
     "base_uri": "https://localhost:8080/",
     "height": 195
    },
    "colab_type": "code",
    "executionInfo": {
     "elapsed": 1151,
     "status": "ok",
     "timestamp": 1587751157098,
     "user": {
      "displayName": "YIZHOU LU",
      "photoUrl": "",
      "userId": "12883021123371670841"
     },
     "user_tz": 300
    },
    "id": "aeg_gO7bSUlE",
    "outputId": "28728a4d-ecb4-4a70-aa1e-ffcfc67834b1"
   },
   "outputs": [
    {
     "data": {
      "text/html": [
       "<div>\n",
       "<style scoped>\n",
       "    .dataframe tbody tr th:only-of-type {\n",
       "        vertical-align: middle;\n",
       "    }\n",
       "\n",
       "    .dataframe tbody tr th {\n",
       "        vertical-align: top;\n",
       "    }\n",
       "\n",
       "    .dataframe thead th {\n",
       "        text-align: right;\n",
       "    }\n",
       "</style>\n",
       "<table border=\"1\" class=\"dataframe\">\n",
       "  <thead>\n",
       "    <tr style=\"text-align: right;\">\n",
       "      <th></th>\n",
       "      <th>v1</th>\n",
       "      <th>v2</th>\n",
       "      <th>Unnamed: 2</th>\n",
       "      <th>Unnamed: 3</th>\n",
       "      <th>Unnamed: 4</th>\n",
       "    </tr>\n",
       "  </thead>\n",
       "  <tbody>\n",
       "    <tr>\n",
       "      <td>0</td>\n",
       "      <td>ham</td>\n",
       "      <td>Go until jurong point, crazy.. Available only ...</td>\n",
       "      <td>NaN</td>\n",
       "      <td>NaN</td>\n",
       "      <td>NaN</td>\n",
       "    </tr>\n",
       "    <tr>\n",
       "      <td>1</td>\n",
       "      <td>ham</td>\n",
       "      <td>Ok lar... Joking wif u oni...</td>\n",
       "      <td>NaN</td>\n",
       "      <td>NaN</td>\n",
       "      <td>NaN</td>\n",
       "    </tr>\n",
       "    <tr>\n",
       "      <td>2</td>\n",
       "      <td>spam</td>\n",
       "      <td>Free entry in 2 a wkly comp to win FA Cup fina...</td>\n",
       "      <td>NaN</td>\n",
       "      <td>NaN</td>\n",
       "      <td>NaN</td>\n",
       "    </tr>\n",
       "    <tr>\n",
       "      <td>3</td>\n",
       "      <td>ham</td>\n",
       "      <td>U dun say so early hor... U c already then say...</td>\n",
       "      <td>NaN</td>\n",
       "      <td>NaN</td>\n",
       "      <td>NaN</td>\n",
       "    </tr>\n",
       "    <tr>\n",
       "      <td>4</td>\n",
       "      <td>ham</td>\n",
       "      <td>Nah I don't think he goes to usf, he lives aro...</td>\n",
       "      <td>NaN</td>\n",
       "      <td>NaN</td>\n",
       "      <td>NaN</td>\n",
       "    </tr>\n",
       "  </tbody>\n",
       "</table>\n",
       "</div>"
      ],
      "text/plain": [
       "     v1                                                 v2 Unnamed: 2  \\\n",
       "0   ham  Go until jurong point, crazy.. Available only ...        NaN   \n",
       "1   ham                      Ok lar... Joking wif u oni...        NaN   \n",
       "2  spam  Free entry in 2 a wkly comp to win FA Cup fina...        NaN   \n",
       "3   ham  U dun say so early hor... U c already then say...        NaN   \n",
       "4   ham  Nah I don't think he goes to usf, he lives aro...        NaN   \n",
       "\n",
       "  Unnamed: 3 Unnamed: 4  \n",
       "0        NaN        NaN  \n",
       "1        NaN        NaN  \n",
       "2        NaN        NaN  \n",
       "3        NaN        NaN  \n",
       "4        NaN        NaN  "
      ]
     },
     "execution_count": 3,
     "metadata": {},
     "output_type": "execute_result"
    }
   ],
   "source": [
    "df = pd.read_csv('C://Yizhou_coding//Coursework//2020 SP course//CS 760//Project//GitHub//0_group work//datset//spam.csv', encoding = \"ISO-8859-1\");\n",
    "df.head()"
   ]
  },
  {
   "cell_type": "code",
   "execution_count": 4,
   "metadata": {
    "colab": {
     "base_uri": "https://localhost:8080/",
     "height": 195
    },
    "colab_type": "code",
    "executionInfo": {
     "elapsed": 1145,
     "status": "ok",
     "timestamp": 1587751157099,
     "user": {
      "displayName": "YIZHOU LU",
      "photoUrl": "",
      "userId": "12883021123371670841"
     },
     "user_tz": 300
    },
    "id": "INK38PhiUwiY",
    "outputId": "a130ff44-4927-49ed-fa1a-f2424f3e9cf3"
   },
   "outputs": [
    {
     "data": {
      "text/html": [
       "<div>\n",
       "<style scoped>\n",
       "    .dataframe tbody tr th:only-of-type {\n",
       "        vertical-align: middle;\n",
       "    }\n",
       "\n",
       "    .dataframe tbody tr th {\n",
       "        vertical-align: top;\n",
       "    }\n",
       "\n",
       "    .dataframe thead th {\n",
       "        text-align: right;\n",
       "    }\n",
       "</style>\n",
       "<table border=\"1\" class=\"dataframe\">\n",
       "  <thead>\n",
       "    <tr style=\"text-align: right;\">\n",
       "      <th></th>\n",
       "      <th>v1</th>\n",
       "      <th>v2</th>\n",
       "    </tr>\n",
       "  </thead>\n",
       "  <tbody>\n",
       "    <tr>\n",
       "      <td>0</td>\n",
       "      <td>ham</td>\n",
       "      <td>Go until jurong point, crazy.. Available only ...</td>\n",
       "    </tr>\n",
       "    <tr>\n",
       "      <td>1</td>\n",
       "      <td>ham</td>\n",
       "      <td>Ok lar... Joking wif u oni...</td>\n",
       "    </tr>\n",
       "    <tr>\n",
       "      <td>2</td>\n",
       "      <td>spam</td>\n",
       "      <td>Free entry in 2 a wkly comp to win FA Cup fina...</td>\n",
       "    </tr>\n",
       "    <tr>\n",
       "      <td>3</td>\n",
       "      <td>ham</td>\n",
       "      <td>U dun say so early hor... U c already then say...</td>\n",
       "    </tr>\n",
       "    <tr>\n",
       "      <td>4</td>\n",
       "      <td>ham</td>\n",
       "      <td>Nah I don't think he goes to usf, he lives aro...</td>\n",
       "    </tr>\n",
       "  </tbody>\n",
       "</table>\n",
       "</div>"
      ],
      "text/plain": [
       "     v1                                                 v2\n",
       "0   ham  Go until jurong point, crazy.. Available only ...\n",
       "1   ham                      Ok lar... Joking wif u oni...\n",
       "2  spam  Free entry in 2 a wkly comp to win FA Cup fina...\n",
       "3   ham  U dun say so early hor... U c already then say...\n",
       "4   ham  Nah I don't think he goes to usf, he lives aro..."
      ]
     },
     "execution_count": 4,
     "metadata": {},
     "output_type": "execute_result"
    }
   ],
   "source": [
    "df = df.drop([\"Unnamed: 2\", \"Unnamed: 3\", \"Unnamed: 4\"], axis = 1);\n",
    "df.head()"
   ]
  },
  {
   "cell_type": "code",
   "execution_count": 5,
   "metadata": {
    "colab": {
     "base_uri": "https://localhost:8080/",
     "height": 195
    },
    "colab_type": "code",
    "executionInfo": {
     "elapsed": 1137,
     "status": "ok",
     "timestamp": 1587751157099,
     "user": {
      "displayName": "YIZHOU LU",
      "photoUrl": "",
      "userId": "12883021123371670841"
     },
     "user_tz": 300
    },
    "id": "9ZLn4-nDNWvy",
    "outputId": "55bdd733-9d72-4bc3-d0a7-2b3d990ec332"
   },
   "outputs": [
    {
     "data": {
      "text/html": [
       "<div>\n",
       "<style scoped>\n",
       "    .dataframe tbody tr th:only-of-type {\n",
       "        vertical-align: middle;\n",
       "    }\n",
       "\n",
       "    .dataframe tbody tr th {\n",
       "        vertical-align: top;\n",
       "    }\n",
       "\n",
       "    .dataframe thead th {\n",
       "        text-align: right;\n",
       "    }\n",
       "</style>\n",
       "<table border=\"1\" class=\"dataframe\">\n",
       "  <thead>\n",
       "    <tr style=\"text-align: right;\">\n",
       "      <th></th>\n",
       "      <th>labels</th>\n",
       "      <th>data</th>\n",
       "    </tr>\n",
       "  </thead>\n",
       "  <tbody>\n",
       "    <tr>\n",
       "      <td>0</td>\n",
       "      <td>ham</td>\n",
       "      <td>Go until jurong point, crazy.. Available only ...</td>\n",
       "    </tr>\n",
       "    <tr>\n",
       "      <td>1</td>\n",
       "      <td>ham</td>\n",
       "      <td>Ok lar... Joking wif u oni...</td>\n",
       "    </tr>\n",
       "    <tr>\n",
       "      <td>2</td>\n",
       "      <td>spam</td>\n",
       "      <td>Free entry in 2 a wkly comp to win FA Cup fina...</td>\n",
       "    </tr>\n",
       "    <tr>\n",
       "      <td>3</td>\n",
       "      <td>ham</td>\n",
       "      <td>U dun say so early hor... U c already then say...</td>\n",
       "    </tr>\n",
       "    <tr>\n",
       "      <td>4</td>\n",
       "      <td>ham</td>\n",
       "      <td>Nah I don't think he goes to usf, he lives aro...</td>\n",
       "    </tr>\n",
       "  </tbody>\n",
       "</table>\n",
       "</div>"
      ],
      "text/plain": [
       "  labels                                               data\n",
       "0    ham  Go until jurong point, crazy.. Available only ...\n",
       "1    ham                      Ok lar... Joking wif u oni...\n",
       "2   spam  Free entry in 2 a wkly comp to win FA Cup fina...\n",
       "3    ham  U dun say so early hor... U c already then say...\n",
       "4    ham  Nah I don't think he goes to usf, he lives aro..."
      ]
     },
     "execution_count": 5,
     "metadata": {},
     "output_type": "execute_result"
    }
   ],
   "source": [
    "df.columns = ['labels', 'data'];\n",
    "df.head()"
   ]
  },
  {
   "cell_type": "code",
   "execution_count": 6,
   "metadata": {
    "colab": {
     "base_uri": "https://localhost:8080/",
     "height": 195
    },
    "colab_type": "code",
    "executionInfo": {
     "elapsed": 1131,
     "status": "ok",
     "timestamp": 1587751157100,
     "user": {
      "displayName": "YIZHOU LU",
      "photoUrl": "",
      "userId": "12883021123371670841"
     },
     "user_tz": 300
    },
    "id": "Lvye58flOYyB",
    "outputId": "f6d91980-15f0-4b0a-e79c-18e20c88d67b"
   },
   "outputs": [
    {
     "data": {
      "text/html": [
       "<div>\n",
       "<style scoped>\n",
       "    .dataframe tbody tr th:only-of-type {\n",
       "        vertical-align: middle;\n",
       "    }\n",
       "\n",
       "    .dataframe tbody tr th {\n",
       "        vertical-align: top;\n",
       "    }\n",
       "\n",
       "    .dataframe thead th {\n",
       "        text-align: right;\n",
       "    }\n",
       "</style>\n",
       "<table border=\"1\" class=\"dataframe\">\n",
       "  <thead>\n",
       "    <tr style=\"text-align: right;\">\n",
       "      <th></th>\n",
       "      <th>labels</th>\n",
       "      <th>data</th>\n",
       "      <th>binary_labels</th>\n",
       "    </tr>\n",
       "  </thead>\n",
       "  <tbody>\n",
       "    <tr>\n",
       "      <td>0</td>\n",
       "      <td>ham</td>\n",
       "      <td>Go until jurong point, crazy.. Available only ...</td>\n",
       "      <td>0</td>\n",
       "    </tr>\n",
       "    <tr>\n",
       "      <td>1</td>\n",
       "      <td>ham</td>\n",
       "      <td>Ok lar... Joking wif u oni...</td>\n",
       "      <td>0</td>\n",
       "    </tr>\n",
       "    <tr>\n",
       "      <td>2</td>\n",
       "      <td>spam</td>\n",
       "      <td>Free entry in 2 a wkly comp to win FA Cup fina...</td>\n",
       "      <td>1</td>\n",
       "    </tr>\n",
       "    <tr>\n",
       "      <td>3</td>\n",
       "      <td>ham</td>\n",
       "      <td>U dun say so early hor... U c already then say...</td>\n",
       "      <td>0</td>\n",
       "    </tr>\n",
       "    <tr>\n",
       "      <td>4</td>\n",
       "      <td>ham</td>\n",
       "      <td>Nah I don't think he goes to usf, he lives aro...</td>\n",
       "      <td>0</td>\n",
       "    </tr>\n",
       "  </tbody>\n",
       "</table>\n",
       "</div>"
      ],
      "text/plain": [
       "  labels                                               data  binary_labels\n",
       "0    ham  Go until jurong point, crazy.. Available only ...              0\n",
       "1    ham                      Ok lar... Joking wif u oni...              0\n",
       "2   spam  Free entry in 2 a wkly comp to win FA Cup fina...              1\n",
       "3    ham  U dun say so early hor... U c already then say...              0\n",
       "4    ham  Nah I don't think he goes to usf, he lives aro...              0"
      ]
     },
     "execution_count": 6,
     "metadata": {},
     "output_type": "execute_result"
    }
   ],
   "source": [
    "## create binary labels\n",
    "df['binary_labels'] = df['labels'].map({'ham': 0, 'spam':1});\n",
    "df.head()"
   ]
  },
  {
   "cell_type": "code",
   "execution_count": 7,
   "metadata": {
    "colab": {
     "base_uri": "https://localhost:8080/",
     "height": 195
    },
    "colab_type": "code",
    "executionInfo": {
     "elapsed": 1124,
     "status": "ok",
     "timestamp": 1587751157100,
     "user": {
      "displayName": "YIZHOU LU",
      "photoUrl": "",
      "userId": "12883021123371670841"
     },
     "user_tz": 300
    },
    "id": "a1UDa7mkO1Zr",
    "outputId": "9cb0dd27-45ba-4d46-b3aa-c39d2a05da73"
   },
   "outputs": [
    {
     "data": {
      "text/html": [
       "<div>\n",
       "<style scoped>\n",
       "    .dataframe tbody tr th:only-of-type {\n",
       "        vertical-align: middle;\n",
       "    }\n",
       "\n",
       "    .dataframe tbody tr th {\n",
       "        vertical-align: top;\n",
       "    }\n",
       "\n",
       "    .dataframe thead th {\n",
       "        text-align: right;\n",
       "    }\n",
       "</style>\n",
       "<table border=\"1\" class=\"dataframe\">\n",
       "  <thead>\n",
       "    <tr style=\"text-align: right;\">\n",
       "      <th></th>\n",
       "      <th>data</th>\n",
       "      <th>binary_labels</th>\n",
       "    </tr>\n",
       "  </thead>\n",
       "  <tbody>\n",
       "    <tr>\n",
       "      <td>0</td>\n",
       "      <td>Go until jurong point, crazy.. Available only ...</td>\n",
       "      <td>0</td>\n",
       "    </tr>\n",
       "    <tr>\n",
       "      <td>1</td>\n",
       "      <td>Ok lar... Joking wif u oni...</td>\n",
       "      <td>0</td>\n",
       "    </tr>\n",
       "    <tr>\n",
       "      <td>2</td>\n",
       "      <td>Free entry in 2 a wkly comp to win FA Cup fina...</td>\n",
       "      <td>1</td>\n",
       "    </tr>\n",
       "    <tr>\n",
       "      <td>3</td>\n",
       "      <td>U dun say so early hor... U c already then say...</td>\n",
       "      <td>0</td>\n",
       "    </tr>\n",
       "    <tr>\n",
       "      <td>4</td>\n",
       "      <td>Nah I don't think he goes to usf, he lives aro...</td>\n",
       "      <td>0</td>\n",
       "    </tr>\n",
       "  </tbody>\n",
       "</table>\n",
       "</div>"
      ],
      "text/plain": [
       "                                                data  binary_labels\n",
       "0  Go until jurong point, crazy.. Available only ...              0\n",
       "1                      Ok lar... Joking wif u oni...              0\n",
       "2  Free entry in 2 a wkly comp to win FA Cup fina...              1\n",
       "3  U dun say so early hor... U c already then say...              0\n",
       "4  Nah I don't think he goes to usf, he lives aro...              0"
      ]
     },
     "execution_count": 7,
     "metadata": {},
     "output_type": "execute_result"
    }
   ],
   "source": [
    "## create new data frame\n",
    "#df2 = df[['data','binary_labels']];\n",
    "df2 = df[df.columns[1:3]];\n",
    "df2.head()"
   ]
  },
  {
   "cell_type": "code",
   "execution_count": 8,
   "metadata": {
    "colab": {},
    "colab_type": "code",
    "id": "GHHhLPI3PSnl"
   },
   "outputs": [],
   "source": [
    "df2.to_csv('spam2.csv', index = False);"
   ]
  },
  {
   "cell_type": "code",
   "execution_count": 9,
   "metadata": {
    "colab": {
     "base_uri": "https://localhost:8080/",
     "height": 52
    },
    "colab_type": "code",
    "executionInfo": {
     "elapsed": 1411,
     "status": "ok",
     "timestamp": 1587751157398,
     "user": {
      "displayName": "YIZHOU LU",
      "photoUrl": "",
      "userId": "12883021123371670841"
     },
     "user_tz": 300
    },
    "id": "NgVTjiPjPpsU",
    "outputId": "a5565524-dc4e-4fc5-fdd6-6082cad892fa"
   },
   "outputs": [
    {
     "name": "stdout",
     "output_type": "stream",
     "text": [
      "12323\n",
      "cpu\n"
     ]
    }
   ],
   "source": [
    "## implement the object\n",
    "TEXT = ttd.Field(\n",
    "    sequential = True,\n",
    "    batch_first = True,\n",
    "    lower = True,\n",
    "    #tokenize = 'spacy',\n",
    "    pad_first = True\n",
    ")\n",
    "LABEL = ttd.Field(sequential = False, use_vocab = False, is_target = True);\n",
    "dataset = ttd.TabularDataset(path = 'spam2.csv', format = 'csv',\n",
    "                             skip_header = True,\n",
    "                             fields = [('data', TEXT),('label', LABEL)] \n",
    "                             ## it will generate an obj dattset.example.data\n",
    "                             ## and an obj dattset.example.label\n",
    "                             );\n",
    "\n",
    "train_dataset, test_dataset = dataset.split(0.85);## default 0.7 here\n",
    "TEXT.build_vocab(train_dataset);\n",
    "vocab = TEXT.vocab;\n",
    "print(len(vocab))\n",
    "#vocab.stoi\n",
    "device = torch.device(\"cuda:0\" if torch.cuda.is_available() else \"cpu\");\n",
    "print(device);"
   ]
  },
  {
   "cell_type": "code",
   "execution_count": 10,
   "metadata": {
    "colab": {
     "base_uri": "https://localhost:8080/",
     "height": 263
    },
    "colab_type": "code",
    "executionInfo": {
     "elapsed": 4623,
     "status": "ok",
     "timestamp": 1587751160618,
     "user": {
      "displayName": "YIZHOU LU",
      "photoUrl": "",
      "userId": "12883021123371670841"
     },
     "user_tz": 300
    },
    "id": "cT6HmbIXRqWE",
    "outputId": "762067b9-13c4-4b67-9457-814bf8e7b531"
   },
   "outputs": [
    {
     "name": "stdout",
     "output_type": "stream",
     "text": [
      "4736\n",
      "836\n",
      "0 torch.Size([32, 32])\n",
      "1 torch.Size([32, 52])\n",
      "2 torch.Size([32, 38])\n",
      "3 torch.Size([32, 52])\n",
      "4 torch.Size([32, 33])\n",
      "10 torch.Size([32, 30])\n",
      "20 torch.Size([32, 32])\n",
      "30 torch.Size([32, 39])\n",
      "40 torch.Size([32, 32])\n",
      "148\n",
      "0 torch.Size([836, 96])\n",
      "1\n"
     ]
    }
   ],
   "source": [
    "train_iter, test_iter = ttd.Iterator.splits(\n",
    "    (train_dataset, test_dataset), \n",
    "    sort_key = lambda x: len(x.data), ## x is this object\n",
    "    batch_sizes = (32,1000),\n",
    "    device = device\n",
    "    );\n",
    "print(len(train_dataset));\n",
    "print(len(test_dataset))\n",
    "printlist = [0,1,2,3,4,10,20,30,40];\n",
    "ind = 0;\n",
    "for inputs, targets in train_iter:\n",
    "    #print(inputs,'\\n',targets);\n",
    "    #break;\n",
    "    if ind in printlist:\n",
    "        print(ind, inputs.shape);\n",
    "    ind += 1;\n",
    "print(ind)\n",
    "\n",
    "ind = 0;\n",
    "for inputs, targets in test_iter:\n",
    "    #print(inputs,'\\n',targets);\n",
    "    #break;\n",
    "    if ind in printlist:\n",
    "        print(ind, inputs.shape);\n",
    "    ind += 1;\n",
    "print(ind)"
   ]
  },
  {
   "cell_type": "markdown",
   "metadata": {
    "colab_type": "text",
    "id": "S4PqOPdvSk49"
   },
   "source": [
    "```[Lorenzo]```  \n",
    "# Build the RNN model!"
   ]
  },
  {
   "cell_type": "code",
   "execution_count": 11,
   "metadata": {
    "colab": {},
    "colab_type": "code",
    "id": "7X6xhzbXSg-o"
   },
   "outputs": [],
   "source": [
    "class RNN(nn.Module):\n",
    "    def __init__(self, n_vocab, embed_dim, n_hidden, n_rnnlayers, n_outputs):\n",
    "        super(RNN,self).__init__();\n",
    "        self.V = n_vocab;\n",
    "        self.D = embed_dim;\n",
    "        self.M = n_hidden;\n",
    "        self.K = n_outputs;\n",
    "        self.L = n_rnnlayers;\n",
    "\n",
    "        self.embed = nn.Embedding(self.V, self.D);\n",
    "        self.rnn = nn.LSTM(\n",
    "            input_size = self.D,\n",
    "            hidden_size = self.M,\n",
    "            num_layers = self.L,\n",
    "            batch_first = True,\n",
    "            dropout = 0.25\n",
    "        );\n",
    "\n",
    "        self.fc = nn.Linear(self.M,self.K);\n",
    "\n",
    "    def forward(self, X):\n",
    "        ## init hidden states\n",
    "        h0 = torch.zeros(self.L, X.size(0), self.M).to(device);\n",
    "        c0 = torch.zeros(self.L, X.size(0), self.M).to(device);\n",
    "\n",
    "        ## embedding layer\n",
    "        ## words index 2 into word vectors\n",
    "        out = self.embed(X);\n",
    "\n",
    "        ## get rnn unit output\n",
    "        out,_ = self.rnn(out, (h0,c0));\n",
    "\n",
    "        ## max pool\n",
    "        out,_ = torch.max(out,1);\n",
    "        ## we only need h(T) finally\n",
    "        out = self.fc(out);\n",
    "        return out;\n",
    "\n",
    "import torch.nn.functional as F;\n",
    "class CNN(nn.Module):\n",
    "    def __init__(self, n_vocab, embed_dim, n_outputs):\n",
    "        super(CNN,self).__init__();\n",
    "        self.V = n_vocab;\n",
    "        self.D = embed_dim;\n",
    "        self.K = n_outputs;\n",
    "\n",
    "        ## dropout\n",
    "        self.dropout = nn.Dropout(p = 0.25);\n",
    "\n",
    "        ##layers implement\n",
    "        self.embed = nn.Embedding(self.V, self.D);\n",
    "        ## embed layer output is [N T D];\n",
    "\n",
    "        self.conv1 = nn.Conv1d(self.D, 32, 3, padding=1);\n",
    "        ## conv layer 1 output is [N T M];\n",
    "\n",
    "        self.pool1 = nn.MaxPool1d(2);\n",
    "        ## max pooling layer 1 output is [N T2 M]\n",
    "\n",
    "        self.conv2 = nn.Conv1d(32, 64, 3, padding = 1);\n",
    "        ## conv layer 2 output is  [N T2 M2]\n",
    "\n",
    "        self.pool2 = nn.MaxPool1d(2);\n",
    "        ## max pooling layer 2 output is [N T3 M2];\n",
    "\n",
    "        self.conv3 = nn.Conv1d(64, 128,3, padding = 1);\n",
    "        ## conv layer 3 output is [N T3 M3]\n",
    "\n",
    "        # flattern / global max pool later \n",
    "        ## output [N M3]\n",
    "        self.fc = nn.Linear(128, self.K);\n",
    "\n",
    "        '''\n",
    "        in Torch, features come first\n",
    "        in TF/ NLP, features come last\n",
    "        \n",
    "        So Before and After Convolution layer, we HAVE to reshape! \n",
    "        '''\n",
    "    def forward(self,X):\n",
    "        ## input is [N T]\n",
    "        # embed layer\n",
    "        out = self.embed(X); ## output is [N T D]\n",
    "\n",
    "        out = out.permute(0,2,1); ## out is [N D T], feature first\n",
    "        out = self.conv1(out); ## out is [N M T]\n",
    "        out = F.relu(out); ## [N M T]\n",
    "        out = self.dropout(out);\n",
    "        out = self.pool1(out); ## out is [N M T2];\n",
    "\n",
    "        out = self.conv2(out); ## out is [N M2 T2]\n",
    "        out = F.relu(out); ## [N M2 T2]\n",
    "        out = self.dropout(out);\n",
    "        out = self.pool2(out); ## out is [N M2 T3];\n",
    "\n",
    "        out = self.conv3(out); ## [N M3 T3];\n",
    "        out = self.dropout(out);\n",
    "\n",
    "        out = out.permute(0,2,1); ## [N T3 M3];\n",
    "        out,_ = torch.max(out,1); ## [N M3]; Global Max pool\n",
    "\n",
    "        ## final dense layer\n",
    "        return self.fc(out);\n"
   ]
  },
  {
   "cell_type": "markdown",
   "metadata": {
    "colab_type": "text",
    "id": "_74yfZ7vQCSW"
   },
   "source": [
    "## This is RNN/LSTM or CNN model!"
   ]
  },
  {
   "cell_type": "code",
   "execution_count": 12,
   "metadata": {
    "colab": {},
    "colab_type": "code",
    "id": "OY-xcp_AWLqv"
   },
   "outputs": [],
   "source": [
    "'''\n",
    "expected output: \n",
    "RNN(\n",
    "    (embed): Embedding(14274, 20)\n",
    "    (rnn): LSTM(20,15, batch_first = True)\n",
    "    (fc): Linear(in_features = 15, out_features = 1, bias = True)\n",
    ");\n",
    "'''\n",
    "choice = 2;\n",
    "if choice == 1:\n",
    "    model = RNN(len(vocab), 20, 12,1,1 );\n",
    "    model.to(device);\n",
    "elif choice == 2:\n",
    "    model = CNN(len(vocab), 20,1 );\n",
    "    model.to(device);\n"
   ]
  },
  {
   "cell_type": "code",
   "execution_count": 13,
   "metadata": {
    "colab": {},
    "colab_type": "code",
    "id": "5TYMT2i2XL2V"
   },
   "outputs": [],
   "source": [
    "## Loss and optimizer\n",
    "criterion = nn.BCEWithLogitsLoss(); ## Python can even return a function\n",
    "optimizer = torch.optim.Adam(model.parameters(),lr=1e-3);\n",
    "\n",
    "def batch_gd(model, criterion, optimizer, train_iter, test_iter, epochs, print_epoch = 20):\n",
    "    train_losses = np.zeros(epochs);\n",
    "    test_losses = np.zeros(epochs);\n",
    "\n",
    "    for it in range(epochs):\n",
    "        if it%print_epoch  == 0:\n",
    "            t0 = datetime.now();\n",
    "        \n",
    "        train_loss = [];\n",
    "        \n",
    "        for inputs, targets in train_iter:\n",
    "            targets = targets.view(-1,1).float();\n",
    "            ## move data to GPU\n",
    "            inputs, targets  =  inputs.to(device), targets.to(device);\n",
    "\n",
    "            ## zero the parameter gradient\n",
    "            optimizer.zero_grad();\n",
    "\n",
    "            ## forward pass\n",
    "            outputs = model(inputs);\n",
    "            loss = criterion(outputs, targets);\n",
    "\n",
    "            ## back probagation\n",
    "            loss.backward();\n",
    "            optimizer.step();\n",
    "            train_loss.append(loss.item());\n",
    "\n",
    "        train_loss = np.mean(train_loss);\n",
    "\n",
    "        test_loss = [];\n",
    "        for inputs, targets in test_iter:\n",
    "            targets = targets.view(-1,1).float();\n",
    "            ## move data to GPU\n",
    "            ## inputs, targets  =  inputs.to(device), targets.to(device);\n",
    "\n",
    "            ## zero the parameter gradient\n",
    "            optimizer.zero_grad();\n",
    "\n",
    "            ## forward pass,  no need to back\n",
    "            outputs = model(inputs);\n",
    "            loss = criterion(outputs, targets);\n",
    "            test_loss.append(loss.item());\n",
    "        \n",
    "        test_loss = np.mean(test_loss);\n",
    "\n",
    "        train_losses[it] = train_loss;\n",
    "        test_losses[it] = test_loss;\n",
    "\n",
    "        if it%print_epoch  == 0:\n",
    "            dt = datetime.now() - t0;\n",
    "\n",
    "            print(\"Epoch (%d / %d)...Train Loss: %.3e...Test_loss: %.3e...Duration: %s\" \n",
    "                %(it, epochs, train_loss, test_loss, dt));\n",
    "\n",
    "\n",
    "    return train_losses, test_losses;\n",
    "\n"
   ]
  },
  {
   "cell_type": "code",
   "execution_count": 14,
   "metadata": {
    "colab": {
     "base_uri": "https://localhost:8080/",
     "height": 122
    },
    "colab_type": "code",
    "executionInfo": {
     "elapsed": 8661,
     "status": "ok",
     "timestamp": 1587751164674,
     "user": {
      "displayName": "YIZHOU LU",
      "photoUrl": "",
      "userId": "12883021123371670841"
     },
     "user_tz": 300
    },
    "id": "TzYbJKoZbYRI",
    "outputId": "17d62dad-f952-473c-d63e-b28f8f763593"
   },
   "outputs": [
    {
     "name": "stdout",
     "output_type": "stream",
     "text": [
      "Epoch (0 / 6)...Train Loss: 3.505e-01...Test_loss: 3.186e-01...Duration: 0:00:03.672176\n",
      "Epoch (1 / 6)...Train Loss: 2.106e-01...Test_loss: 1.680e-01...Duration: 0:00:03.635276\n",
      "Epoch (2 / 6)...Train Loss: 1.431e-01...Test_loss: 1.619e-01...Duration: 0:00:03.966391\n",
      "Epoch (3 / 6)...Train Loss: 1.078e-01...Test_loss: 1.099e-01...Duration: 0:00:03.702097\n",
      "Epoch (4 / 6)...Train Loss: 8.904e-02...Test_loss: 1.071e-01...Duration: 0:00:03.754956\n",
      "Epoch (5 / 6)...Train Loss: 6.818e-02...Test_loss: 8.679e-02...Duration: 0:00:04.140924\n"
     ]
    }
   ],
   "source": [
    "RNN_epochs = 15;\n",
    "CNN_epochs = 6;\n",
    "train_losses, test_losses = batch_gd(model, criterion, optimizer, train_iter, test_iter, CNN_epochs,1);"
   ]
  },
  {
   "cell_type": "code",
   "execution_count": 15,
   "metadata": {
    "colab": {
     "base_uri": "https://localhost:8080/",
     "height": 279
    },
    "colab_type": "code",
    "executionInfo": {
     "elapsed": 8657,
     "status": "ok",
     "timestamp": 1587751164675,
     "user": {
      "displayName": "YIZHOU LU",
      "photoUrl": "",
      "userId": "12883021123371670841"
     },
     "user_tz": 300
    },
    "id": "nLLuZWaqbbYp",
    "outputId": "5f6c501d-49ab-4d04-b3f9-d851977e50a4"
   },
   "outputs": [
    {
     "data": {
      "image/png": "[encoded data removed]",
      "text/plain": [
       "<Figure size 432x288 with 1 Axes>"
      ]
     },
     "metadata": {
      "needs_background": "light"
     },
     "output_type": "display_data"
    }
   ],
   "source": [
    "plt.figure();\n",
    "plt.step(range(len(train_losses)),train_losses, c = 'r', label = 'Train_Error');\n",
    "plt.step(range(len(test_losses)),test_losses, c = 'b', label  = 'Test_Error');\n",
    "plt.legend();\n",
    "plt.xlabel('Epochs');\n",
    "plt.ylabel('Loss');\n",
    "plt.show();"
   ]
  },
  {
   "cell_type": "code",
   "execution_count": 16,
   "metadata": {
    "colab": {
     "base_uri": "https://localhost:8080/",
     "height": 52
    },
    "colab_type": "code",
    "executionInfo": {
     "elapsed": 9045,
     "status": "ok",
     "timestamp": 1587751165069,
     "user": {
      "displayName": "YIZHOU LU",
      "photoUrl": "",
      "userId": "12883021123371670841"
     },
     "user_tz": 300
    },
    "id": "nZxJ7_HFoIs2",
    "outputId": "00fe614f-44a4-4c44-eb43-307854413079"
   },
   "outputs": [
    {
     "name": "stdout",
     "output_type": "stream",
     "text": [
      "Training Accuracy = 9.865e-01 \n",
      "Testing Accuracy = 9.713e-01\n"
     ]
    }
   ],
   "source": [
    "## Accuracy:\n",
    "n_correct = 0.0;\n",
    "n_total = 0.0;\n",
    "\n",
    "for inputs, targets in train_iter:\n",
    "    targets = targets.view(-1,1).float();\n",
    "    outputs = model(inputs);\n",
    "    prediction = (outputs > 0);\n",
    "\n",
    "    n_total += targets.shape[0];\n",
    "    n_correct += (targets == prediction).sum().item();\n",
    "\n",
    "train_acc = n_correct/n_total;\n",
    "\n",
    "n_correct = 0.0;\n",
    "n_total = 0.0;\n",
    "for inputs, targets in test_iter:\n",
    "    targets = targets.view(-1,1).float();\n",
    "    outputs = model(inputs);\n",
    "    prediction = (outputs > 0);\n",
    "\n",
    "    n_total += targets.shape[0];\n",
    "    n_correct += (targets == prediction).sum().item();\n",
    "\n",
    "test_acc = n_correct/n_total;\n",
    "\n",
    "print(\"Training Accuracy = %.3e \\nTesting Accuracy = %.3e\" %(train_acc,\n",
    "                                                             test_acc));\n",
    "    "
   ]
  },
  {
   "cell_type": "code",
   "execution_count": null,
   "metadata": {
    "colab": {},
    "colab_type": "code",
    "id": "evLvPb8yqpj6"
   },
   "outputs": [],
   "source": []
  },
  {
   "cell_type": "markdown",
   "metadata": {
    "colab_type": "text",
    "id": "R_dew0veQIec"
   },
   "source": [
    "## This is CNN model!"
   ]
  },
  {
   "cell_type": "code",
   "execution_count": 17,
   "metadata": {
    "colab": {},
    "colab_type": "code",
    "id": "4qACZcJVDwQt"
   },
   "outputs": [
    {
     "name": "stdout",
     "output_type": "stream",
     "text": [
      "Doing a classification with 2 label(s)!\n",
      "Epoch (0 / 5)...Train Loss: 3.510e-01...Test_loss: 2.531e-01...Duration: 4.507940053939819\n",
      "Epoch (1 / 5)...Train Loss: 2.032e-01...Test_loss: 1.722e-01...Duration: 8.711695671081543\n",
      "Epoch (2 / 5)...Train Loss: 1.361e-01...Test_loss: 1.196e-01...Duration: 12.774827718734741\n",
      "Epoch (3 / 5)...Train Loss: 1.018e-01...Test_loss: 1.094e-01...Duration: 16.756178617477417\n",
      "Epoch (4 / 5)...Train Loss: 8.172e-02...Test_loss: 1.021e-01...Duration: 20.777422666549683\n"
     ]
    },
    {
     "data": {
      "image/png": "[encoded data removed]",
      "text/plain": [
       "<Figure size 432x288 with 1 Axes>"
      ]
     },
     "metadata": {
      "needs_background": "light"
     },
     "output_type": "display_data"
    },
    {
     "name": "stdout",
     "output_type": "stream",
     "text": [
      "Training:\n",
      "The classification rate for this dataset is 97.6%\n",
      "Testing:\n",
      "The classification rate for this dataset is 96.6%\n"
     ]
    }
   ],
   "source": [
    "import YZ_nn_training_format\n",
    "from YZ_nn_training_format import YZ_torch_std;\n",
    "K_class = 2;\n",
    "model = CNN(len(vocab), 20, K_class);\n",
    "STD = YZ_torch_std(model, device, train_iter, test_iter, K_class = K_class);\n",
    "#STD.Optimizing(epochs = 5, plot_epoch = 1);\n",
    "STD.Optimizing2(epochs = 5, plot_epoch = 1);"
   ]
  },
  {
   "cell_type": "code",
   "execution_count": 18,
   "metadata": {},
   "outputs": [
    {
     "name": "stdout",
     "output_type": "stream",
     "text": [
      "Doing a classification with 2 label(s)!\n",
      "\n",
      "Yizhou said 欲速则不达，施主稍安勿躁: | ▒▒▒▒▒▒▒▒▒▒░░░░░░░░░░░░░░░░░░░░░░░░░░░░░░░░░░░░░░░░ | 20.0%\n",
      "Epoch (1 / 5)...Train_Loss: 3.457e-01...Test_loss: 2.361e-01...Duration: 4.130e+00 sec\n",
      "Yizhou said 欲速则不达，施主稍安勿躁: | ▒▒▒▒▒▒▒▒▒▒▒▒▒▒▒▒▒▒▒▒░░░░░░░░░░░░░░░░░░░░░░░░░░░░░░ | 40.0%\n",
      "Epoch (2 / 5)...Train_Loss: 1.942e-01...Test_loss: 1.593e-01...Duration: 8.191e+00 sec\n",
      "Yizhou said 欲速则不达，施主稍安勿躁: | ▒▒▒▒▒▒▒▒▒▒▒▒▒▒▒▒▒▒▒▒▒▒▒▒▒▒▒▒▒▒░░░░░░░░░░░░░░░░░░░░ | 60.0%\n",
      "Epoch (3 / 5)...Train_Loss: 1.367e-01...Test_loss: 1.441e-01...Duration: 1.223e+01 sec\n",
      "Yizhou said 欲速则不达，施主稍安勿躁: | ▒▒▒▒▒▒▒▒▒▒▒▒▒▒▒▒▒▒▒▒▒▒▒▒▒▒▒▒▒▒▒▒▒▒▒▒▒▒▒▒░░░░░░░░░░ | 80.0%\n",
      "Epoch (4 / 5)...Train_Loss: 1.058e-01...Test_loss: 1.262e-01...Duration: 1.647e+01 sec\n",
      "Yizhou said 欲速则不达，施主稍安勿躁: | ▒▒▒▒▒▒▒▒▒▒▒▒▒▒▒▒▒▒▒▒▒▒▒▒▒▒▒▒▒▒▒▒▒▒▒▒▒▒▒▒▒▒▒▒▒▒▒▒▒▒ | 100.0% (^_^)/ Done!\n",
      "Epoch (5 / 5)...Train_Loss: 7.782e-02...Test_loss: 1.183e-01...Duration: 2.087e+01 sec\n",
      "Yizhou said 欲速则不达，施主稍安勿躁: | ▒▒▒▒▒▒▒▒▒▒▒▒▒▒▒▒▒▒▒▒▒▒▒▒▒▒▒▒▒▒▒▒▒▒▒▒▒▒▒▒▒▒▒▒▒▒▒▒▒▒ | 100.0% (^_^)/ Done!"
     ]
    },
    {
     "data": {
      "image/png": "[encoded data removed]",
      "text/plain": [
       "<Figure size 432x288 with 1 Axes>"
      ]
     },
     "metadata": {
      "needs_background": "light"
     },
     "output_type": "display_data"
    },
    {
     "name": "stdout",
     "output_type": "stream",
     "text": [
      "Training:\n",
      "The classification rate for this dataset is 97.9%\n",
      "Testing:\n",
      "The classification rate for this dataset is 96.4%\n"
     ]
    }
   ],
   "source": [
    "import YZ_nn_training_format\n",
    "from YZ_nn_training_format import YZ_torch_std;\n",
    "K_class = 2;\n",
    "model = CNN(len(vocab), 20, K_class);\n",
    "STD = YZ_torch_std(model, device, train_iter, test_iter, K_class = K_class);\n",
    "STD.Optimizing(epochs = 5, plot_epoch = 1);\n",
    "#STD.Optimizing2(epochs = 5, plot_epoch = 1);"
   ]
  },
  {
   "cell_type": "code",
   "execution_count": 20,
   "metadata": {},
   "outputs": [
    {
     "data": {
      "image/png": "[encoded data removed]",
      "text/plain": [
       "<Figure size 432x288 with 1 Axes>"
      ]
     },
     "metadata": {
      "needs_background": "light"
     },
     "output_type": "display_data"
    }
   ],
   "source": [
    "plt.plot(train_losses, marker ='*');"
   ]
  },
  {
   "cell_type": "code",
   "execution_count": null,
   "metadata": {},
   "outputs": [],
   "source": []
  }
 ],
 "metadata": {
  "accelerator": "GPU",
  "colab": {
   "authorship_tag": "ABX9TyMC5i4Sr4ZyYFqnKkikQ8z2",
   "collapsed_sections": [],
   "name": "PyTorch RNN example-spam emails.ipynb",
   "provenance": [],
   "toc_visible": true
  },
  "kernelspec": {
   "display_name": "Python 3",
   "language": "python",
   "name": "python3"
  },
  "language_info": {
   "codemirror_mode": {
    "name": "ipython",
    "version": 3
   },
   "file_extension": ".py",
   "mimetype": "text/x-python",
   "name": "python",
   "nbconvert_exporter": "python",
   "pygments_lexer": "ipython3",
   "version": "3.7.4"
  }
 },
 "nbformat": 4,
 "nbformat_minor": 4
}
